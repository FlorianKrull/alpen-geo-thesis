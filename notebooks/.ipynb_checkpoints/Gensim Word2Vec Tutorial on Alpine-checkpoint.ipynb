{
 "cells": [
  {
   "cell_type": "code",
   "execution_count": 99,
   "metadata": {},
   "outputs": [
    {
     "name": "stdout",
     "output_type": "stream",
     "text": [
      "/bin/sh: 1: conda: not found\r\n"
     ]
    }
   ],
   "source": [
    "!conda install seaborn"
   ]
  },
  {
   "cell_type": "markdown",
   "metadata": {
    "_uuid": "7d96105f0c90bf052b2afdb684bf31549e1e6c81"
   },
   "source": [
    "# Briefing about Word2Vec:\n",
    "\n",
    "<img src=\"http://mccormickml.com/assets/word2vec/skip_gram_net_arch.png\" alt=\"drawing\" width=\"550\"/>\n",
    "\n",
    "[[1]](#References:)\n",
    "\n",
    "\n",
    "## Purpose of the tutorial:\n",
    "As I said before, this tutorial focuses on the right use of the Word2Vec package from the Gensim libray; therefore, I am not going to explain the concepts and ideas behind Word2Vec here. I am simply going to give a very brief explanation, and provide you with links to good, in depth tutorials.\n",
    "\n",
    "## Brief explanation:\n",
    "\n",
    "Word2Vec was introduced in two [papers](#Material-for-more-in-depths-understanding:) between September and October 2013, by a team of researchers at Google. Along with the papers, the researchers published their implementation in C. The Python implementation was done soon after the 1st paper, by [Gensim](https://radimrehurek.com/gensim/index.html). \n",
    "\n",
    "The underlying assumption of Word2Vec is that two words sharing similar contexts also share a similar meaning and consequently a similar vector representation from the model. For instance: \"dog\", \"puppy\" and \"pup\" are often used in similar situations, with similar surrounding words like \"good\", \"fluffy\" or \"cute\", and according to Word2Vec they will therefore share a similar vector representation.<br>\n",
    "\n",
    "From this assumption, Word2Vec can be used to find out the relations between words in a dataset, compute the similarity between them, or use the vector representation of those words as input for other applications such as text classification or clustering.\n",
    "\n",
    "# Getting Started\n",
    "\n",
    "## Setting up the environment:\n",
    "\n",
    "`python==3.6.3`\n",
    "\n",
    "Libraries used:\n",
    " * `xlrd==1.1.0`: https://pypi.org/project/xlrd/\n",
    " * `spaCy==2.0.12`: https://spacy.io/usage/\n",
    " * `gensim==3.4.0`: https://radimrehurek.com/gensim/install.html\n",
    " * `scikit-learn==0.19.1`: http://scikit-learn.org/stable/install.html\n",
    " * `seaborn==0.8`: https://seaborn.pydata.org/installing.html"
   ]
  },
  {
   "cell_type": "code",
   "execution_count": 1,
   "metadata": {
    "_uuid": "cc7b3e6ca62670ff13626705402f626778487204"
   },
   "outputs": [],
   "source": [
    "import re  # For preprocessing\n",
    "import pandas as pd  # For data handling\n",
    "from time import time  # To time our operations\n",
    "from collections import defaultdict  # For word frequency\n",
    "\n",
    "import spacy  # For preprocessing\n",
    "from spacy.lang.de import German\n",
    "\n",
    "from nltk import tokenize\n",
    "import nltk\n",
    "import logging  # Setting up the loggings to monitor gensim\n",
    "logging.basicConfig(format=\"%(levelname)s - %(asctime)s: %(message)s\", datefmt= '%H:%M:%S', level=logging.INFO)\n"
   ]
  },
  {
   "cell_type": "code",
   "execution_count": 2,
   "metadata": {},
   "outputs": [
    {
     "name": "stderr",
     "output_type": "stream",
     "text": [
      "[nltk_data] Downloading package punkt to /home/lateknight/nltk_data...\n",
      "[nltk_data]   Package punkt is already up-to-date!\n"
     ]
    },
    {
     "data": {
      "text/plain": [
       "True"
      ]
     },
     "execution_count": 2,
     "metadata": {},
     "output_type": "execute_result"
    }
   ],
   "source": [
    "nltk.download('punkt')"
   ]
  },
  {
   "cell_type": "code",
   "execution_count": 3,
   "metadata": {},
   "outputs": [],
   "source": [
    "file = open('../data/alpen/alpine_full_corpus_text.txt',encoding=\"utf-8\")\n",
    "text = file.read()"
   ]
  },
  {
   "cell_type": "code",
   "execution_count": 4,
   "metadata": {},
   "outputs": [],
   "source": [
    "sentence_data = tokenize.sent_tokenize(text)"
   ]
  },
  {
   "cell_type": "code",
   "execution_count": 5,
   "metadata": {},
   "outputs": [],
   "source": [
    "df = pd.DataFrame(sentence_data, columns = ['Sentences']) "
   ]
  },
  {
   "cell_type": "code",
   "execution_count": 6,
   "metadata": {},
   "outputs": [
    {
     "data": {
      "text/html": [
       "<div>\n",
       "<style scoped>\n",
       "    .dataframe tbody tr th:only-of-type {\n",
       "        vertical-align: middle;\n",
       "    }\n",
       "\n",
       "    .dataframe tbody tr th {\n",
       "        vertical-align: top;\n",
       "    }\n",
       "\n",
       "    .dataframe thead th {\n",
       "        text-align: right;\n",
       "    }\n",
       "</style>\n",
       "<table border=\"1\" class=\"dataframe\">\n",
       "  <thead>\n",
       "    <tr style=\"text-align: right;\">\n",
       "      <th></th>\n",
       "      <th>Sentences</th>\n",
       "    </tr>\n",
       "  </thead>\n",
       "  <tbody>\n",
       "    <tr>\n",
       "      <th>0</th>\n",
       "      <td>Der Deutsche Alpenverein hat es sich zur Aufga...</td>\n",
       "    </tr>\n",
       "    <tr>\n",
       "      <th>1</th>\n",
       "      <td>Ohne hier auf die Geschichte seiner Gründung e...</td>\n",
       "    </tr>\n",
       "    <tr>\n",
       "      <th>2</th>\n",
       "      <td>Grundgedanke war, der Deutsche Alpenverein sol...</td>\n",
       "    </tr>\n",
       "    <tr>\n",
       "      <th>3</th>\n",
       "      <td>Für sie alle soll der Deutsche Alpenverein das...</td>\n",
       "    </tr>\n",
       "    <tr>\n",
       "      <th>4</th>\n",
       "      <td>Er erhebt keine anderen Ansprüche an seine Mit...</td>\n",
       "    </tr>\n",
       "  </tbody>\n",
       "</table>\n",
       "</div>"
      ],
      "text/plain": [
       "                                           Sentences\n",
       "0  Der Deutsche Alpenverein hat es sich zur Aufga...\n",
       "1  Ohne hier auf die Geschichte seiner Gründung e...\n",
       "2  Grundgedanke war, der Deutsche Alpenverein sol...\n",
       "3  Für sie alle soll der Deutsche Alpenverein das...\n",
       "4  Er erhebt keine anderen Ansprüche an seine Mit..."
      ]
     },
     "execution_count": 6,
     "metadata": {},
     "output_type": "execute_result"
    }
   ],
   "source": [
    "df.head()"
   ]
  },
  {
   "cell_type": "code",
   "execution_count": 7,
   "metadata": {},
   "outputs": [
    {
     "data": {
      "text/plain": [
       "(16411, 1)"
      ]
     },
     "execution_count": 7,
     "metadata": {},
     "output_type": "execute_result"
    }
   ],
   "source": [
    "\n",
    "df.shape"
   ]
  },
  {
   "cell_type": "code",
   "execution_count": 8,
   "metadata": {},
   "outputs": [
    {
     "data": {
      "text/html": [
       "<div>\n",
       "<style scoped>\n",
       "    .dataframe tbody tr th:only-of-type {\n",
       "        vertical-align: middle;\n",
       "    }\n",
       "\n",
       "    .dataframe tbody tr th {\n",
       "        vertical-align: top;\n",
       "    }\n",
       "\n",
       "    .dataframe thead th {\n",
       "        text-align: right;\n",
       "    }\n",
       "</style>\n",
       "<table border=\"1\" class=\"dataframe\">\n",
       "  <thead>\n",
       "    <tr style=\"text-align: right;\">\n",
       "      <th></th>\n",
       "      <th>Sentences</th>\n",
       "    </tr>\n",
       "  </thead>\n",
       "  <tbody>\n",
       "    <tr>\n",
       "      <th>0</th>\n",
       "      <td>Der Deutsche Alpenverein hat es sich zur Aufga...</td>\n",
       "    </tr>\n",
       "    <tr>\n",
       "      <th>1</th>\n",
       "      <td>Ohne hier auf die Geschichte seiner Gründung e...</td>\n",
       "    </tr>\n",
       "    <tr>\n",
       "      <th>2</th>\n",
       "      <td>Grundgedanke war, der Deutsche Alpenverein sol...</td>\n",
       "    </tr>\n",
       "    <tr>\n",
       "      <th>3</th>\n",
       "      <td>Für sie alle soll der Deutsche Alpenverein das...</td>\n",
       "    </tr>\n",
       "    <tr>\n",
       "      <th>4</th>\n",
       "      <td>Er erhebt keine anderen Ansprüche an seine Mit...</td>\n",
       "    </tr>\n",
       "    <tr>\n",
       "      <th>5</th>\n",
       "      <td>Der Deutsche Alpenverein kennt keine politisch...</td>\n",
       "    </tr>\n",
       "    <tr>\n",
       "      <th>6</th>\n",
       "      <td>Ueberall soll die Liebe zu den Alpen geweckt u...</td>\n",
       "    </tr>\n",
       "    <tr>\n",
       "      <th>7</th>\n",
       "      <td>Eine derselben, alljährlich durch Wahl der Gen...</td>\n",
       "    </tr>\n",
       "    <tr>\n",
       "      <th>8</th>\n",
       "      <td>—\\nDies der Grundgedanke, welcher, lange geheg...</td>\n",
       "    </tr>\n",
       "    <tr>\n",
       "      <th>9</th>\n",
       "      <td>Der Erfolg hat bewiesen, dass die Idee, einen ...</td>\n",
       "    </tr>\n",
       "    <tr>\n",
       "      <th>10</th>\n",
       "      <td>Trotzdem die Herausgabe der Vereins-Zeitschrif...</td>\n",
       "    </tr>\n",
       "    <tr>\n",
       "      <th>11</th>\n",
       "      <td>Als geschäftsleitende Section wurde für das er...</td>\n",
       "    </tr>\n",
       "    <tr>\n",
       "      <th>12</th>\n",
       "      <td>Als erste Aufgabe betrachtete dieser die Begrü...</td>\n",
       "    </tr>\n",
       "    <tr>\n",
       "      <th>13</th>\n",
       "      <td>Die Redaction derselben wurde für das erste Ve...</td>\n",
       "    </tr>\n",
       "    <tr>\n",
       "      <th>14</th>\n",
       "      <td>Mai 1869, in Ermanglung einer General-Versamml...</td>\n",
       "    </tr>\n",
       "    <tr>\n",
       "      <th>15</th>\n",
       "      <td>Es wäre mir unmöglich gewesen, diesem ehrenvol...</td>\n",
       "    </tr>\n",
       "    <tr>\n",
       "      <th>16</th>\n",
       "      <td>Wenn ich mich trotzdem\\n            gezwungen ...</td>\n",
       "    </tr>\n",
       "    <tr>\n",
       "      <th>17</th>\n",
       "      <td>Nur durch gemeinsames Zusammenwirken der Mitgl...</td>\n",
       "    </tr>\n",
       "    <tr>\n",
       "      <th>18</th>\n",
       "      <td>Der Centralausschuss hat nach reiflicher Ueber...</td>\n",
       "    </tr>\n",
       "    <tr>\n",
       "      <th>19</th>\n",
       "      <td>Die Zeitschrift des Deutschen Alpenvereins ers...</td>\n",
       "    </tr>\n",
       "  </tbody>\n",
       "</table>\n",
       "</div>"
      ],
      "text/plain": [
       "                                            Sentences\n",
       "0   Der Deutsche Alpenverein hat es sich zur Aufga...\n",
       "1   Ohne hier auf die Geschichte seiner Gründung e...\n",
       "2   Grundgedanke war, der Deutsche Alpenverein sol...\n",
       "3   Für sie alle soll der Deutsche Alpenverein das...\n",
       "4   Er erhebt keine anderen Ansprüche an seine Mit...\n",
       "5   Der Deutsche Alpenverein kennt keine politisch...\n",
       "6   Ueberall soll die Liebe zu den Alpen geweckt u...\n",
       "7   Eine derselben, alljährlich durch Wahl der Gen...\n",
       "8   —\\nDies der Grundgedanke, welcher, lange geheg...\n",
       "9   Der Erfolg hat bewiesen, dass die Idee, einen ...\n",
       "10  Trotzdem die Herausgabe der Vereins-Zeitschrif...\n",
       "11  Als geschäftsleitende Section wurde für das er...\n",
       "12  Als erste Aufgabe betrachtete dieser die Begrü...\n",
       "13  Die Redaction derselben wurde für das erste Ve...\n",
       "14  Mai 1869, in Ermanglung einer General-Versamml...\n",
       "15  Es wäre mir unmöglich gewesen, diesem ehrenvol...\n",
       "16  Wenn ich mich trotzdem\\n            gezwungen ...\n",
       "17  Nur durch gemeinsames Zusammenwirken der Mitgl...\n",
       "18  Der Centralausschuss hat nach reiflicher Ueber...\n",
       "19  Die Zeitschrift des Deutschen Alpenvereins ers..."
      ]
     },
     "execution_count": 8,
     "metadata": {},
     "output_type": "execute_result"
    }
   ],
   "source": [
    "df.head(20)"
   ]
  },
  {
   "cell_type": "markdown",
   "metadata": {
    "_uuid": "31b4a744059df490ddb47ab6cdec008dc929ede3"
   },
   "source": [
    "## Bigrams:\n",
    "We are using Gensim Phrases package to automatically detect common phrases (bigrams) from a list of sentences.\n",
    "https://radimrehurek.com/gensim/models/phrases.html\n"
   ]
  },
  {
   "cell_type": "code",
   "execution_count": 9,
   "metadata": {
    "_uuid": "af6d420284a0ff7a7407d4c526754ffe850d6170"
   },
   "outputs": [],
   "source": [
    "from gensim.models.phrases import Phrases, Phraser"
   ]
  },
  {
   "cell_type": "markdown",
   "metadata": {
    "_uuid": "788aec3c82788101db25d4ca6105ee133fecae7c"
   },
   "source": [
    "As `Phrases()` takes a list of list of words as input:"
   ]
  },
  {
   "cell_type": "code",
   "execution_count": 10,
   "metadata": {
    "_uuid": "f58487ff08d8812622fd7aef36139f1c850add18"
   },
   "outputs": [],
   "source": [
    "sent = [row.split() for row in df['Sentences']]"
   ]
  },
  {
   "cell_type": "markdown",
   "metadata": {
    "_uuid": "bb7766b322cbc1d3381912b890585eb249ac5304"
   },
   "source": [
    "Creates the relevant phrases from the list of sentences:"
   ]
  },
  {
   "cell_type": "code",
   "execution_count": 11,
   "metadata": {
    "_uuid": "8befad8c76c54bd2b831b0942a2f626f7d8a6dac"
   },
   "outputs": [
    {
     "name": "stderr",
     "output_type": "stream",
     "text": [
      "INFO - 18:48:39: collecting all words and their counts\n",
      "INFO - 18:48:39: PROGRESS: at sentence #0, processed 0 words and 0 word types\n",
      "INFO - 18:48:39: PROGRESS: at sentence #10000, processed 244723 words and 197832 word types\n",
      "INFO - 18:48:40: collected 289401 word types from a corpus of 396824 words (unigram + bigrams) and 16411 sentences\n",
      "INFO - 18:48:40: using 289401 counts as vocab in Phrases<0 vocab, min_count=30, threshold=10.0, max_vocab_size=40000000>\n"
     ]
    }
   ],
   "source": [
    "phrases = Phrases(sent, min_count=30, progress_per=10000)"
   ]
  },
  {
   "cell_type": "markdown",
   "metadata": {
    "_uuid": "45bae4a953f2ad8951e4efb234e1e357857a33b3"
   },
   "source": [
    "The goal of Phraser() is to cut down memory consumption of Phrases(), by discarding model state not strictly needed for the bigram detection task:"
   ]
  },
  {
   "cell_type": "code",
   "execution_count": 12,
   "metadata": {
    "_kg_hide-input": true,
    "_uuid": "b8ae81ba230013aefe7c584338de7376fedf6294"
   },
   "outputs": [
    {
     "name": "stderr",
     "output_type": "stream",
     "text": [
      "INFO - 18:48:42: source_vocab length 289401\n",
      "INFO - 18:48:44: Phraser built with 108 phrasegrams\n"
     ]
    }
   ],
   "source": [
    "bigram = Phraser(phrases)"
   ]
  },
  {
   "cell_type": "markdown",
   "metadata": {
    "_uuid": "4a58380f19d159688aeee665d1afb96289fdd4b8"
   },
   "source": [
    "Transform the corpus based on the bigrams detected:"
   ]
  },
  {
   "cell_type": "code",
   "execution_count": 13,
   "metadata": {
    "_uuid": "8051b56890c147119db3df529d3cfd3cf675fdca"
   },
   "outputs": [],
   "source": [
    "sentences = bigram[sent]"
   ]
  },
  {
   "cell_type": "markdown",
   "metadata": {
    "_uuid": "a4f81e8bb2c09a67b00cd24db28353eca8ae188c"
   },
   "source": [
    "## Most Frequent Words:\n",
    "Mainly a sanity check of the effectiveness of the lemmatization, removal of stopwords, and addition of bigrams."
   ]
  },
  {
   "cell_type": "code",
   "execution_count": 14,
   "metadata": {
    "_uuid": "eeb8afe1cfcb7ba65bd14d657455600acacf39ba"
   },
   "outputs": [
    {
     "data": {
      "text/plain": [
       "57469"
      ]
     },
     "execution_count": 14,
     "metadata": {},
     "output_type": "execute_result"
    }
   ],
   "source": [
    "word_freq = defaultdict(int)\n",
    "for sent in sentences:\n",
    "    for i in sent:\n",
    "        word_freq[i] += 1\n",
    "len(word_freq)"
   ]
  },
  {
   "cell_type": "code",
   "execution_count": 15,
   "metadata": {
    "_uuid": "5b010149150b2b2eaf332d79bcde0649b8a3c2b5"
   },
   "outputs": [
    {
     "data": {
      "text/plain": [
       "['der',\n",
       " 'die',\n",
       " 'und',\n",
       " 'den',\n",
       " 'in',\n",
       " 'von',\n",
       " 'zu',\n",
       " 'des',\n",
       " 'das',\n",
       " 'auf',\n",
       " 'sich',\n",
       " 'dem',\n",
       " 'wir',\n",
       " 'mit',\n",
       " 'eine',\n",
       " 'über',\n",
       " 'ein',\n",
       " 'im',\n",
       " 'nicht',\n",
       " 'als']"
      ]
     },
     "execution_count": 15,
     "metadata": {},
     "output_type": "execute_result"
    }
   ],
   "source": [
    "sorted(word_freq, key=word_freq.get, reverse=True)[:20]"
   ]
  },
  {
   "cell_type": "markdown",
   "metadata": {
    "_uuid": "500ab7b5c84dc006d7945f339c40725a82856fdf"
   },
   "source": [
    "# Training the model\n",
    "## Gensim Word2Vec Implementation:\n",
    "We use Gensim implementation of word2vec: https://radimrehurek.com/gensim/models/word2vec.html"
   ]
  },
  {
   "cell_type": "code",
   "execution_count": 16,
   "metadata": {
    "_uuid": "3269be205cadbad499aa87890893d92da6adc796"
   },
   "outputs": [],
   "source": [
    "import multiprocessing\n",
    "\n",
    "from gensim.models import Word2Vec"
   ]
  },
  {
   "cell_type": "markdown",
   "metadata": {
    "_uuid": "7c524bc49c41a6c37f9e754a38797c9501202090"
   },
   "source": [
    "## Why I seperate the training of the model in 3 steps:\n",
    "I prefer to separate the training in 3 distinctive steps for clarity and monitoring.\n",
    "1. `Word2Vec()`: \n",
    ">In this first step, I set up the parameters of the model one-by-one. <br>I do not supply the parameter `sentences`, and therefore leave the model uninitialized, purposefully.\n",
    "2. `.build_vocab()`: \n",
    ">Here it builds the vocabulary from a sequence of sentences and thus initialized the model. <br>With the loggings, I can follow the progress and even more important, the effect of `min_count` and `sample` on the word corpus. I noticed that these two parameters, and in particular `sample`, have a great influence over the performance of a model. Displaying both allows for a more accurate and an easier management of their influence.\n",
    "3. `.train()`:\n",
    ">Finally, trains the model.<br>\n",
    "The loggings here are mainly useful for monitoring, making sure that no threads are executed instantaneously."
   ]
  },
  {
   "cell_type": "code",
   "execution_count": 17,
   "metadata": {
    "_uuid": "03488d9b68963579c96094aca88a302c9f2753a7"
   },
   "outputs": [],
   "source": [
    "cores = multiprocessing.cpu_count() # Count the number of cores in a computer"
   ]
  },
  {
   "cell_type": "markdown",
   "metadata": {
    "_uuid": "89c305fcd163488441ac2ac6133678bd973b4419"
   },
   "source": [
    "## The parameters:\n",
    "\n",
    "* `min_count` <font color='purple'>=</font> <font color='green'>int</font> - Ignores all words with total absolute frequency lower than this - (2, 100)\n",
    "\n",
    "\n",
    "* `window` <font color='purple'>=</font> <font color='green'>int</font> - The maximum distance between the current and predicted word within a sentence. E.g. `window` words on the left and `window` words on the left of our target - (2, 10)\n",
    "\n",
    "\n",
    "* `size` <font color='purple'>=</font> <font color='green'>int</font> - Dimensionality of the feature vectors. - (50, 300)\n",
    "\n",
    "\n",
    "* `sample` <font color='purple'>=</font> <font color='green'>float</font> - The threshold for configuring which higher-frequency words are randomly downsampled. Highly influencial.  - (0, 1e-5)\n",
    "\n",
    "\n",
    "* `alpha` <font color='purple'>=</font> <font color='green'>float</font> - The initial learning rate - (0.01, 0.05)\n",
    "\n",
    "\n",
    "* `min_alpha` <font color='purple'>=</font> <font color='green'>float</font> - Learning rate will linearly drop to `min_alpha` as training progresses. To set it: alpha - (min_alpha * epochs) ~ 0.00\n",
    "\n",
    "\n",
    "* `negative` <font color='purple'>=</font> <font color='green'>int</font> - If > 0, negative sampling will be used, the int for negative specifies how many \"noise words\" should be drown. If set to 0, no negative sampling is used. - (5, 20)\n",
    "\n",
    "\n",
    "* `workers` <font color='purple'>=</font> <font color='green'>int</font> - Use these many worker threads to train the model (=faster training with multicore machines)"
   ]
  },
  {
   "cell_type": "code",
   "execution_count": 18,
   "metadata": {
    "_uuid": "ad619db82c219d6cb81fad516563feb0c4d474cd"
   },
   "outputs": [],
   "source": [
    "w2v_model = Word2Vec(min_count=20,\n",
    "                     window=2,\n",
    "                     size=300,\n",
    "                     sample=6e-5, \n",
    "                     alpha=0.03, \n",
    "                     min_alpha=0.0007, \n",
    "                     negative=20,\n",
    "                     workers=cores-1)"
   ]
  },
  {
   "cell_type": "markdown",
   "metadata": {
    "_uuid": "d7e9f1bd338f9e15647b5209ffd8fbb131cd7ee5"
   },
   "source": [
    "## Building the Vocabulary Table:\n",
    "Word2Vec requires us to build the vocabulary table (simply digesting all the words and filtering out the unique words, and doing some basic counts on them):"
   ]
  },
  {
   "cell_type": "code",
   "execution_count": 19,
   "metadata": {
    "_uuid": "66358ad743e05e17dfbed3899af9c41056143daa"
   },
   "outputs": [
    {
     "name": "stderr",
     "output_type": "stream",
     "text": [
      "INFO - 18:49:02: collecting all words and their counts\n",
      "INFO - 18:49:02: PROGRESS: at sentence #0, processed 0 words, keeping 0 word types\n",
      "INFO - 18:49:03: PROGRESS: at sentence #10000, processed 240613 words, keeping 42655 word types\n",
      "INFO - 18:49:03: collected 57469 word types from a corpus of 389786 raw words and 16411 sentences\n",
      "INFO - 18:49:03: Loading a fresh vocabulary\n",
      "INFO - 18:49:03: effective_min_count=20 retains 2135 unique words (3% of original 57469, drops 55334)\n",
      "INFO - 18:49:03: effective_min_count=20 leaves 267249 word corpus (68% of original 389786, drops 122537)\n",
      "INFO - 18:49:03: deleting the raw counts dictionary of 57469 items\n",
      "INFO - 18:49:03: sample=6e-05 downsamples 1061 most-common words\n",
      "INFO - 18:49:03: downsampling leaves estimated 96006 word corpus (35.9% of prior 267249)\n",
      "INFO - 18:49:03: estimated required memory for 2135 words and 300 dimensions: 6191500 bytes\n",
      "INFO - 18:49:03: resetting layer weights\n"
     ]
    },
    {
     "name": "stdout",
     "output_type": "stream",
     "text": [
      "Time to build vocab: 0.02 mins\n"
     ]
    }
   ],
   "source": [
    "t = time()\n",
    "\n",
    "w2v_model.build_vocab(sentences, progress_per=10000)\n",
    "\n",
    "print('Time to build vocab: {} mins'.format(round((time() - t) / 60, 2)))"
   ]
  },
  {
   "cell_type": "markdown",
   "metadata": {
    "_uuid": "63260d82061abb47db7f2f8b23e07ec629adf5a9"
   },
   "source": [
    "## Training of the model:\n",
    "_Parameters of the training:_\n",
    "* `total_examples` <font color='purple'>=</font> <font color='green'>int</font> - Count of sentences;\n",
    "* `epochs` <font color='purple'>=</font> <font color='green'>int</font> - Number of iterations (epochs) over the corpus - [10, 20, 30]"
   ]
  },
  {
   "cell_type": "code",
   "execution_count": 20,
   "metadata": {
    "_uuid": "07a2a047e701e512fd758edff186daadaeea6461"
   },
   "outputs": [
    {
     "name": "stderr",
     "output_type": "stream",
     "text": [
      "INFO - 18:49:06: training model with 3 workers on 2135 vocabulary and 300 features, using sg=0 hs=0 sample=6e-05 negative=20 window=2\n",
      "INFO - 18:49:07: EPOCH 1 - PROGRESS: at 84.94% examples, 80585 words/s, in_qsize 0, out_qsize 0\n",
      "INFO - 18:49:07: worker thread finished; awaiting finish of 2 more threads\n",
      "INFO - 18:49:07: worker thread finished; awaiting finish of 1 more threads\n",
      "INFO - 18:49:07: worker thread finished; awaiting finish of 0 more threads\n",
      "INFO - 18:49:07: EPOCH - 1 : training on 389786 raw words (96063 effective words) took 1.2s, 80122 effective words/s\n",
      "INFO - 18:49:08: EPOCH 2 - PROGRESS: at 92.69% examples, 87872 words/s, in_qsize 1, out_qsize 0\n",
      "INFO - 18:49:08: worker thread finished; awaiting finish of 2 more threads\n",
      "INFO - 18:49:08: worker thread finished; awaiting finish of 1 more threads\n",
      "INFO - 18:49:08: worker thread finished; awaiting finish of 0 more threads\n",
      "INFO - 18:49:08: EPOCH - 2 : training on 389786 raw words (95922 effective words) took 1.1s, 87149 effective words/s\n",
      "INFO - 18:49:09: EPOCH 3 - PROGRESS: at 92.69% examples, 88387 words/s, in_qsize 1, out_qsize 0\n",
      "INFO - 18:49:09: worker thread finished; awaiting finish of 2 more threads\n",
      "INFO - 18:49:09: worker thread finished; awaiting finish of 1 more threads\n",
      "INFO - 18:49:09: worker thread finished; awaiting finish of 0 more threads\n",
      "INFO - 18:49:09: EPOCH - 3 : training on 389786 raw words (96208 effective words) took 1.1s, 87761 effective words/s\n",
      "INFO - 18:49:10: EPOCH 4 - PROGRESS: at 92.69% examples, 87396 words/s, in_qsize 1, out_qsize 0\n",
      "INFO - 18:49:10: worker thread finished; awaiting finish of 2 more threads\n",
      "INFO - 18:49:10: worker thread finished; awaiting finish of 1 more threads\n",
      "INFO - 18:49:10: worker thread finished; awaiting finish of 0 more threads\n",
      "INFO - 18:49:10: EPOCH - 4 : training on 389786 raw words (96103 effective words) took 1.1s, 87140 effective words/s\n",
      "INFO - 18:49:12: EPOCH 5 - PROGRESS: at 92.69% examples, 87667 words/s, in_qsize 1, out_qsize 0\n",
      "INFO - 18:49:12: worker thread finished; awaiting finish of 2 more threads\n",
      "INFO - 18:49:12: worker thread finished; awaiting finish of 1 more threads\n",
      "INFO - 18:49:12: worker thread finished; awaiting finish of 0 more threads\n",
      "INFO - 18:49:12: EPOCH - 5 : training on 389786 raw words (95982 effective words) took 1.1s, 87431 effective words/s\n",
      "INFO - 18:49:13: EPOCH 6 - PROGRESS: at 87.75% examples, 83212 words/s, in_qsize 0, out_qsize 0\n",
      "INFO - 18:49:13: worker thread finished; awaiting finish of 2 more threads\n",
      "INFO - 18:49:13: worker thread finished; awaiting finish of 1 more threads\n",
      "INFO - 18:49:13: worker thread finished; awaiting finish of 0 more threads\n",
      "INFO - 18:49:13: EPOCH - 6 : training on 389786 raw words (95887 effective words) took 1.2s, 83136 effective words/s\n",
      "INFO - 18:49:14: EPOCH 7 - PROGRESS: at 90.13% examples, 85244 words/s, in_qsize 0, out_qsize 0\n",
      "INFO - 18:49:14: worker thread finished; awaiting finish of 2 more threads\n",
      "INFO - 18:49:14: worker thread finished; awaiting finish of 1 more threads\n",
      "INFO - 18:49:14: worker thread finished; awaiting finish of 0 more threads\n",
      "INFO - 18:49:14: EPOCH - 7 : training on 389786 raw words (96091 effective words) took 1.1s, 86118 effective words/s\n",
      "INFO - 18:49:15: EPOCH 8 - PROGRESS: at 90.13% examples, 83463 words/s, in_qsize 0, out_qsize 0\n",
      "INFO - 18:49:15: worker thread finished; awaiting finish of 2 more threads\n",
      "INFO - 18:49:15: worker thread finished; awaiting finish of 1 more threads\n",
      "INFO - 18:49:15: worker thread finished; awaiting finish of 0 more threads\n",
      "INFO - 18:49:15: EPOCH - 8 : training on 389786 raw words (95906 effective words) took 1.1s, 84906 effective words/s\n",
      "INFO - 18:49:16: EPOCH 9 - PROGRESS: at 84.94% examples, 81196 words/s, in_qsize 1, out_qsize 0\n",
      "INFO - 18:49:16: worker thread finished; awaiting finish of 2 more threads\n",
      "INFO - 18:49:16: worker thread finished; awaiting finish of 1 more threads\n",
      "INFO - 18:49:16: worker thread finished; awaiting finish of 0 more threads\n",
      "INFO - 18:49:16: EPOCH - 9 : training on 389786 raw words (95983 effective words) took 1.2s, 81110 effective words/s\n",
      "INFO - 18:49:17: EPOCH 10 - PROGRESS: at 87.75% examples, 81825 words/s, in_qsize 0, out_qsize 1\n",
      "INFO - 18:49:17: worker thread finished; awaiting finish of 2 more threads\n",
      "INFO - 18:49:17: worker thread finished; awaiting finish of 1 more threads\n",
      "INFO - 18:49:17: worker thread finished; awaiting finish of 0 more threads\n",
      "INFO - 18:49:17: EPOCH - 10 : training on 389786 raw words (96096 effective words) took 1.2s, 83435 effective words/s\n",
      "INFO - 18:49:18: EPOCH 11 - PROGRESS: at 92.69% examples, 88372 words/s, in_qsize 0, out_qsize 0\n",
      "INFO - 18:49:18: worker thread finished; awaiting finish of 2 more threads\n",
      "INFO - 18:49:18: worker thread finished; awaiting finish of 1 more threads\n",
      "INFO - 18:49:18: worker thread finished; awaiting finish of 0 more threads\n",
      "INFO - 18:49:18: EPOCH - 11 : training on 389786 raw words (96064 effective words) took 1.1s, 88327 effective words/s\n",
      "INFO - 18:49:20: EPOCH 12 - PROGRESS: at 92.69% examples, 87337 words/s, in_qsize 0, out_qsize 0\n",
      "INFO - 18:49:20: worker thread finished; awaiting finish of 2 more threads\n",
      "INFO - 18:49:20: worker thread finished; awaiting finish of 1 more threads\n",
      "INFO - 18:49:20: worker thread finished; awaiting finish of 0 more threads\n",
      "INFO - 18:49:20: EPOCH - 12 : training on 389786 raw words (96076 effective words) took 1.1s, 86829 effective words/s\n",
      "INFO - 18:49:21: EPOCH 13 - PROGRESS: at 87.75% examples, 82614 words/s, in_qsize 0, out_qsize 0\n",
      "INFO - 18:49:21: worker thread finished; awaiting finish of 2 more threads\n",
      "INFO - 18:49:21: worker thread finished; awaiting finish of 1 more threads\n",
      "INFO - 18:49:21: worker thread finished; awaiting finish of 0 more threads\n",
      "INFO - 18:49:21: EPOCH - 13 : training on 389786 raw words (95953 effective words) took 1.2s, 83151 effective words/s\n",
      "INFO - 18:49:22: EPOCH 14 - PROGRESS: at 87.75% examples, 82402 words/s, in_qsize 1, out_qsize 0\n",
      "INFO - 18:49:22: worker thread finished; awaiting finish of 2 more threads\n",
      "INFO - 18:49:22: worker thread finished; awaiting finish of 1 more threads\n",
      "INFO - 18:49:22: worker thread finished; awaiting finish of 0 more threads\n",
      "INFO - 18:49:22: EPOCH - 14 : training on 389786 raw words (96179 effective words) took 1.2s, 83549 effective words/s\n",
      "INFO - 18:49:23: EPOCH 15 - PROGRESS: at 90.13% examples, 85916 words/s, in_qsize 0, out_qsize 0\n",
      "INFO - 18:49:23: worker thread finished; awaiting finish of 2 more threads\n",
      "INFO - 18:49:23: worker thread finished; awaiting finish of 1 more threads\n",
      "INFO - 18:49:23: worker thread finished; awaiting finish of 0 more threads\n",
      "INFO - 18:49:23: EPOCH - 15 : training on 389786 raw words (96012 effective words) took 1.1s, 86443 effective words/s\n",
      "INFO - 18:49:24: EPOCH 16 - PROGRESS: at 95.18% examples, 91145 words/s, in_qsize 1, out_qsize 0\n",
      "INFO - 18:49:24: worker thread finished; awaiting finish of 2 more threads\n",
      "INFO - 18:49:24: worker thread finished; awaiting finish of 1 more threads\n",
      "INFO - 18:49:24: worker thread finished; awaiting finish of 0 more threads\n",
      "INFO - 18:49:24: EPOCH - 16 : training on 389786 raw words (96016 effective words) took 1.1s, 90617 effective words/s\n",
      "INFO - 18:49:25: EPOCH 17 - PROGRESS: at 87.75% examples, 80719 words/s, in_qsize 0, out_qsize 0\n",
      "INFO - 18:49:25: worker thread finished; awaiting finish of 2 more threads\n",
      "INFO - 18:49:25: worker thread finished; awaiting finish of 1 more threads\n",
      "INFO - 18:49:25: worker thread finished; awaiting finish of 0 more threads\n",
      "INFO - 18:49:25: EPOCH - 17 : training on 389786 raw words (95829 effective words) took 1.2s, 80582 effective words/s\n",
      "INFO - 18:49:26: EPOCH 18 - PROGRESS: at 71.38% examples, 64766 words/s, in_qsize 0, out_qsize 0\n",
      "INFO - 18:49:27: worker thread finished; awaiting finish of 2 more threads\n",
      "INFO - 18:49:27: worker thread finished; awaiting finish of 1 more threads\n",
      "INFO - 18:49:27: worker thread finished; awaiting finish of 0 more threads\n",
      "INFO - 18:49:27: EPOCH - 18 : training on 389786 raw words (95761 effective words) took 1.5s, 64845 effective words/s\n",
      "INFO - 18:49:28: EPOCH 19 - PROGRESS: at 78.65% examples, 74690 words/s, in_qsize 0, out_qsize 0\n",
      "INFO - 18:49:28: worker thread finished; awaiting finish of 2 more threads\n"
     ]
    },
    {
     "name": "stderr",
     "output_type": "stream",
     "text": [
      "INFO - 18:49:28: worker thread finished; awaiting finish of 1 more threads\n",
      "INFO - 18:49:28: worker thread finished; awaiting finish of 0 more threads\n",
      "INFO - 18:49:28: EPOCH - 19 : training on 389786 raw words (95906 effective words) took 1.3s, 74800 effective words/s\n",
      "INFO - 18:49:29: EPOCH 20 - PROGRESS: at 68.81% examples, 64726 words/s, in_qsize 0, out_qsize 0\n",
      "INFO - 18:49:30: worker thread finished; awaiting finish of 2 more threads\n",
      "INFO - 18:49:30: worker thread finished; awaiting finish of 1 more threads\n",
      "INFO - 18:49:30: worker thread finished; awaiting finish of 0 more threads\n",
      "INFO - 18:49:30: EPOCH - 20 : training on 389786 raw words (95802 effective words) took 1.5s, 62492 effective words/s\n",
      "INFO - 18:49:31: EPOCH 21 - PROGRESS: at 53.34% examples, 50628 words/s, in_qsize 0, out_qsize 0\n",
      "INFO - 18:49:31: worker thread finished; awaiting finish of 2 more threads\n",
      "INFO - 18:49:31: worker thread finished; awaiting finish of 1 more threads\n",
      "INFO - 18:49:31: worker thread finished; awaiting finish of 0 more threads\n",
      "INFO - 18:49:31: EPOCH - 21 : training on 389786 raw words (96220 effective words) took 1.8s, 52281 effective words/s\n",
      "INFO - 18:49:33: EPOCH 22 - PROGRESS: at 78.65% examples, 75251 words/s, in_qsize 0, out_qsize 0\n",
      "INFO - 18:49:33: worker thread finished; awaiting finish of 2 more threads\n",
      "INFO - 18:49:33: worker thread finished; awaiting finish of 1 more threads\n",
      "INFO - 18:49:33: worker thread finished; awaiting finish of 0 more threads\n",
      "INFO - 18:49:33: EPOCH - 22 : training on 389786 raw words (95991 effective words) took 1.3s, 74421 effective words/s\n",
      "INFO - 18:49:34: EPOCH 23 - PROGRESS: at 90.13% examples, 84806 words/s, in_qsize 1, out_qsize 0\n",
      "INFO - 18:49:34: worker thread finished; awaiting finish of 2 more threads\n",
      "INFO - 18:49:34: worker thread finished; awaiting finish of 1 more threads\n",
      "INFO - 18:49:34: worker thread finished; awaiting finish of 0 more threads\n",
      "INFO - 18:49:34: EPOCH - 23 : training on 389786 raw words (95812 effective words) took 1.1s, 84887 effective words/s\n",
      "INFO - 18:49:35: EPOCH 24 - PROGRESS: at 71.38% examples, 65401 words/s, in_qsize 0, out_qsize 0\n",
      "INFO - 18:49:35: worker thread finished; awaiting finish of 2 more threads\n",
      "INFO - 18:49:35: worker thread finished; awaiting finish of 1 more threads\n",
      "INFO - 18:49:35: worker thread finished; awaiting finish of 0 more threads\n",
      "INFO - 18:49:35: EPOCH - 24 : training on 389786 raw words (96072 effective words) took 1.4s, 69985 effective words/s\n",
      "INFO - 18:49:36: EPOCH 25 - PROGRESS: at 50.73% examples, 46929 words/s, in_qsize 0, out_qsize 0\n",
      "INFO - 18:49:37: EPOCH 25 - PROGRESS: at 95.18% examples, 44851 words/s, in_qsize 0, out_qsize 0\n",
      "INFO - 18:49:37: worker thread finished; awaiting finish of 2 more threads\n",
      "INFO - 18:49:37: worker thread finished; awaiting finish of 1 more threads\n",
      "INFO - 18:49:37: worker thread finished; awaiting finish of 0 more threads\n",
      "INFO - 18:49:37: EPOCH - 25 : training on 389786 raw words (95986 effective words) took 2.1s, 46185 effective words/s\n",
      "INFO - 18:49:38: EPOCH 26 - PROGRESS: at 95.18% examples, 89584 words/s, in_qsize 1, out_qsize 0\n",
      "INFO - 18:49:38: worker thread finished; awaiting finish of 2 more threads\n",
      "INFO - 18:49:38: worker thread finished; awaiting finish of 1 more threads\n",
      "INFO - 18:49:38: worker thread finished; awaiting finish of 0 more threads\n",
      "INFO - 18:49:38: EPOCH - 26 : training on 389786 raw words (95829 effective words) took 1.1s, 90262 effective words/s\n",
      "INFO - 18:49:39: EPOCH 27 - PROGRESS: at 90.13% examples, 84215 words/s, in_qsize 0, out_qsize 0\n",
      "INFO - 18:49:40: worker thread finished; awaiting finish of 2 more threads\n",
      "INFO - 18:49:40: worker thread finished; awaiting finish of 1 more threads\n",
      "INFO - 18:49:40: worker thread finished; awaiting finish of 0 more threads\n",
      "INFO - 18:49:40: EPOCH - 27 : training on 389786 raw words (96104 effective words) took 1.1s, 86062 effective words/s\n",
      "INFO - 18:49:41: EPOCH 28 - PROGRESS: at 73.74% examples, 70794 words/s, in_qsize 0, out_qsize 0\n",
      "INFO - 18:49:41: worker thread finished; awaiting finish of 2 more threads\n",
      "INFO - 18:49:41: worker thread finished; awaiting finish of 1 more threads\n",
      "INFO - 18:49:41: worker thread finished; awaiting finish of 0 more threads\n",
      "INFO - 18:49:41: EPOCH - 28 : training on 389786 raw words (96141 effective words) took 1.3s, 74962 effective words/s\n",
      "INFO - 18:49:42: EPOCH 29 - PROGRESS: at 63.66% examples, 60305 words/s, in_qsize 0, out_qsize 0\n",
      "INFO - 18:49:42: worker thread finished; awaiting finish of 2 more threads\n",
      "INFO - 18:49:42: worker thread finished; awaiting finish of 1 more threads\n",
      "INFO - 18:49:42: worker thread finished; awaiting finish of 0 more threads\n",
      "INFO - 18:49:42: EPOCH - 29 : training on 389786 raw words (96116 effective words) took 1.6s, 60123 effective words/s\n",
      "INFO - 18:49:43: EPOCH 30 - PROGRESS: at 78.65% examples, 75882 words/s, in_qsize 0, out_qsize 0\n",
      "INFO - 18:49:44: worker thread finished; awaiting finish of 2 more threads\n",
      "INFO - 18:49:44: worker thread finished; awaiting finish of 1 more threads\n",
      "INFO - 18:49:44: worker thread finished; awaiting finish of 0 more threads\n",
      "INFO - 18:49:44: EPOCH - 30 : training on 389786 raw words (96197 effective words) took 1.2s, 77298 effective words/s\n",
      "INFO - 18:49:44: training on a 11693580 raw words (2880307 effective words) took 37.8s, 76284 effective words/s\n"
     ]
    },
    {
     "name": "stdout",
     "output_type": "stream",
     "text": [
      "Time to train the model: 0.63 mins\n"
     ]
    }
   ],
   "source": [
    "t = time()\n",
    "\n",
    "w2v_model.train(sentences, total_examples=w2v_model.corpus_count, epochs=30, report_delay=1)\n",
    "\n",
    "print('Time to train the model: {} mins'.format(round((time() - t) / 60, 2)))"
   ]
  },
  {
   "cell_type": "markdown",
   "metadata": {
    "_uuid": "48e12768512b82c2d5cf6a543e3a9f2515699a22"
   },
   "source": [
    "As we do not plan to train the model any further, we are calling init_sims(), which will make the model much more memory-efficient:"
   ]
  },
  {
   "cell_type": "code",
   "execution_count": 21,
   "metadata": {
    "_uuid": "34dd51c7f2f39d016b982ef81e4df576f6b31bcb"
   },
   "outputs": [
    {
     "name": "stderr",
     "output_type": "stream",
     "text": [
      "INFO - 18:49:56: precomputing L2-norms of word weight vectors\n"
     ]
    }
   ],
   "source": [
    "w2v_model.init_sims(replace=True)"
   ]
  },
  {
   "cell_type": "markdown",
   "metadata": {
    "_uuid": "a420d5a98eb860cff1f4bbac8cbe2054459b6200"
   },
   "source": [
    "# Exploring the model\n",
    "## Most similar to:\n",
    "\n"
   ]
  },
  {
   "cell_type": "markdown",
   "metadata": {
    "_uuid": "a8f3cfd8ac88978a4df31c90afa194bd6fa4f3f5"
   },
   "source": [
    "<img src=\"https://upload.wikimedia.org/wikipedia/commons/thumb/b/be/Saslong_udu_da_Sacun_ora.jpg/1200px-Saslong_udu_da_Sacun_ora.jpg\" alt=\"drawing\" width=\"130\"/>\n",
    "\n",
    "Let's see what we get for langkofel:"
   ]
  },
  {
   "cell_type": "code",
   "execution_count": 22,
   "metadata": {},
   "outputs": [
    {
     "name": "stdout",
     "output_type": "stream",
     "text": [
      "{'Der': <gensim.models.keyedvectors.Vocab object at 0x7fe95e1fd908>, 'Deutsche': <gensim.models.keyedvectors.Vocab object at 0x7fe95de4c780>, 'Alpenverein': <gensim.models.keyedvectors.Vocab object at 0x7fe95de4cb70>, 'hat': <gensim.models.keyedvectors.Vocab object at 0x7fe95de4cf98>, 'es': <gensim.models.keyedvectors.Vocab object at 0x7fe95de4c898>, 'sich': <gensim.models.keyedvectors.Vocab object at 0x7fe95de4cc18>, 'zur': <gensim.models.keyedvectors.Vocab object at 0x7fe95de4c198>, 'Aufgabe': <gensim.models.keyedvectors.Vocab object at 0x7fe95de4cb38>, 'gemacht,': <gensim.models.keyedvectors.Vocab object at 0x7fe95de4cb00>, 'von': <gensim.models.keyedvectors.Vocab object at 0x7fe95de4ccc0>, 'den': <gensim.models.keyedvectors.Vocab object at 0x7fe95de4c908>, 'Deutschen_Alpen': <gensim.models.keyedvectors.Vocab object at 0x7fe95de3edd8>, 'zu': <gensim.models.keyedvectors.Vocab object at 0x7fe95de3eba8>, 'und': <gensim.models.keyedvectors.Vocab object at 0x7fe95de3ed30>, 'ihre': <gensim.models.keyedvectors.Vocab object at 0x7fe95de3ea20>, 'Ohne': <gensim.models.keyedvectors.Vocab object at 0x7fe95de46c18>, 'hier': <gensim.models.keyedvectors.Vocab object at 0x7fe95de46ef0>, 'auf': <gensim.models.keyedvectors.Vocab object at 0x7fe95de46f28>, 'die': <gensim.models.keyedvectors.Vocab object at 0x7fe95de46dd8>, 'seiner': <gensim.models.keyedvectors.Vocab object at 0x7fe95de46e10>, 'wollen,': <gensim.models.keyedvectors.Vocab object at 0x7fe95de46208>, 'welche': <gensim.models.keyedvectors.Vocab object at 0x7fe95de46860>, 'nebst': <gensim.models.keyedvectors.Vocab object at 0x7fe95de46eb8>, 'einer': <gensim.models.keyedvectors.Vocab object at 0x7fe95de46d68>, 'Schilderung': <gensim.models.keyedvectors.Vocab object at 0x7fe95de468d0>, 'seines': <gensim.models.keyedvectors.Vocab object at 0x7fe95de46898>, 'der': <gensim.models.keyedvectors.Vocab object at 0x7fe95de462b0>, 'Arbeiten': <gensim.models.keyedvectors.Vocab object at 0x7fe95de46438>, 'einzelnen': <gensim.models.keyedvectors.Vocab object at 0x7fe95de46cf8>, 'im': <gensim.models.keyedvectors.Vocab object at 0x7fe95de46908>, 'des': <gensim.models.keyedvectors.Vocab object at 0x7fe95de46c88>, 'ersten': <gensim.models.keyedvectors.Vocab object at 0x7fe95de46080>, 'werden': <gensim.models.keyedvectors.Vocab object at 0x7fe95de46a20>, 'soll,': <gensim.models.keyedvectors.Vocab object at 0x7fe95de460f0>, 'möge': <gensim.models.keyedvectors.Vocab object at 0x7fe95de46198>, 'nur': <gensim.models.keyedvectors.Vocab object at 0x7fe95de46e80>, 'eine': <gensim.models.keyedvectors.Vocab object at 0x7fe95de46f60>, 'kurze': <gensim.models.keyedvectors.Vocab object at 0x7fe95de46f98>, 'Kaum': <gensim.models.keyedvectors.Vocab object at 0x7fe95de46fd0>, 'finden,': <gensim.models.keyedvectors.Vocab object at 0x7fe95de46940>, 'bei': <gensim.models.keyedvectors.Vocab object at 0x7fe95de46978>, 'gewesen': <gensim.models.keyedvectors.Vocab object at 0x7fe95de46a58>, 'sind.': <gensim.models.keyedvectors.Vocab object at 0x7fe95de46a90>, 'war,': <gensim.models.keyedvectors.Vocab object at 0x7fe95de46ac8>, 'alle': <gensim.models.keyedvectors.Vocab object at 0x7fe95de46b00>, 'Alpen': <gensim.models.keyedvectors.Vocab object at 0x7fe95de46b38>, 'weit': <gensim.models.keyedvectors.Vocab object at 0x7fe95de46b70>, 'in': <gensim.models.keyedvectors.Vocab object at 0x7fe95de46ba8>, 'mögen': <gensim.models.keyedvectors.Vocab object at 0x7fe95de464e0>, 'sie': <gensim.models.keyedvectors.Vocab object at 0x7fe95de46518>, 'selbst': <gensim.models.keyedvectors.Vocab object at 0x7fe95de46550>, 'ihnen': <gensim.models.keyedvectors.Vocab object at 0x7fe95de46e48>, 'auch': <gensim.models.keyedvectors.Vocab object at 0x7fe95de46320>, 'sein,': <gensim.models.keyedvectors.Vocab object at 0x7fe95de46710>, 'diese': <gensim.models.keyedvectors.Vocab object at 0x7fe95de465c0>, '—': <gensim.models.keyedvectors.Vocab object at 0x7fe95de465f8>, 'mag': <gensim.models.keyedvectors.Vocab object at 0x7fe95de467f0>, 'Thäler': <gensim.models.keyedvectors.Vocab object at 0x7fe95de463c8>, 'über': <gensim.models.keyedvectors.Vocab object at 0x7fe95de40748>, 'grünen': <gensim.models.keyedvectors.Vocab object at 0x7fe95de404e0>, 'Höhen': <gensim.models.keyedvectors.Vocab object at 0x7fe95de40048>, 'bis': <gensim.models.keyedvectors.Vocab object at 0x7fe95de40518>, 'hinan': <gensim.models.keyedvectors.Vocab object at 0x7fe95de40588>, 'Grenze': <gensim.models.keyedvectors.Vocab object at 0x7fe95de40e10>, 'sie,': <gensim.models.keyedvectors.Vocab object at 0x7fe95de40c88>, 'für': <gensim.models.keyedvectors.Vocab object at 0x7fe95de40f60>, 'deren': <gensim.models.keyedvectors.Vocab object at 0x7fe95de40a90>, 'Kraft': <gensim.models.keyedvectors.Vocab object at 0x7fe95de40470>, 'haben': <gensim.models.keyedvectors.Vocab object at 0x7fe95de40358>, 'schönsten': <gensim.models.keyedvectors.Vocab object at 0x7fe95de40630>, 'unseres': <gensim.models.keyedvectors.Vocab object at 0x7fe95de40a58>, 'Jahrhunderts': <gensim.models.keyedvectors.Vocab object at 0x7fe95de40f28>, 'muss.': <gensim.models.keyedvectors.Vocab object at 0x7fe95de40438>, 'Für': <gensim.models.keyedvectors.Vocab object at 0x7fe95de40860>, 'soll': <gensim.models.keyedvectors.Vocab object at 0x7fe95de409b0>, 'das': <gensim.models.keyedvectors.Vocab object at 0x7fe95de40278>, 'er': <gensim.models.keyedvectors.Vocab object at 0x7fe95de40d68>, 'durch': <gensim.models.keyedvectors.Vocab object at 0x7fe95de40da0>, 'Wort': <gensim.models.keyedvectors.Vocab object at 0x7fe95de40320>, 'allgemein': <gensim.models.keyedvectors.Vocab object at 0x7fe95de403c8>, 'jene': <gensim.models.keyedvectors.Vocab object at 0x7fe95de40390>, 'Thätigkeit': <gensim.models.keyedvectors.Vocab object at 0x7fe95de40898>, 'Er': <gensim.models.keyedvectors.Vocab object at 0x7fe95de402e8>, 'keine': <gensim.models.keyedvectors.Vocab object at 0x7fe95de40940>, 'anderen': <gensim.models.keyedvectors.Vocab object at 0x7fe95de53048>, 'an': <gensim.models.keyedvectors.Vocab object at 0x7fe95de53080>, 'seine': <gensim.models.keyedvectors.Vocab object at 0x7fe95de530b8>, 'besonderen': <gensim.models.keyedvectors.Vocab object at 0x7fe95de530f0>, 'Interesse': <gensim.models.keyedvectors.Vocab object at 0x7fe95de53128>, 'ist': <gensim.models.keyedvectors.Vocab object at 0x7fe95de53160>, 'kein': <gensim.models.keyedvectors.Vocab object at 0x7fe95de53198>, 'Verein': <gensim.models.keyedvectors.Vocab object at 0x7fe95de531d0>, 'wie': <gensim.models.keyedvectors.Vocab object at 0x7fe95de53208>, 'nach': <gensim.models.keyedvectors.Vocab object at 0x7fe95de53240>, 'ganze': <gensim.models.keyedvectors.Vocab object at 0x7fe95de53278>, 'Gebiet': <gensim.models.keyedvectors.Vocab object at 0x7fe95de532b0>, 'ziehen': <gensim.models.keyedvectors.Vocab object at 0x7fe95de532e8>, 'so': <gensim.models.keyedvectors.Vocab object at 0x7fe95de53320>, 'andererseits': <gensim.models.keyedvectors.Vocab object at 0x7fe95de53358>, 'Deutschen': <gensim.models.keyedvectors.Vocab object at 0x7fe95de53390>, 'nun': <gensim.models.keyedvectors.Vocab object at 0x7fe95de533c8>, 'oder': <gensim.models.keyedvectors.Vocab object at 0x7fe95de53400>, 'werden,': <gensim.models.keyedvectors.Vocab object at 0x7fe95de53438>, 'wo': <gensim.models.keyedvectors.Vocab object at 0x7fe95de53470>, 'ein': <gensim.models.keyedvectors.Vocab object at 0x7fe95de534a8>, 'werden;': <gensim.models.keyedvectors.Vocab object at 0x7fe95de534e0>, 'nicht': <gensim.models.keyedvectors.Vocab object at 0x7fe95de53518>, 'einen': <gensim.models.keyedvectors.Vocab object at 0x7fe95de53550>, 'Punkt': <gensim.models.keyedvectors.Vocab object at 0x7fe95de53588>, 'wurde': <gensim.models.keyedvectors.Vocab object at 0x7fe95de535c0>, 'Anfang': <gensim.models.keyedvectors.Vocab object at 0x7fe95de535f8>, 'dagegen': <gensim.models.keyedvectors.Vocab object at 0x7fe95de53630>, 'Sectionen': <gensim.models.keyedvectors.Vocab object at 0x7fe95de53668>, 'ist.': <gensim.models.keyedvectors.Vocab object at 0x7fe95de536a0>, 'Eine': <gensim.models.keyedvectors.Vocab object at 0x7fe95de536d8>, 'derselben,': <gensim.models.keyedvectors.Vocab object at 0x7fe95de53710>, 'hiezu': <gensim.models.keyedvectors.Vocab object at 0x7fe95de53748>, 'ihren': <gensim.models.keyedvectors.Vocab object at 0x7fe95de53780>, 'gleichfalls': <gensim.models.keyedvectors.Vocab object at 0x7fe95de537b8>, 'Leitung': <gensim.models.keyedvectors.Vocab object at 0x7fe95de537f0>, 'mit': <gensim.models.keyedvectors.Vocab object at 0x7fe95de53828>, 'Dies': <gensim.models.keyedvectors.Vocab object at 0x7fe95de53860>, 'lange': <gensim.models.keyedvectors.Vocab object at 0x7fe95de53898>, 'Mai': <gensim.models.keyedvectors.Vocab object at 0x7fe95de538d0>, '1869': <gensim.models.keyedvectors.Vocab object at 0x7fe95de53908>, 'Anzahl': <gensim.models.keyedvectors.Vocab object at 0x7fe95de53940>, 'Männer': <gensim.models.keyedvectors.Vocab object at 0x7fe95de53978>, 'aus': <gensim.models.keyedvectors.Vocab object at 0x7fe95de539b0>, 'Wien': <gensim.models.keyedvectors.Vocab object at 0x7fe95de539e8>, 'München': <gensim.models.keyedvectors.Vocab object at 0x7fe95de53a20>, 'um': <gensim.models.keyedvectors.Vocab object at 0x7fe95de53a58>, 'vielfach': <gensim.models.keyedvectors.Vocab object at 0x7fe95de53a90>, 'allen': <gensim.models.keyedvectors.Vocab object at 0x7fe95de53ac8>, 'Alpenvereins': <gensim.models.keyedvectors.Vocab object at 0x7fe95de53b00>, 'dass': <gensim.models.keyedvectors.Vocab object at 0x7fe95de53b38>, 'solcher': <gensim.models.keyedvectors.Vocab object at 0x7fe95de53b70>, 'in’s': <gensim.models.keyedvectors.Vocab object at 0x7fe95de53ba8>, 'Leben': <gensim.models.keyedvectors.Vocab object at 0x7fe95de53be0>, 'dadurch': <gensim.models.keyedvectors.Vocab object at 0x7fe95de53c18>, 'einem': <gensim.models.keyedvectors.Vocab object at 0x7fe95de53c50>, 'That': <gensim.models.keyedvectors.Vocab object at 0x7fe95de53c88>, 'schon': <gensim.models.keyedvectors.Vocab object at 0x7fe95de53cc0>, 'vor': <gensim.models.keyedvectors.Vocab object at 0x7fe95de53cf8>, 'welche,': <gensim.models.keyedvectors.Vocab object at 0x7fe95de53d30>, 'ohne': <gensim.models.keyedvectors.Vocab object at 0x7fe95de53d68>, 'früher': <gensim.models.keyedvectors.Vocab object at 0x7fe95de53da0>, 'doch': <gensim.models.keyedvectors.Vocab object at 0x7fe95de53dd8>, 'noch': <gensim.models.keyedvectors.Vocab object at 0x7fe95de53e10>, 'derselben': <gensim.models.keyedvectors.Vocab object at 0x7fe95de53e48>, 'Mitglieder': <gensim.models.keyedvectors.Vocab object at 0x7fe95de53e80>, 'folgenden': <gensim.models.keyedvectors.Vocab object at 0x7fe95de53eb8>, 'Mit': <gensim.models.keyedvectors.Vocab object at 0x7fe95de53ef0>, 'dem': <gensim.models.keyedvectors.Vocab object at 0x7fe95de53f28>, 'Schweizer': <gensim.models.keyedvectors.Vocab object at 0x7fe95de53f60>, 'sind': <gensim.models.keyedvectors.Vocab object at 0x7fe95de53f98>, 'bereits': <gensim.models.keyedvectors.Vocab object at 0x7fe95de53fd0>, 'freundlichen': <gensim.models.keyedvectors.Vocab object at 0x7fe95de56048>, 'letzten': <gensim.models.keyedvectors.Vocab object at 0x7fe95de56080>, 'mit_dem': <gensim.models.keyedvectors.Vocab object at 0x7fe95de560b8>, 'Oesterreichischen': <gensim.models.keyedvectors.Vocab object at 0x7fe95de560f0>, 'Als': <gensim.models.keyedvectors.Vocab object at 0x7fe95de56128>, 'Section': <gensim.models.keyedvectors.Vocab object at 0x7fe95de56160>, 'erste': <gensim.models.keyedvectors.Vocab object at 0x7fe95de56198>, 'Vereinsjahr': <gensim.models.keyedvectors.Vocab object at 0x7fe95de561d0>, 'Juni': <gensim.models.keyedvectors.Vocab object at 0x7fe95de56208>, 'zuerst': <gensim.models.keyedvectors.Vocab object at 0x7fe95de56240>, 'somit': <gensim.models.keyedvectors.Vocab object at 0x7fe95de56278>, 'als': <gensim.models.keyedvectors.Vocab object at 0x7fe95de562b0>, 'dieser': <gensim.models.keyedvectors.Vocab object at 0x7fe95de562e8>, 'Mitgliedern': <gensim.models.keyedvectors.Vocab object at 0x7fe95de56320>, 'wird.': <gensim.models.keyedvectors.Vocab object at 0x7fe95de56358>, 'Die': <gensim.models.keyedvectors.Vocab object at 0x7fe95de56390>, 'vom': <gensim.models.keyedvectors.Vocab object at 0x7fe95de563c8>, 'Es': <gensim.models.keyedvectors.Vocab object at 0x7fe95de56400>, 'wäre': <gensim.models.keyedvectors.Vocab object at 0x7fe95de56438>, 'mir': <gensim.models.keyedvectors.Vocab object at 0x7fe95de56470>, 'unmöglich': <gensim.models.keyedvectors.Vocab object at 0x7fe95de564a8>, 'gewesen,': <gensim.models.keyedvectors.Vocab object at 0x7fe95de564e0>, 'diesem': <gensim.models.keyedvectors.Vocab object at 0x7fe95de56518>, 'gewesen.': <gensim.models.keyedvectors.Vocab object at 0x7fe95de56550>, 'Wenn': <gensim.models.keyedvectors.Vocab object at 0x7fe95de56588>, 'ich_mich': <gensim.models.keyedvectors.Vocab object at 0x7fe95de565c0>, 'eben': <gensim.models.keyedvectors.Vocab object at 0x7fe95de565f8>, 'manche': <gensim.models.keyedvectors.Vocab object at 0x7fe95de56630>, 'gemacht': <gensim.models.keyedvectors.Vocab object at 0x7fe95de56668>, 'müssen,': <gensim.models.keyedvectors.Vocab object at 0x7fe95de566a0>, 'erst': <gensim.models.keyedvectors.Vocab object at 0x7fe95de566d8>, 'lassen.': <gensim.models.keyedvectors.Vocab object at 0x7fe95de56710>, 'Nur': <gensim.models.keyedvectors.Vocab object at 0x7fe95de56748>, 'wird': <gensim.models.keyedvectors.Vocab object at 0x7fe95de56780>, 'möglich': <gensim.models.keyedvectors.Vocab object at 0x7fe95de567b8>, 'was': <gensim.models.keyedvectors.Vocab object at 0x7fe95de567f0>, 'sein': <gensim.models.keyedvectors.Vocab object at 0x7fe95de56828>, 'Centralausschuss': <gensim.models.keyedvectors.Vocab object at 0x7fe95de56860>, 'eigene': <gensim.models.keyedvectors.Vocab object at 0x7fe95de56898>, 'Herstellung': <gensim.models.keyedvectors.Vocab object at 0x7fe95de568d0>, 'jedoch': <gensim.models.keyedvectors.Vocab object at 0x7fe95de56908>, 'J.': <gensim.models.keyedvectors.Vocab object at 0x7fe95de56940>, 'dieselbe': <gensim.models.keyedvectors.Vocab object at 0x7fe95de56978>, 'ausserdem': <gensim.models.keyedvectors.Vocab object at 0x7fe95de569b0>, 'sowie': <gensim.models.keyedvectors.Vocab object at 0x7fe95de569e8>, 'wird;': <gensim.models.keyedvectors.Vocab object at 0x7fe95de56a20>, 'letzterem': <gensim.models.keyedvectors.Vocab object at 0x7fe95de56a58>, 'gegenüber': <gensim.models.keyedvectors.Vocab object at 0x7fe95de56a90>, 'übrigens': <gensim.models.keyedvectors.Vocab object at 0x7fe95de56ac8>, 'Preis': <gensim.models.keyedvectors.Vocab object at 0x7fe95de56b00>, 'unser': <gensim.models.keyedvectors.Vocab object at 0x7fe95de56b38>, 'erscheint': <gensim.models.keyedvectors.Vocab object at 0x7fe95de56b70>, 'wohl': <gensim.models.keyedvectors.Vocab object at 0x7fe95de56ba8>, 'keinem': <gensim.models.keyedvectors.Vocab object at 0x7fe95de56be0>, 'Form': <gensim.models.keyedvectors.Vocab object at 0x7fe95de56c18>, 'Vereins': <gensim.models.keyedvectors.Vocab object at 0x7fe95de56c50>, 'am': <gensim.models.keyedvectors.Vocab object at 0x7fe95de56c88>, 'meisten': <gensim.models.keyedvectors.Vocab object at 0x7fe95de56cc0>, 'je': <gensim.models.keyedvectors.Vocab object at 0x7fe95de56cf8>, 'drei': <gensim.models.keyedvectors.Vocab object at 0x7fe95de56d30>, 'vier': <gensim.models.keyedvectors.Vocab object at 0x7fe95de56d68>, 'erscheinen': <gensim.models.keyedvectors.Vocab object at 0x7fe95de56da0>, 'haben.': <gensim.models.keyedvectors.Vocab object at 0x7fe95de56dd8>, 'zusammen': <gensim.models.keyedvectors.Vocab object at 0x7fe95de56e10>, '25': <gensim.models.keyedvectors.Vocab object at 0x7fe95de56e48>, '30': <gensim.models.keyedvectors.Vocab object at 0x7fe95de56e80>, 'Zahl': <gensim.models.keyedvectors.Vocab object at 0x7fe95de56eb8>, 'geben.': <gensim.models.keyedvectors.Vocab object at 0x7fe95de56ef0>, 'zwei': <gensim.models.keyedvectors.Vocab object at 0x7fe95de56f28>, 'wird,': <gensim.models.keyedvectors.Vocab object at 0x7fe95de56f60>, 'während': <gensim.models.keyedvectors.Vocab object at 0x7fe95de56f98>, 'überhaupt': <gensim.models.keyedvectors.Vocab object at 0x7fe95de56fd0>, 'Theil': <gensim.models.keyedvectors.Vocab object at 0x7fe95de58048>, 'bestimmt': <gensim.models.keyedvectors.Vocab object at 0x7fe95de58080>, 'ist,': <gensim.models.keyedvectors.Vocab object at 0x7fe95de580b8>, 'möglichst': <gensim.models.keyedvectors.Vocab object at 0x7fe95de580f0>, 'und_zwar': <gensim.models.keyedvectors.Vocab object at 0x7fe95de58128>, 'zweiten': <gensim.models.keyedvectors.Vocab object at 0x7fe95de58160>, 'Jahres': <gensim.models.keyedvectors.Vocab object at 0x7fe95de58198>, '-': <gensim.models.keyedvectors.Vocab object at 0x7fe95de581d0>, 'bringen': <gensim.models.keyedvectors.Vocab object at 0x7fe95de58208>, 'Was': <gensim.models.keyedvectors.Vocab object at 0x7fe95de58240>, 'betrifft,': <gensim.models.keyedvectors.Vocab object at 0x7fe95de58278>, 'möchte': <gensim.models.keyedvectors.Vocab object at 0x7fe95de582b0>, 'weniger': <gensim.models.keyedvectors.Vocab object at 0x7fe95de582e8>, 'seien': <gensim.models.keyedvectors.Vocab object at 0x7fe95de58320>, 'ausgeführt': <gensim.models.keyedvectors.Vocab object at 0x7fe95de58358>, 'blos': <gensim.models.keyedvectors.Vocab object at 0x7fe95de58390>, 'ferner': <gensim.models.keyedvectors.Vocab object at 0x7fe95de583c8>, 'zumal': <gensim.models.keyedvectors.Vocab object at 0x7fe95de58400>, 'wahrhaft': <gensim.models.keyedvectors.Vocab object at 0x7fe95de58438>, 'würde': <gensim.models.keyedvectors.Vocab object at 0x7fe95de58470>, 'seinen': <gensim.models.keyedvectors.Vocab object at 0x7fe95de584a8>, 'desshalb': <gensim.models.keyedvectors.Vocab object at 0x7fe95de584e0>, 'zunächst': <gensim.models.keyedvectors.Vocab object at 0x7fe95de58518>, 'weil': <gensim.models.keyedvectors.Vocab object at 0x7fe95de58550>, 'uns': <gensim.models.keyedvectors.Vocab object at 0x7fe95de58588>, 'Karte': <gensim.models.keyedvectors.Vocab object at 0x7fe95de585c0>, 'ganz': <gensim.models.keyedvectors.Vocab object at 0x7fe95de585f8>, 'entschieden': <gensim.models.keyedvectors.Vocab object at 0x7fe95de58630>, 'sei': <gensim.models.keyedvectors.Vocab object at 0x7fe95de58668>, 'Auge': <gensim.models.keyedvectors.Vocab object at 0x7fe95de586a0>, 'zum': <gensim.models.keyedvectors.Vocab object at 0x7fe95de586d8>, 'einiger': <gensim.models.keyedvectors.Vocab object at 0x7fe95de58710>, 'haben,': <gensim.models.keyedvectors.Vocab object at 0x7fe95de58748>, 'welches': <gensim.models.keyedvectors.Vocab object at 0x7fe95de58780>, 'dies': <gensim.models.keyedvectors.Vocab object at 0x7fe95de587b8>, 'kann': <gensim.models.keyedvectors.Vocab object at 0x7fe95de587f0>, 'Tage': <gensim.models.keyedvectors.Vocab object at 0x7fe95de58828>, 'anderes': <gensim.models.keyedvectors.Vocab object at 0x7fe95de58860>, 'mehr': <gensim.models.keyedvectors.Vocab object at 0x7fe95de58898>, 'Messung': <gensim.models.keyedvectors.Vocab object at 0x7fe95de588d0>, 'Höhe': <gensim.models.keyedvectors.Vocab object at 0x7fe95de58908>, 'aber,': <gensim.models.keyedvectors.Vocab object at 0x7fe95de58940>, 'keiner': <gensim.models.keyedvectors.Vocab object at 0x7fe95de58978>, 'leider': <gensim.models.keyedvectors.Vocab object at 0x7fe95de589b0>, 'war': <gensim.models.keyedvectors.Vocab object at 0x7fe95de589e8>, 'möglich,': <gensim.models.keyedvectors.Vocab object at 0x7fe95de58a20>, 'dieselben': <gensim.models.keyedvectors.Vocab object at 0x7fe95de58a58>, 'soweit': <gensim.models.keyedvectors.Vocab object at 0x7fe95de58a90>, 'z.': <gensim.models.keyedvectors.Vocab object at 0x7fe95de58ac8>, 'B.': <gensim.models.keyedvectors.Vocab object at 0x7fe95de58b00>, 'W._F.': <gensim.models.keyedvectors.Vocab object at 0x7fe95de58b38>, 'darüber': <gensim.models.keyedvectors.Vocab object at 0x7fe95de58b70>, 'finden': <gensim.models.keyedvectors.Vocab object at 0x7fe95de58ba8>, 'wäre.': <gensim.models.keyedvectors.Vocab object at 0x7fe95de58be0>, 'dritte': <gensim.models.keyedvectors.Vocab object at 0x7fe95de58c18>, 'Seite': <gensim.models.keyedvectors.Vocab object at 0x7fe95de58c50>, 'Rücksicht': <gensim.models.keyedvectors.Vocab object at 0x7fe95de58c88>, 'I.': <gensim.models.keyedvectors.Vocab object at 0x7fe95de58cc0>, 'scheint': <gensim.models.keyedvectors.Vocab object at 0x7fe95de58cf8>, 'keineswegs': <gensim.models.keyedvectors.Vocab object at 0x7fe95de58d30>, 'bringen,': <gensim.models.keyedvectors.Vocab object at 0x7fe95de58d68>, 'liegt': <gensim.models.keyedvectors.Vocab object at 0x7fe95de58da0>, 'verschiedenen': <gensim.models.keyedvectors.Vocab object at 0x7fe95de58dd8>, 'Seiten': <gensim.models.keyedvectors.Vocab object at 0x7fe95de58e10>, 'sind,': <gensim.models.keyedvectors.Vocab object at 0x7fe95de58e48>, 'längere': <gensim.models.keyedvectors.Vocab object at 0x7fe95de58e80>, 'Zeit': <gensim.models.keyedvectors.Vocab object at 0x7fe95de58eb8>, 'Dem': <gensim.models.keyedvectors.Vocab object at 0x7fe95de58ef0>, 'all’': <gensim.models.keyedvectors.Vocab object at 0x7fe95de58f28>, 'ihm': <gensim.models.keyedvectors.Vocab object at 0x7fe95de58f60>, 'Mittheilungen': <gensim.models.keyedvectors.Vocab object at 0x7fe95de58f98>, ',': <gensim.models.keyedvectors.Vocab object at 0x7fe95de58fd0>, 'Hand': <gensim.models.keyedvectors.Vocab object at 0x7fe95dddc048>, 'Es_war': <gensim.models.keyedvectors.Vocab object at 0x7fe95dddc080>, 'im_Jahre': <gensim.models.keyedvectors.Vocab object at 0x7fe95dddc0b8>, '1865': <gensim.models.keyedvectors.Vocab object at 0x7fe95dddc0f0>, 'ich,': <gensim.models.keyedvectors.Vocab object at 0x7fe95dddc128>, 'Aufenthalte': <gensim.models.keyedvectors.Vocab object at 0x7fe95dddc160>, 'August': <gensim.models.keyedvectors.Vocab object at 0x7fe95dddc198>, 'abermals': <gensim.models.keyedvectors.Vocab object at 0x7fe95dddc1d0>, 'Ginzling': <gensim.models.keyedvectors.Vocab object at 0x7fe95dddc208>, 'aus,': <gensim.models.keyedvectors.Vocab object at 0x7fe95dddc240>, 'Zillerthaler': <gensim.models.keyedvectors.Vocab object at 0x7fe95dddc278>, 'ersteigen.': <gensim.models.keyedvectors.Vocab object at 0x7fe95dddc2b0>, 'Ich': <gensim.models.keyedvectors.Vocab object at 0x7fe95dddc2e8>, 'hatte': <gensim.models.keyedvectors.Vocab object at 0x7fe95dddc320>, 'Nacht': <gensim.models.keyedvectors.Vocab object at 0x7fe95dddc358>, 'beim': <gensim.models.keyedvectors.Vocab object at 0x7fe95dddc390>, 'der,': <gensim.models.keyedvectors.Vocab object at 0x7fe95dddc3c8>, 'starken': <gensim.models.keyedvectors.Vocab object at 0x7fe95dddc400>, 'Weges': <gensim.models.keyedvectors.Vocab object at 0x7fe95dddc438>, 'bekanntlich': <gensim.models.keyedvectors.Vocab object at 0x7fe95dddc470>, 'Winter': <gensim.models.keyedvectors.Vocab object at 0x7fe95dddc4a8>, 'einigen': <gensim.models.keyedvectors.Vocab object at 0x7fe95dddc4e0>, 'sehr': <gensim.models.keyedvectors.Vocab object at 0x7fe95dddc518>, 'gut': <gensim.models.keyedvectors.Vocab object at 0x7fe95dddc550>, 'Morgens': <gensim.models.keyedvectors.Vocab object at 0x7fe95dddc588>, 'sogar': <gensim.models.keyedvectors.Vocab object at 0x7fe95dddc5c0>, 'meinen': <gensim.models.keyedvectors.Vocab object at 0x7fe95dddc5f8>, 'Weg': <gensim.models.keyedvectors.Vocab object at 0x7fe95dddc630>, 'Uhr': <gensim.models.keyedvectors.Vocab object at 0x7fe95dddc668>, 'Richtung': <gensim.models.keyedvectors.Vocab object at 0x7fe95dddc6a0>, 'gegen': <gensim.models.keyedvectors.Vocab object at 0x7fe95dddc6d8>, 'ich': <gensim.models.keyedvectors.Vocab object at 0x7fe95dddc710>, 'Tag': <gensim.models.keyedvectors.Vocab object at 0x7fe95dddc748>, 'Gegend': <gensim.models.keyedvectors.Vocab object at 0x7fe95dddc780>, 'sein.': <gensim.models.keyedvectors.Vocab object at 0x7fe95dddc7b8>, 'Nachdem': <gensim.models.keyedvectors.Vocab object at 0x7fe95dddc7f0>, 'mein': <gensim.models.keyedvectors.Vocab object at 0x7fe95dddc828>, 'Besuch': <gensim.models.keyedvectors.Vocab object at 0x7fe95dddc860>, 'Herrn': <gensim.models.keyedvectors.Vocab object at 0x7fe95dddc898>, 'seinem': <gensim.models.keyedvectors.Vocab object at 0x7fe95dddc8d0>, 'dazu': <gensim.models.keyedvectors.Vocab object at 0x7fe95dddc908>, 'machte': <gensim.models.keyedvectors.Vocab object at 0x7fe95dddc940>, 'schliesslich': <gensim.models.keyedvectors.Vocab object at 0x7fe95dddc978>, 'Abend': <gensim.models.keyedvectors.Vocab object at 0x7fe95dddc9b0>, 'Gesellschaft': <gensim.models.keyedvectors.Vocab object at 0x7fe95dddc9e8>, 'Weise': <gensim.models.keyedvectors.Vocab object at 0x7fe95dddca20>, '11': <gensim.models.keyedvectors.Vocab object at 0x7fe95dddca58>, 'Am': <gensim.models.keyedvectors.Vocab object at 0x7fe95dddca90>, 'sollte': <gensim.models.keyedvectors.Vocab object at 0x7fe95dddcac8>, 'Morgen': <gensim.models.keyedvectors.Vocab object at 0x7fe95dddcb00>, 'werden.': <gensim.models.keyedvectors.Vocab object at 0x7fe95dddcb38>, 'Da': <gensim.models.keyedvectors.Vocab object at 0x7fe95dddcb70>, 'wegen': <gensim.models.keyedvectors.Vocab object at 0x7fe95dddcba8>, 'Führer': <gensim.models.keyedvectors.Vocab object at 0x7fe95dddcbe0>, 'kam': <gensim.models.keyedvectors.Vocab object at 0x7fe95dddcc18>, 'es,': <gensim.models.keyedvectors.Vocab object at 0x7fe95dddcc50>, 'Marsch': <gensim.models.keyedvectors.Vocab object at 0x7fe95dddcc88>, 'konnte.': <gensim.models.keyedvectors.Vocab object at 0x7fe95dddccc0>, 'einzige': <gensim.models.keyedvectors.Vocab object at 0x7fe95dddccf8>, 'kleine': <gensim.models.keyedvectors.Vocab object at 0x7fe95dddcd30>, 'gute': <gensim.models.keyedvectors.Vocab object at 0x7fe95dddcd68>, 'Stunden': <gensim.models.keyedvectors.Vocab object at 0x7fe95dddcda0>, 'etwa': <gensim.models.keyedvectors.Vocab object at 0x7fe95dddcdd8>, 'Stunde': <gensim.models.keyedvectors.Vocab object at 0x7fe95dddce10>, 'oberhalb': <gensim.models.keyedvectors.Vocab object at 0x7fe95dddce48>, 'oberen': <gensim.models.keyedvectors.Vocab object at 0x7fe95dddce80>, 'Schlucht': <gensim.models.keyedvectors.Vocab object at 0x7fe95dddceb8>, 'gerade': <gensim.models.keyedvectors.Vocab object at 0x7fe95dddcef0>, 'Mündung': <gensim.models.keyedvectors.Vocab object at 0x7fe95dddcf28>, 'Kirche': <gensim.models.keyedvectors.Vocab object at 0x7fe95dddcf60>, 'aus_dem': <gensim.models.keyedvectors.Vocab object at 0x7fe95dddcf98>, 'Widum': <gensim.models.keyedvectors.Vocab object at 0x7fe95dddcfd0>, 'dann': <gensim.models.keyedvectors.Vocab object at 0x7fe95dde0048>, 'rechten': <gensim.models.keyedvectors.Vocab object at 0x7fe95dde0080>, 'Ufer': <gensim.models.keyedvectors.Vocab object at 0x7fe95dde00b8>, 'mächtigen': <gensim.models.keyedvectors.Vocab object at 0x7fe95dde00f0>, 'liegen.': <gensim.models.keyedvectors.Vocab object at 0x7fe95dde0128>, 'Ein': <gensim.models.keyedvectors.Vocab object at 0x7fe95dde0160>, 'beide': <gensim.models.keyedvectors.Vocab object at 0x7fe95dde0198>, 'Noch': <gensim.models.keyedvectors.Vocab object at 0x7fe95dde01d0>, '10': <gensim.models.keyedvectors.Vocab object at 0x7fe95dde0208>, 'andere': <gensim.models.keyedvectors.Vocab object at 0x7fe95dde0240>, 'gehören': <gensim.models.keyedvectors.Vocab object at 0x7fe95dde0278>, 'aber': <gensim.models.keyedvectors.Vocab object at 0x7fe95dde02b0>, 'sanft': <gensim.models.keyedvectors.Vocab object at 0x7fe95dde02e8>, 'halbe_Stunde': <gensim.models.keyedvectors.Vocab object at 0x7fe95dde0320>, 'unterhalb': <gensim.models.keyedvectors.Vocab object at 0x7fe95dde0358>, 'hie': <gensim.models.keyedvectors.Vocab object at 0x7fe95dde0390>, 'da': <gensim.models.keyedvectors.Vocab object at 0x7fe95dde03c8>, 'etwas': <gensim.models.keyedvectors.Vocab object at 0x7fe95dde0400>, 'ebenen': <gensim.models.keyedvectors.Vocab object at 0x7fe95dde0438>, 'Thalboden': <gensim.models.keyedvectors.Vocab object at 0x7fe95dde0470>, 'Stellen': <gensim.models.keyedvectors.Vocab object at 0x7fe95dde04a8>, 'hat.': <gensim.models.keyedvectors.Vocab object at 0x7fe95dde04e0>, 'Wiesen': <gensim.models.keyedvectors.Vocab object at 0x7fe95dde0518>, 'voll': <gensim.models.keyedvectors.Vocab object at 0x7fe95dde0550>, 'unteren': <gensim.models.keyedvectors.Vocab object at 0x7fe95dde0588>, 'höheren': <gensim.models.keyedvectors.Vocab object at 0x7fe95dde05c0>, 'grosser': <gensim.models.keyedvectors.Vocab object at 0x7fe95dde05f8>, 'Entfernung': <gensim.models.keyedvectors.Vocab object at 0x7fe95dde0630>, 'Thal': <gensim.models.keyedvectors.Vocab object at 0x7fe95dde0668>, 'So': <gensim.models.keyedvectors.Vocab object at 0x7fe95dde06a0>, 'erhebt_sich': <gensim.models.keyedvectors.Vocab object at 0x7fe95dde06d8>, 'im_Süden': <gensim.models.keyedvectors.Vocab object at 0x7fe95dde0710>, 'breite': <gensim.models.keyedvectors.Vocab object at 0x7fe95dde0748>, 'W._F.,': <gensim.models.keyedvectors.Vocab object at 0x7fe95dde0780>, 'Meter': <gensim.models.keyedvectors.Vocab object at 0x7fe95dde07b8>, 'hoch,': <gensim.models.keyedvectors.Vocab object at 0x7fe95dde07f0>, 'dicht': <gensim.models.keyedvectors.Vocab object at 0x7fe95dde0828>, 'neben': <gensim.models.keyedvectors.Vocab object at 0x7fe95dde0860>, 'schöne': <gensim.models.keyedvectors.Vocab object at 0x7fe95dde0898>, 'Formen': <gensim.models.keyedvectors.Vocab object at 0x7fe95dde08d0>, 'gibt': <gensim.models.keyedvectors.Vocab object at 0x7fe95dde0908>, 'an.': <gensim.models.keyedvectors.Vocab object at 0x7fe95dde0940>, 'zwischen': <gensim.models.keyedvectors.Vocab object at 0x7fe95dde0978>, 'd.': <gensim.models.keyedvectors.Vocab object at 0x7fe95dde09b0>, 'mehr_als': <gensim.models.keyedvectors.Vocab object at 0x7fe95dde09e8>, 'Meilen': <gensim.models.keyedvectors.Vocab object at 0x7fe95dde0a20>, 'langen': <gensim.models.keyedvectors.Vocab object at 0x7fe95dde0a58>, 'Klamm': <gensim.models.keyedvectors.Vocab object at 0x7fe95dde0a90>, 'nicht_mehr': <gensim.models.keyedvectors.Vocab object at 0x7fe95dde0ac8>, 'F.,': <gensim.models.keyedvectors.Vocab object at 0x7fe95dde0b00>, 'Schon': <gensim.models.keyedvectors.Vocab object at 0x7fe95dde0b38>, '¾_Stunden': <gensim.models.keyedvectors.Vocab object at 0x7fe95dde0b70>, 'abwärts': <gensim.models.keyedvectors.Vocab object at 0x7fe95dde0ba8>, 'liegenden': <gensim.models.keyedvectors.Vocab object at 0x7fe95dde0be0>, 'habe_ich': <gensim.models.keyedvectors.Vocab object at 0x7fe95dde0c18>, 'Wege': <gensim.models.keyedvectors.Vocab object at 0x7fe95dde0c50>, 'mir,': <gensim.models.keyedvectors.Vocab object at 0x7fe95dde0c88>, 'F.': <gensim.models.keyedvectors.Vocab object at 0x7fe95dde0cc0>, 'demnach': <gensim.models.keyedvectors.Vocab object at 0x7fe95dde0cf8>, 'Stelle': <gensim.models.keyedvectors.Vocab object at 0x7fe95dde0d30>, 'einander': <gensim.models.keyedvectors.Vocab object at 0x7fe95dde0d68>, 'nahe': <gensim.models.keyedvectors.Vocab object at 0x7fe95dde0da0>, 'stehen': <gensim.models.keyedvectors.Vocab object at 0x7fe95dde0dd8>, 'Thalsohle': <gensim.models.keyedvectors.Vocab object at 0x7fe95dde0e10>, 'dieses': <gensim.models.keyedvectors.Vocab object at 0x7fe95dde0e48>, 'plötzlich': <gensim.models.keyedvectors.Vocab object at 0x7fe95dde0e80>, 'mehrere': <gensim.models.keyedvectors.Vocab object at 0x7fe95dde0eb8>, 'Fuss': <gensim.models.keyedvectors.Vocab object at 0x7fe95dde0ef0>, 'einige': <gensim.models.keyedvectors.Vocab object at 0x7fe95dde0f28>, 'höhere': <gensim.models.keyedvectors.Vocab object at 0x7fe95dde0f60>, 'Theile': <gensim.models.keyedvectors.Vocab object at 0x7fe95dde0f98>, 'Thalseite': <gensim.models.keyedvectors.Vocab object at 0x7fe95dde0fd0>, 'sehen.': <gensim.models.keyedvectors.Vocab object at 0x7fe95dde3048>, 'Dieser': <gensim.models.keyedvectors.Vocab object at 0x7fe95dde3080>, 'ohne_Zweifel': <gensim.models.keyedvectors.Vocab object at 0x7fe95dde30b8>, 'Stück': <gensim.models.keyedvectors.Vocab object at 0x7fe95dde30f0>, 'Pracht': <gensim.models.keyedvectors.Vocab object at 0x7fe95dde3128>, 'worden': <gensim.models.keyedvectors.Vocab object at 0x7fe95dde3160>, 'Wie': <gensim.models.keyedvectors.Vocab object at 0x7fe95dde3198>, 'Wirklichkeit': <gensim.models.keyedvectors.Vocab object at 0x7fe95dde31d0>, 'wenn': <gensim.models.keyedvectors.Vocab object at 0x7fe95dde3208>, 'irgend': <gensim.models.keyedvectors.Vocab object at 0x7fe95dde3240>, 'vielleicht': <gensim.models.keyedvectors.Vocab object at 0x7fe95dde3278>, 'meine': <gensim.models.keyedvectors.Vocab object at 0x7fe95dde32b0>, 'hin,': <gensim.models.keyedvectors.Vocab object at 0x7fe95dde32e8>, 'Witterung': <gensim.models.keyedvectors.Vocab object at 0x7fe95dde3320>, 'jenem': <gensim.models.keyedvectors.Vocab object at 0x7fe95dde3358>, 'geworden.': <gensim.models.keyedvectors.Vocab object at 0x7fe95dde3390>, 'Anstieg': <gensim.models.keyedvectors.Vocab object at 0x7fe95dde33c8>, 'weg': <gensim.models.keyedvectors.Vocab object at 0x7fe95dde3400>, 'steil': <gensim.models.keyedvectors.Vocab object at 0x7fe95dde3438>, 'nichts': <gensim.models.keyedvectors.Vocab object at 0x7fe95dde3470>, 'Auch': <gensim.models.keyedvectors.Vocab object at 0x7fe95dde34a8>, 'Wetter': <gensim.models.keyedvectors.Vocab object at 0x7fe95dde34e0>, 'war.': <gensim.models.keyedvectors.Vocab object at 0x7fe95dde3518>, 'Steig': <gensim.models.keyedvectors.Vocab object at 0x7fe95dde3550>, 'genug': <gensim.models.keyedvectors.Vocab object at 0x7fe95dde3588>, 'Luft': <gensim.models.keyedvectors.Vocab object at 0x7fe95dde35c0>, 'Baches': <gensim.models.keyedvectors.Vocab object at 0x7fe95dde35f8>, 'Natur': <gensim.models.keyedvectors.Vocab object at 0x7fe95dde3630>, 'diesen': <gensim.models.keyedvectors.Vocab object at 0x7fe95dde3668>, 'Regel': <gensim.models.keyedvectors.Vocab object at 0x7fe95dde36a0>, 'richtig': <gensim.models.keyedvectors.Vocab object at 0x7fe95dde36d8>, 'ihn': <gensim.models.keyedvectors.Vocab object at 0x7fe95dde3710>, 'erwähnten': <gensim.models.keyedvectors.Vocab object at 0x7fe95dde3748>, 'viel': <gensim.models.keyedvectors.Vocab object at 0x7fe95dde3780>, 'Nach': <gensim.models.keyedvectors.Vocab object at 0x7fe95dde37b8>, 'bisher': <gensim.models.keyedvectors.Vocab object at 0x7fe95dde37f0>, 'linken': <gensim.models.keyedvectors.Vocab object at 0x7fe95dde3828>, 'setzt': <gensim.models.keyedvectors.Vocab object at 0x7fe95dde3860>, 'jetzt': <gensim.models.keyedvectors.Vocab object at 0x7fe95dde3898>, 'mittelst': <gensim.models.keyedvectors.Vocab object at 0x7fe95dde38d0>, 'Brücke': <gensim.models.keyedvectors.Vocab object at 0x7fe95dde3908>, 'bald': <gensim.models.keyedvectors.Vocab object at 0x7fe95dde3940>, 'darauf': <gensim.models.keyedvectors.Vocab object at 0x7fe95dde3978>, 'man': <gensim.models.keyedvectors.Vocab object at 0x7fe95dde39b0>, 'erreicht,': <gensim.models.keyedvectors.Vocab object at 0x7fe95dde39e8>, '1000': <gensim.models.keyedvectors.Vocab object at 0x7fe95dde3a20>, 'höher': <gensim.models.keyedvectors.Vocab object at 0x7fe95dde3a58>, 'liegt.': <gensim.models.keyedvectors.Vocab object at 0x7fe95dde3a90>, 'Alpe': <gensim.models.keyedvectors.Vocab object at 0x7fe95dde3ac8>, 'zu,': <gensim.models.keyedvectors.Vocab object at 0x7fe95dde3b00>, 'theils': <gensim.models.keyedvectors.Vocab object at 0x7fe95dde3b38>, 'mich': <gensim.models.keyedvectors.Vocab object at 0x7fe95dde3b70>, 'Marsche': <gensim.models.keyedvectors.Vocab object at 0x7fe95dde3ba8>, 'In': <gensim.models.keyedvectors.Vocab object at 0x7fe95dde3be0>, 'Hütte': <gensim.models.keyedvectors.Vocab object at 0x7fe95dde3c18>, 'ging_es': <gensim.models.keyedvectors.Vocab object at 0x7fe95dde3c50>, 'lebhaft': <gensim.models.keyedvectors.Vocab object at 0x7fe95dde3c88>, 'zu.': <gensim.models.keyedvectors.Vocab object at 0x7fe95dde3cc0>, 'Mann': <gensim.models.keyedvectors.Vocab object at 0x7fe95dde3cf8>, 'Senner': <gensim.models.keyedvectors.Vocab object at 0x7fe95dde3d30>, 'wollte,': <gensim.models.keyedvectors.Vocab object at 0x7fe95dde3d68>, 'zuletzt': <gensim.models.keyedvectors.Vocab object at 0x7fe95dde3da0>, 'gross': <gensim.models.keyedvectors.Vocab object at 0x7fe95dde3dd8>, 'Fremden': <gensim.models.keyedvectors.Vocab object at 0x7fe95dde3e10>, 'dass_er': <gensim.models.keyedvectors.Vocab object at 0x7fe95dde3e48>, 'lang': <gensim.models.keyedvectors.Vocab object at 0x7fe95dde3e80>, 'weiter': <gensim.models.keyedvectors.Vocab object at 0x7fe95dde3eb8>, 'unter': <gensim.models.keyedvectors.Vocab object at 0x7fe95dde3ef0>, 'Ruhe': <gensim.models.keyedvectors.Vocab object at 0x7fe95dde3f28>, 'Das': <gensim.models.keyedvectors.Vocab object at 0x7fe95dde3f60>, 'bis_zum': <gensim.models.keyedvectors.Vocab object at 0x7fe95dde3f98>, 'am_Fusse': <gensim.models.keyedvectors.Vocab object at 0x7fe95dde3fd0>, 'zog': <gensim.models.keyedvectors.Vocab object at 0x7fe95dde7048>, 'allenthalben': <gensim.models.keyedvectors.Vocab object at 0x7fe95dde7080>, 'wenn_auch': <gensim.models.keyedvectors.Vocab object at 0x7fe95dde70b8>, 'geringe': <gensim.models.keyedvectors.Vocab object at 0x7fe95dde70f0>, 'Breite': <gensim.models.keyedvectors.Vocab object at 0x7fe95dde7128>, 'so_dass': <gensim.models.keyedvectors.Vocab object at 0x7fe95dde7160>, 'Verhältnisse': <gensim.models.keyedvectors.Vocab object at 0x7fe95dde7198>, 'im_Allgemeinen': <gensim.models.keyedvectors.Vocab object at 0x7fe95dde71d0>, 'ziemlich': <gensim.models.keyedvectors.Vocab object at 0x7fe95dde7208>, 'waren.': <gensim.models.keyedvectors.Vocab object at 0x7fe95dde7240>, 'stieg': <gensim.models.keyedvectors.Vocab object at 0x7fe95dde7278>, 'zeigte': <gensim.models.keyedvectors.Vocab object at 0x7fe95dde72b0>, 'nirgends': <gensim.models.keyedvectors.Vocab object at 0x7fe95dde72e8>, 'das_Thal': <gensim.models.keyedvectors.Vocab object at 0x7fe95dde7320>, 'beiden_Seiten': <gensim.models.keyedvectors.Vocab object at 0x7fe95dde7358>, 'ein,': <gensim.models.keyedvectors.Vocab object at 0x7fe95dde7390>, 'besonders': <gensim.models.keyedvectors.Vocab object at 0x7fe95dde73c8>, 'waren': <gensim.models.keyedvectors.Vocab object at 0x7fe95dde7400>, 'wilden': <gensim.models.keyedvectors.Vocab object at 0x7fe95dde7438>, 'Aufmerksamkeit': <gensim.models.keyedvectors.Vocab object at 0x7fe95dde7470>, 'Grade': <gensim.models.keyedvectors.Vocab object at 0x7fe95dde74a8>, 'Im': <gensim.models.keyedvectors.Vocab object at 0x7fe95dde74e0>, 'Hintergründe': <gensim.models.keyedvectors.Vocab object at 0x7fe95dde7518>, 'des_Thales': <gensim.models.keyedvectors.Vocab object at 0x7fe95dde7550>, 'ganzen': <gensim.models.keyedvectors.Vocab object at 0x7fe95dde7588>, 'weichen': <gensim.models.keyedvectors.Vocab object at 0x7fe95dde75c0>, 'oben': <gensim.models.keyedvectors.Vocab object at 0x7fe95dde75f8>, 'hohe': <gensim.models.keyedvectors.Vocab object at 0x7fe95dde7630>, 'unten': <gensim.models.keyedvectors.Vocab object at 0x7fe95dde7668>, 'Tiefe': <gensim.models.keyedvectors.Vocab object at 0x7fe95dde76a0>, 'Diese': <gensim.models.keyedvectors.Vocab object at 0x7fe95dde76d8>, 'Grossartigkeit': <gensim.models.keyedvectors.Vocab object at 0x7fe95dde7710>, 'Eindruck': <gensim.models.keyedvectors.Vocab object at 0x7fe95dde7748>, 'Nun': <gensim.models.keyedvectors.Vocab object at 0x7fe95dde7780>, 'bequem': <gensim.models.keyedvectors.Vocab object at 0x7fe95dde77b8>, 'Viertelstunde': <gensim.models.keyedvectors.Vocab object at 0x7fe95dde77f0>, 'liegt,': <gensim.models.keyedvectors.Vocab object at 0x7fe95dde7828>, 'weiteren': <gensim.models.keyedvectors.Vocab object at 0x7fe95dde7860>, 'erreicht.': <gensim.models.keyedvectors.Vocab object at 0x7fe95dde7898>, 'Lage': <gensim.models.keyedvectors.Vocab object at 0x7fe95dde78d0>, 'Bei': <gensim.models.keyedvectors.Vocab object at 0x7fe95dde7908>, 'fand': <gensim.models.keyedvectors.Vocab object at 0x7fe95dde7940>, 'grosse': <gensim.models.keyedvectors.Vocab object at 0x7fe95dde7978>, 'Quelle': <gensim.models.keyedvectors.Vocab object at 0x7fe95dde79b0>, 'vor,': <gensim.models.keyedvectors.Vocab object at 0x7fe95dde79e8>, 'nämlich': <gensim.models.keyedvectors.Vocab object at 0x7fe95dde7a20>, 'Abfluss': <gensim.models.keyedvectors.Vocab object at 0x7fe95dde7a58>, 'kleinen': <gensim.models.keyedvectors.Vocab object at 0x7fe95dde7a90>, 'hatte,': <gensim.models.keyedvectors.Vocab object at 0x7fe95dde7ac8>, '8': <gensim.models.keyedvectors.Vocab object at 0x7fe95dde7b00>, 'mittlere': <gensim.models.keyedvectors.Vocab object at 0x7fe95dde7b38>, 'Wasser': <gensim.models.keyedvectors.Vocab object at 0x7fe95dde7b70>, '6': <gensim.models.keyedvectors.Vocab object at 0x7fe95dde7ba8>, 'ergibt': <gensim.models.keyedvectors.Vocab object at 0x7fe95dde7be0>, 'sich,': <gensim.models.keyedvectors.Vocab object at 0x7fe95dde7c18>, 'Zwei': <gensim.models.keyedvectors.Vocab object at 0x7fe95dde7c50>, 'fast': <gensim.models.keyedvectors.Vocab object at 0x7fe95dde7c88>, 'mächtige': <gensim.models.keyedvectors.Vocab object at 0x7fe95dde7cc0>, 'sah': <gensim.models.keyedvectors.Vocab object at 0x7fe95dde7cf8>, 'später': <gensim.models.keyedvectors.Vocab object at 0x7fe95dde7d30>, 'selten': <gensim.models.keyedvectors.Vocab object at 0x7fe95dde7d68>, 'gewiss': <gensim.models.keyedvectors.Vocab object at 0x7fe95dde7da0>, 'grösseren': <gensim.models.keyedvectors.Vocab object at 0x7fe95dde7dd8>, 'wobei': <gensim.models.keyedvectors.Vocab object at 0x7fe95dde7e10>, 'Gelegenheit': <gensim.models.keyedvectors.Vocab object at 0x7fe95dde7e48>, 'grösserer': <gensim.models.keyedvectors.Vocab object at 0x7fe95dde7e80>, 'Menge': <gensim.models.keyedvectors.Vocab object at 0x7fe95dde7eb8>, 'Es_ist': <gensim.models.keyedvectors.Vocab object at 0x7fe95dde7ef0>, 'Hauptkamme': <gensim.models.keyedvectors.Vocab object at 0x7fe95dde7f28>, 'Bis': <gensim.models.keyedvectors.Vocab object at 0x7fe95dde7f60>, 'nunmehr': <gensim.models.keyedvectors.Vocab object at 0x7fe95dde7f98>, 'wieder': <gensim.models.keyedvectors.Vocab object at 0x7fe95dde7fd0>, 'Kreuzspitze': <gensim.models.keyedvectors.Vocab object at 0x7fe95ddeb048>, 'Rande': <gensim.models.keyedvectors.Vocab object at 0x7fe95ddeb080>, 'Länge': <gensim.models.keyedvectors.Vocab object at 0x7fe95ddeb0b8>, 'circa': <gensim.models.keyedvectors.Vocab object at 0x7fe95ddeb0f0>, 'dasselbe': <gensim.models.keyedvectors.Vocab object at 0x7fe95ddeb128>, 'Bach': <gensim.models.keyedvectors.Vocab object at 0x7fe95ddeb160>, 'Arme': <gensim.models.keyedvectors.Vocab object at 0x7fe95ddeb198>, 'hinter': <gensim.models.keyedvectors.Vocab object at 0x7fe95ddeb1d0>, 'jenseits': <gensim.models.keyedvectors.Vocab object at 0x7fe95ddeb208>, 'gelegenen': <gensim.models.keyedvectors.Vocab object at 0x7fe95ddeb240>, 'angelangt,': <gensim.models.keyedvectors.Vocab object at 0x7fe95ddeb278>, 'näher': <gensim.models.keyedvectors.Vocab object at 0x7fe95ddeb2b0>, 'Der_Weg': <gensim.models.keyedvectors.Vocab object at 0x7fe95ddeb2e8>, 'immer': <gensim.models.keyedvectors.Vocab object at 0x7fe95ddeb320>, 'mehr,': <gensim.models.keyedvectors.Vocab object at 0x7fe95ddeb358>, 'eines': <gensim.models.keyedvectors.Vocab object at 0x7fe95ddeb390>, 'Art': <gensim.models.keyedvectors.Vocab object at 0x7fe95ddeb3c8>, 'ihrer': <gensim.models.keyedvectors.Vocab object at 0x7fe95ddeb400>, 'Nähe': <gensim.models.keyedvectors.Vocab object at 0x7fe95ddeb438>, 'leicht': <gensim.models.keyedvectors.Vocab object at 0x7fe95ddeb470>, 'freilich': <gensim.models.keyedvectors.Vocab object at 0x7fe95ddeb4a8>, 'grossartige': <gensim.models.keyedvectors.Vocab object at 0x7fe95ddeb4e0>, 'hierher': <gensim.models.keyedvectors.Vocab object at 0x7fe95ddeb518>, 'Anblick': <gensim.models.keyedvectors.Vocab object at 0x7fe95ddeb550>, 'vollends': <gensim.models.keyedvectors.Vocab object at 0x7fe95ddeb588>, 'wenigen': <gensim.models.keyedvectors.Vocab object at 0x7fe95ddeb5c0>, 'Grösse': <gensim.models.keyedvectors.Vocab object at 0x7fe95ddeb5f8>, 'ins': <gensim.models.keyedvectors.Vocab object at 0x7fe95ddeb630>, 'Fels': <gensim.models.keyedvectors.Vocab object at 0x7fe95ddeb668>, 'Eis': <gensim.models.keyedvectors.Vocab object at 0x7fe95ddeb6a0>, 'Auf': <gensim.models.keyedvectors.Vocab object at 0x7fe95ddeb6d8>, 'östlichen': <gensim.models.keyedvectors.Vocab object at 0x7fe95ddeb710>, 'weder': <gensim.models.keyedvectors.Vocab object at 0x7fe95ddeb748>, 'Gipfel': <gensim.models.keyedvectors.Vocab object at 0x7fe95ddeb780>, 'Gletscher': <gensim.models.keyedvectors.Vocab object at 0x7fe95ddeb7b8>, 'desselben,': <gensim.models.keyedvectors.Vocab object at 0x7fe95ddeb7f0>, 'sichtbar': <gensim.models.keyedvectors.Vocab object at 0x7fe95ddeb828>, 'Von': <gensim.models.keyedvectors.Vocab object at 0x7fe95ddeb860>, 'übrigen': <gensim.models.keyedvectors.Vocab object at 0x7fe95ddeb898>, 'Gipfeln': <gensim.models.keyedvectors.Vocab object at 0x7fe95ddeb8d0>, 'Kammes': <gensim.models.keyedvectors.Vocab object at 0x7fe95ddeb908>, 'trat': <gensim.models.keyedvectors.Vocab object at 0x7fe95ddeb940>, 'nördlich': <gensim.models.keyedvectors.Vocab object at 0x7fe95ddeb978>, 'hervor.': <gensim.models.keyedvectors.Vocab object at 0x7fe95ddeb9b0>, 'lag': <gensim.models.keyedvectors.Vocab object at 0x7fe95ddeb9e8>, 'breiten': <gensim.models.keyedvectors.Vocab object at 0x7fe95ddeba20>, 'hohen': <gensim.models.keyedvectors.Vocab object at 0x7fe95ddeba58>, 'bot': <gensim.models.keyedvectors.Vocab object at 0x7fe95ddeba90>, 'meinem': <gensim.models.keyedvectors.Vocab object at 0x7fe95ddebac8>, 'Standpunkte': <gensim.models.keyedvectors.Vocab object at 0x7fe95ddebb00>, 'herab': <gensim.models.keyedvectors.Vocab object at 0x7fe95ddebb38>, 'hinaus': <gensim.models.keyedvectors.Vocab object at 0x7fe95ddebb70>, 'jenen': <gensim.models.keyedvectors.Vocab object at 0x7fe95ddebba8>, 'kahlen': <gensim.models.keyedvectors.Vocab object at 0x7fe95ddebbe0>, 'grossen': <gensim.models.keyedvectors.Vocab object at 0x7fe95ddebc18>, 'Gletschers': <gensim.models.keyedvectors.Vocab object at 0x7fe95ddebc50>, 'gewöhnlich': <gensim.models.keyedvectors.Vocab object at 0x7fe95ddebc88>, 'theilweise': <gensim.models.keyedvectors.Vocab object at 0x7fe95ddebcc0>, 'herrliche': <gensim.models.keyedvectors.Vocab object at 0x7fe95ddebcf8>, 'hoher': <gensim.models.keyedvectors.Vocab object at 0x7fe95ddebd30>, 'umgeben': <gensim.models.keyedvectors.Vocab object at 0x7fe95ddebd68>, 'fernen': <gensim.models.keyedvectors.Vocab object at 0x7fe95ddebda0>, 'stolzen': <gensim.models.keyedvectors.Vocab object at 0x7fe95ddebdd8>, 'Aber': <gensim.models.keyedvectors.Vocab object at 0x7fe95ddebe10>, 'waren,': <gensim.models.keyedvectors.Vocab object at 0x7fe95ddebe48>, 'dennoch': <gensim.models.keyedvectors.Vocab object at 0x7fe95ddebe80>, 'habe': <gensim.models.keyedvectors.Vocab object at 0x7fe95ddebeb8>, 'grössere': <gensim.models.keyedvectors.Vocab object at 0x7fe95ddebef0>, 'manchen': <gensim.models.keyedvectors.Vocab object at 0x7fe95ddebf28>, 'Nichts': <gensim.models.keyedvectors.Vocab object at 0x7fe95ddebf60>, 'Wildheit': <gensim.models.keyedvectors.Vocab object at 0x7fe95ddebf98>, 'Unter': <gensim.models.keyedvectors.Vocab object at 0x7fe95ddebfd0>, 'Namen': <gensim.models.keyedvectors.Vocab object at 0x7fe95ddee048>, 'jenes': <gensim.models.keyedvectors.Vocab object at 0x7fe95ddee080>, 'zwischen_dem': <gensim.models.keyedvectors.Vocab object at 0x7fe95ddee0b8>, 'anderseits': <gensim.models.keyedvectors.Vocab object at 0x7fe95ddee0f0>, 'südlich': <gensim.models.keyedvectors.Vocab object at 0x7fe95ddee128>, 'beginnt': <gensim.models.keyedvectors.Vocab object at 0x7fe95ddee160>, 'anderer': <gensim.models.keyedvectors.Vocab object at 0x7fe95ddee198>, 'vorigen': <gensim.models.keyedvectors.Vocab object at 0x7fe95ddee1d0>, 'W.': <gensim.models.keyedvectors.Vocab object at 0x7fe95ddee208>, 'geht': <gensim.models.keyedvectors.Vocab object at 0x7fe95ddee240>, 'Süden': <gensim.models.keyedvectors.Vocab object at 0x7fe95ddee278>, 'steht': <gensim.models.keyedvectors.Vocab object at 0x7fe95ddee2b0>, 'also': <gensim.models.keyedvectors.Vocab object at 0x7fe95ddee2e8>, 'gesehen': <gensim.models.keyedvectors.Vocab object at 0x7fe95ddee320>, 'muss,': <gensim.models.keyedvectors.Vocab object at 0x7fe95ddee358>, 'meines': <gensim.models.keyedvectors.Vocab object at 0x7fe95ddee390>, 'Höhe,': <gensim.models.keyedvectors.Vocab object at 0x7fe95ddee3c8>, 'höchsten': <gensim.models.keyedvectors.Vocab object at 0x7fe95ddee400>, 'Thales': <gensim.models.keyedvectors.Vocab object at 0x7fe95ddee438>, 'sondern': <gensim.models.keyedvectors.Vocab object at 0x7fe95ddee470>, 'Ganzen': <gensim.models.keyedvectors.Vocab object at 0x7fe95ddee4a8>, 'Um': <gensim.models.keyedvectors.Vocab object at 0x7fe95ddee4e0>, 'wenig': <gensim.models.keyedvectors.Vocab object at 0x7fe95ddee518>, 'Ort': <gensim.models.keyedvectors.Vocab object at 0x7fe95ddee550>, 'höchst': <gensim.models.keyedvectors.Vocab object at 0x7fe95ddee588>, 'könnte.': <gensim.models.keyedvectors.Vocab object at 0x7fe95ddee5c0>, 'ihr': <gensim.models.keyedvectors.Vocab object at 0x7fe95ddee5f8>, 'Abfall': <gensim.models.keyedvectors.Vocab object at 0x7fe95ddee630>, 'Mittel': <gensim.models.keyedvectors.Vocab object at 0x7fe95ddee668>, 'sichtbar,': <gensim.models.keyedvectors.Vocab object at 0x7fe95ddee6a0>, 'hoch': <gensim.models.keyedvectors.Vocab object at 0x7fe95ddee6d8>, 'blauen': <gensim.models.keyedvectors.Vocab object at 0x7fe95ddee710>, 'Alles': <gensim.models.keyedvectors.Vocab object at 0x7fe95ddee748>, 'Falle': <gensim.models.keyedvectors.Vocab object at 0x7fe95ddee780>, 'vereinigen': <gensim.models.keyedvectors.Vocab object at 0x7fe95ddee7b8>, 'einzigen': <gensim.models.keyedvectors.Vocab object at 0x7fe95ddee7f0>, 'scheint,': <gensim.models.keyedvectors.Vocab object at 0x7fe95ddee828>, 'Wand': <gensim.models.keyedvectors.Vocab object at 0x7fe95ddee860>, 'Gletschern': <gensim.models.keyedvectors.Vocab object at 0x7fe95ddee898>, 'minder': <gensim.models.keyedvectors.Vocab object at 0x7fe95ddee8d0>, 'tiefe': <gensim.models.keyedvectors.Vocab object at 0x7fe95ddee908>, 'Thale': <gensim.models.keyedvectors.Vocab object at 0x7fe95ddee940>, 'Schutt': <gensim.models.keyedvectors.Vocab object at 0x7fe95ddee978>, 'steilen': <gensim.models.keyedvectors.Vocab object at 0x7fe95ddee9b0>, 'jeder': <gensim.models.keyedvectors.Vocab object at 0x7fe95ddee9e8>, 'andern': <gensim.models.keyedvectors.Vocab object at 0x7fe95ddeea20>, 'eigentlichen': <gensim.models.keyedvectors.Vocab object at 0x7fe95ddeea58>, 'Wände,': <gensim.models.keyedvectors.Vocab object at 0x7fe95ddeea90>, 'Als_ich': <gensim.models.keyedvectors.Vocab object at 0x7fe95ddeeac8>, 'all': <gensim.models.keyedvectors.Vocab object at 0x7fe95ddeeb00>, 'gesehen,': <gensim.models.keyedvectors.Vocab object at 0x7fe95ddeeb38>, 'nahm': <gensim.models.keyedvectors.Vocab object at 0x7fe95ddeeb70>, 'Gehänge': <gensim.models.keyedvectors.Vocab object at 0x7fe95ddeeba8>, 'besser': <gensim.models.keyedvectors.Vocab object at 0x7fe95ddeebe0>, 'aufwärts,': <gensim.models.keyedvectors.Vocab object at 0x7fe95ddeec18>, 'hin': <gensim.models.keyedvectors.Vocab object at 0x7fe95ddeec50>, 'Uebersicht': <gensim.models.keyedvectors.Vocab object at 0x7fe95ddeec88>, 'letzteren': <gensim.models.keyedvectors.Vocab object at 0x7fe95ddeecc0>, 'Umweg': <gensim.models.keyedvectors.Vocab object at 0x7fe95ddeecf8>, 'Mühe': <gensim.models.keyedvectors.Vocab object at 0x7fe95ddeed30>, 'bin': <gensim.models.keyedvectors.Vocab object at 0x7fe95ddeed68>, 'Bild': <gensim.models.keyedvectors.Vocab object at 0x7fe95ddeeda0>, 'können.': <gensim.models.keyedvectors.Vocab object at 0x7fe95ddeedd8>, 'Gletscher,': <gensim.models.keyedvectors.Vocab object at 0x7fe95ddeee10>, 'Firnen': <gensim.models.keyedvectors.Vocab object at 0x7fe95ddeee48>, 'längs': <gensim.models.keyedvectors.Vocab object at 0x7fe95ddeee80>, 'Strecke': <gensim.models.keyedvectors.Vocab object at 0x7fe95ddeeeb8>, 'Dieses': <gensim.models.keyedvectors.Vocab object at 0x7fe95ddeeef0>, 'grösste': <gensim.models.keyedvectors.Vocab object at 0x7fe95ddeef28>, 'Kamme': <gensim.models.keyedvectors.Vocab object at 0x7fe95ddeef60>, 'reichen': <gensim.models.keyedvectors.Vocab object at 0x7fe95ddeef98>, 'bis_zur': <gensim.models.keyedvectors.Vocab object at 0x7fe95ddeefd0>, 'welcher': <gensim.models.keyedvectors.Vocab object at 0x7fe95ddf1048>, 'liegen': <gensim.models.keyedvectors.Vocab object at 0x7fe95ddf1080>, 'Osten': <gensim.models.keyedvectors.Vocab object at 0x7fe95ddf10b8>, 'folgende': <gensim.models.keyedvectors.Vocab object at 0x7fe95ddf10f0>, 'Kleine': <gensim.models.keyedvectors.Vocab object at 0x7fe95ddf1128>, 'S.': <gensim.models.keyedvectors.Vocab object at 0x7fe95ddf1160>, 'Nachbarn': <gensim.models.keyedvectors.Vocab object at 0x7fe95ddf1198>, 'Südseite': <gensim.models.keyedvectors.Vocab object at 0x7fe95ddf11d0>, 'zusammen,': <gensim.models.keyedvectors.Vocab object at 0x7fe95ddf1208>, 'denen': <gensim.models.keyedvectors.Vocab object at 0x7fe95ddf1240>, '7': <gensim.models.keyedvectors.Vocab object at 0x7fe95ddf1278>, 'Drei': <gensim.models.keyedvectors.Vocab object at 0x7fe95ddf12b0>, 'ab.': <gensim.models.keyedvectors.Vocab object at 0x7fe95ddf12e8>, 'obersten': <gensim.models.keyedvectors.Vocab object at 0x7fe95ddf1320>, 'westlich': <gensim.models.keyedvectors.Vocab object at 0x7fe95ddf1358>, 'Kleinen': <gensim.models.keyedvectors.Vocab object at 0x7fe95ddf1390>, 'kurzen': <gensim.models.keyedvectors.Vocab object at 0x7fe95ddf13c8>, 'Rücken': <gensim.models.keyedvectors.Vocab object at 0x7fe95ddf1400>, '3': <gensim.models.keyedvectors.Vocab object at 0x7fe95ddf1438>, 'gegen_Norden': <gensim.models.keyedvectors.Vocab object at 0x7fe95ddf1470>, 'gegen_Westen': <gensim.models.keyedvectors.Vocab object at 0x7fe95ddf14a8>, 'beinahe': <gensim.models.keyedvectors.Vocab object at 0x7fe95ddf14e0>, 'vollständig': <gensim.models.keyedvectors.Vocab object at 0x7fe95ddf1518>, 'Schnee': <gensim.models.keyedvectors.Vocab object at 0x7fe95ddf1550>, 'bedeckt,': <gensim.models.keyedvectors.Vocab object at 0x7fe95ddf1588>, 'Durch': <gensim.models.keyedvectors.Vocab object at 0x7fe95ddf15c0>, 'Vereinigung': <gensim.models.keyedvectors.Vocab object at 0x7fe95ddf15f8>, 'Tausend': <gensim.models.keyedvectors.Vocab object at 0x7fe95ddf1630>, 'aus.': <gensim.models.keyedvectors.Vocab object at 0x7fe95ddf1668>, 'jener': <gensim.models.keyedvectors.Vocab object at 0x7fe95ddf16a0>, 'Mitte': <gensim.models.keyedvectors.Vocab object at 0x7fe95ddf16d8>, 'des_Gletschers': <gensim.models.keyedvectors.Vocab object at 0x7fe95ddf1710>, 'Gegen': <gensim.models.keyedvectors.Vocab object at 0x7fe95ddf1748>, 'scharfe': <gensim.models.keyedvectors.Vocab object at 0x7fe95ddf1780>, 'dritten': <gensim.models.keyedvectors.Vocab object at 0x7fe95ddf17b8>, 'Schneide': <gensim.models.keyedvectors.Vocab object at 0x7fe95ddf17f0>, 'zweite': <gensim.models.keyedvectors.Vocab object at 0x7fe95ddf1828>, 'solche': <gensim.models.keyedvectors.Vocab object at 0x7fe95ddf1860>, 'im_Hintergründe': <gensim.models.keyedvectors.Vocab object at 0x7fe95ddf1898>, 'dessen': <gensim.models.keyedvectors.Vocab object at 0x7fe95ddf18d0>, 'Neigung': <gensim.models.keyedvectors.Vocab object at 0x7fe95ddf1908>, 'östlich': <gensim.models.keyedvectors.Vocab object at 0x7fe95ddf1940>, 'grössten': <gensim.models.keyedvectors.Vocab object at 0x7fe95ddf1978>, 'wir': <gensim.models.keyedvectors.Vocab object at 0x7fe95ddf19b0>, 'Sie': <gensim.models.keyedvectors.Vocab object at 0x7fe95ddf19e8>, 'mittleren': <gensim.models.keyedvectors.Vocab object at 0x7fe95ddf1a20>, 'd._h.': <gensim.models.keyedvectors.Vocab object at 0x7fe95ddf1a58>, 'mindestens': <gensim.models.keyedvectors.Vocab object at 0x7fe95ddf1a90>, 'Ende': <gensim.models.keyedvectors.Vocab object at 0x7fe95ddf1ac8>, '15': <gensim.models.keyedvectors.Vocab object at 0x7fe95ddf1b00>, 'Grad': <gensim.models.keyedvectors.Vocab object at 0x7fe95ddf1b38>, 'vielen': <gensim.models.keyedvectors.Vocab object at 0x7fe95ddf1b70>, 'hingegen': <gensim.models.keyedvectors.Vocab object at 0x7fe95ddf1ba8>, 'Bewegung': <gensim.models.keyedvectors.Vocab object at 0x7fe95ddf1be0>, 'besteht': <gensim.models.keyedvectors.Vocab object at 0x7fe95ddf1c18>, 'ebenfalls': <gensim.models.keyedvectors.Vocab object at 0x7fe95ddf1c50>, 'stand': <gensim.models.keyedvectors.Vocab object at 0x7fe95ddf1c88>, 'damals': <gensim.models.keyedvectors.Vocab object at 0x7fe95ddf1cc0>, 'ihrem': <gensim.models.keyedvectors.Vocab object at 0x7fe95ddf1cf8>, '100': <gensim.models.keyedvectors.Vocab object at 0x7fe95ddf1d30>, 'Schritte': <gensim.models.keyedvectors.Vocab object at 0x7fe95ddf1d68>, 'ab,': <gensim.models.keyedvectors.Vocab object at 0x7fe95ddf1da0>, '½': <gensim.models.keyedvectors.Vocab object at 0x7fe95ddf1dd8>, 'Millionen': <gensim.models.keyedvectors.Vocab object at 0x7fe95ddf1e10>, 'Wiener': <gensim.models.keyedvectors.Vocab object at 0x7fe95ddf1e48>, 'Sommer': <gensim.models.keyedvectors.Vocab object at 0x7fe95ddf1e80>, 'ungefähr': <gensim.models.keyedvectors.Vocab object at 0x7fe95ddf1eb8>, 'beträgt': <gensim.models.keyedvectors.Vocab object at 0x7fe95ddf1ef0>, '13': <gensim.models.keyedvectors.Vocab object at 0x7fe95ddf1f28>, 'bekannten': <gensim.models.keyedvectors.Vocab object at 0x7fe95ddf1f60>, 'geringste': <gensim.models.keyedvectors.Vocab object at 0x7fe95ddf1f98>, 'P.': <gensim.models.keyedvectors.Vocab object at 0x7fe95ddf1fd0>, 'geben': <gensim.models.keyedvectors.Vocab object at 0x7fe95ddf5048>, 'v.': <gensim.models.keyedvectors.Vocab object at 0x7fe95ddf5080>, 'dort': <gensim.models.keyedvectors.Vocab object at 0x7fe95ddf50b8>, 'häufig': <gensim.models.keyedvectors.Vocab object at 0x7fe95ddf50f0>, 'wodurch': <gensim.models.keyedvectors.Vocab object at 0x7fe95ddf5128>, 'Gestein': <gensim.models.keyedvectors.Vocab object at 0x7fe95ddf5160>, 'welchem': <gensim.models.keyedvectors.Vocab object at 0x7fe95ddf5198>, 'Arten': <gensim.models.keyedvectors.Vocab object at 0x7fe95ddf51d0>, 'zugleich': <gensim.models.keyedvectors.Vocab object at 0x7fe95ddf5208>, 'deutlich': <gensim.models.keyedvectors.Vocab object at 0x7fe95ddf5240>, 'weiss': <gensim.models.keyedvectors.Vocab object at 0x7fe95ddf5278>, 'besteht_aus': <gensim.models.keyedvectors.Vocab object at 0x7fe95ddf52b0>, 'erwähnte': <gensim.models.keyedvectors.Vocab object at 0x7fe95ddf52e8>, 'Gebirges': <gensim.models.keyedvectors.Vocab object at 0x7fe95ddf5320>, 'Schichten': <gensim.models.keyedvectors.Vocab object at 0x7fe95ddf5358>, 'fallen': <gensim.models.keyedvectors.Vocab object at 0x7fe95ddf5390>, 'ein.': <gensim.models.keyedvectors.Vocab object at 0x7fe95ddf53c8>, 'Jahr': <gensim.models.keyedvectors.Vocab object at 0x7fe95ddf5400>, 'sondern_auch': <gensim.models.keyedvectors.Vocab object at 0x7fe95ddf5438>, 'kurz': <gensim.models.keyedvectors.Vocab object at 0x7fe95ddf5470>, 'unweit': <gensim.models.keyedvectors.Vocab object at 0x7fe95ddf54a8>, '5': <gensim.models.keyedvectors.Vocab object at 0x7fe95ddf54e0>, 'erreichten.': <gensim.models.keyedvectors.Vocab object at 0x7fe95ddf5518>, 'Boden': <gensim.models.keyedvectors.Vocab object at 0x7fe95ddf5550>, 'überall': <gensim.models.keyedvectors.Vocab object at 0x7fe95ddf5588>, 'Felsen': <gensim.models.keyedvectors.Vocab object at 0x7fe95ddf55c0>, 'Orten': <gensim.models.keyedvectors.Vocab object at 0x7fe95ddf55f8>, '8_Uhr': <gensim.models.keyedvectors.Vocab object at 0x7fe95ddf5630>, 'Abends': <gensim.models.keyedvectors.Vocab object at 0x7fe95ddf5668>, 'Ersteigung_des': <gensim.models.keyedvectors.Vocab object at 0x7fe95ddf56a0>, 'Wilden': <gensim.models.keyedvectors.Vocab object at 0x7fe95ddf56d8>, 'Barth': <gensim.models.keyedvectors.Vocab object at 0x7fe95ddf5710>, 'u.': <gensim.models.keyedvectors.Vocab object at 0x7fe95ddf5748>, 'Pfaundler': <gensim.models.keyedvectors.Vocab object at 0x7fe95ddf5780>, '=': <gensim.models.keyedvectors.Vocab object at 0x7fe95ddf57b8>, 'Innsbruck': <gensim.models.keyedvectors.Vocab object at 0x7fe95ddf57f0>, 'Jahre': <gensim.models.keyedvectors.Vocab object at 0x7fe95ddf5828>, 'Touristen': <gensim.models.keyedvectors.Vocab object at 0x7fe95ddf5860>, 'Umgebung,': <gensim.models.keyedvectors.Vocab object at 0x7fe95ddf5898>, 'lediglich': <gensim.models.keyedvectors.Vocab object at 0x7fe95ddf58d0>, 'bezüglich': <gensim.models.keyedvectors.Vocab object at 0x7fe95ddf5908>, 'sogleich': <gensim.models.keyedvectors.Vocab object at 0x7fe95ddf5940>, 'daher': <gensim.models.keyedvectors.Vocab object at 0x7fe95ddf5978>, '1868': <gensim.models.keyedvectors.Vocab object at 0x7fe95ddf59b0>, 'Spitzen,': <gensim.models.keyedvectors.Vocab object at 0x7fe95ddf59e8>, '10.': <gensim.models.keyedvectors.Vocab object at 0x7fe95ddf5a20>, 'September': <gensim.models.keyedvectors.Vocab object at 0x7fe95ddf5a58>, 'beiden': <gensim.models.keyedvectors.Vocab object at 0x7fe95ddf5a90>, 'Stubaier': <gensim.models.keyedvectors.Vocab object at 0x7fe95ddf5ac8>, 'Führern': <gensim.models.keyedvectors.Vocab object at 0x7fe95ddf5b00>, 'Gratze': <gensim.models.keyedvectors.Vocab object at 0x7fe95ddf5b38>, 'Loisl': <gensim.models.keyedvectors.Vocab object at 0x7fe95ddf5b70>, 'Uebergang': <gensim.models.keyedvectors.Vocab object at 0x7fe95ddf5ba8>, 'welchen': <gensim.models.keyedvectors.Vocab object at 0x7fe95ddf5be0>, 'vorher': <gensim.models.keyedvectors.Vocab object at 0x7fe95ddf5c18>, 'Dr._v.': <gensim.models.keyedvectors.Vocab object at 0x7fe95ddf5c50>, 'Ruthner': <gensim.models.keyedvectors.Vocab object at 0x7fe95ddf5c88>, 'unternommen': <gensim.models.keyedvectors.Vocab object at 0x7fe95ddf5cc0>, '.': <gensim.models.keyedvectors.Vocab object at 0x7fe95ddf5cf8>, 'Ferner': <gensim.models.keyedvectors.Vocab object at 0x7fe95ddf5d30>, 'trafen': <gensim.models.keyedvectors.Vocab object at 0x7fe95ddf5d68>, 'alles': <gensim.models.keyedvectors.Vocab object at 0x7fe95ddf5da0>, 'niemals': <gensim.models.keyedvectors.Vocab object at 0x7fe95ddf5dd8>, 'einerseits': <gensim.models.keyedvectors.Vocab object at 0x7fe95ddf5e10>, 'Klüfte': <gensim.models.keyedvectors.Vocab object at 0x7fe95ddf5e48>, 'hätte': <gensim.models.keyedvectors.Vocab object at 0x7fe95ddf5e80>, 'weitem': <gensim.models.keyedvectors.Vocab object at 0x7fe95ddf5eb8>, 'Tour': <gensim.models.keyedvectors.Vocab object at 0x7fe95ddf5ef0>, 'gewaltigen': <gensim.models.keyedvectors.Vocab object at 0x7fe95ddf5f28>, 'Scharte': <gensim.models.keyedvectors.Vocab object at 0x7fe95ddf5f60>, 'denn': <gensim.models.keyedvectors.Vocab object at 0x7fe95ddf5f98>, 'An': <gensim.models.keyedvectors.Vocab object at 0x7fe95ddf5fd0>, 'Kluft': <gensim.models.keyedvectors.Vocab object at 0x7fe95ddf9048>, 'allerdings': <gensim.models.keyedvectors.Vocab object at 0x7fe95ddf9080>, 'geringer': <gensim.models.keyedvectors.Vocab object at 0x7fe95ddf90b8>, 'Eiswand': <gensim.models.keyedvectors.Vocab object at 0x7fe95ddf90f0>, 'entgegen,': <gensim.models.keyedvectors.Vocab object at 0x7fe95ddf9128>, 'Rand': <gensim.models.keyedvectors.Vocab object at 0x7fe95ddf9160>, 'Stufen': <gensim.models.keyedvectors.Vocab object at 0x7fe95ddf9198>, 'Stelle,': <gensim.models.keyedvectors.Vocab object at 0x7fe95ddf91d0>, 'Versuch': <gensim.models.keyedvectors.Vocab object at 0x7fe95ddf9208>, 'Seil': <gensim.models.keyedvectors.Vocab object at 0x7fe95ddf9240>, 'gehalten': <gensim.models.keyedvectors.Vocab object at 0x7fe95ddf9278>, 'gelang': <gensim.models.keyedvectors.Vocab object at 0x7fe95ddf92b0>, 'kaum': <gensim.models.keyedvectors.Vocab object at 0x7fe95ddf92e8>, 'hätte,': <gensim.models.keyedvectors.Vocab object at 0x7fe95ddf9320>, 'lassen,': <gensim.models.keyedvectors.Vocab object at 0x7fe95ddf9358>, 'stark': <gensim.models.keyedvectors.Vocab object at 0x7fe95ddf9390>, 'hart': <gensim.models.keyedvectors.Vocab object at 0x7fe95ddf93c8>, 'sei,': <gensim.models.keyedvectors.Vocab object at 0x7fe95ddf9400>, 'Eisen': <gensim.models.keyedvectors.Vocab object at 0x7fe95ddf9438>, 'fest': <gensim.models.keyedvectors.Vocab object at 0x7fe95ddf9470>, 'halten': <gensim.models.keyedvectors.Vocab object at 0x7fe95ddf94a8>, 'können,': <gensim.models.keyedvectors.Vocab object at 0x7fe95ddf94e0>, 'würde,': <gensim.models.keyedvectors.Vocab object at 0x7fe95ddf9518>, 'sicher': <gensim.models.keyedvectors.Vocab object at 0x7fe95ddf9550>, 'natürlich': <gensim.models.keyedvectors.Vocab object at 0x7fe95ddf9588>, 'Denn': <gensim.models.keyedvectors.Vocab object at 0x7fe95ddf95c0>, 'Rückweg': <gensim.models.keyedvectors.Vocab object at 0x7fe95ddf95f8>, 'Freiger': <gensim.models.keyedvectors.Vocab object at 0x7fe95ddf9630>, 'nehmen,': <gensim.models.keyedvectors.Vocab object at 0x7fe95ddf9668>, 'waren_wir': <gensim.models.keyedvectors.Vocab object at 0x7fe95ddf96a0>, 'kommen.': <gensim.models.keyedvectors.Vocab object at 0x7fe95ddf96d8>, 'grossem': <gensim.models.keyedvectors.Vocab object at 0x7fe95ddf9710>, 'überaus': <gensim.models.keyedvectors.Vocab object at 0x7fe95ddf9748>, 'hatten_wir': <gensim.models.keyedvectors.Vocab object at 0x7fe95ddf9780>, 'Ziel': <gensim.models.keyedvectors.Vocab object at 0x7fe95ddf97b8>, 'erreicht': <gensim.models.keyedvectors.Vocab object at 0x7fe95ddf97f0>, 'Terrain': <gensim.models.keyedvectors.Vocab object at 0x7fe95ddf9828>, 'hatte.': <gensim.models.keyedvectors.Vocab object at 0x7fe95ddf9860>, 'Fläche': <gensim.models.keyedvectors.Vocab object at 0x7fe95ddf9898>, 'Ferners': <gensim.models.keyedvectors.Vocab object at 0x7fe95ddf98d0>, 'Seite,': <gensim.models.keyedvectors.Vocab object at 0x7fe95ddf9908>, 'bedeutende': <gensim.models.keyedvectors.Vocab object at 0x7fe95ddf9940>, 'konnten_wir': <gensim.models.keyedvectors.Vocab object at 0x7fe95ddf9978>, 'weitere': <gensim.models.keyedvectors.Vocab object at 0x7fe95ddf99b0>, 'Hindernisse': <gensim.models.keyedvectors.Vocab object at 0x7fe95ddf99e8>, 'unsern': <gensim.models.keyedvectors.Vocab object at 0x7fe95ddf9a20>, 'Jahren': <gensim.models.keyedvectors.Vocab object at 0x7fe95ddf9a58>, 'Stubai': <gensim.models.keyedvectors.Vocab object at 0x7fe95ddf9a90>, 'Gschnitz': <gensim.models.keyedvectors.Vocab object at 0x7fe95ddf9ac8>, 'wer': <gensim.models.keyedvectors.Vocab object at 0x7fe95ddf9b00>, 'hat,': <gensim.models.keyedvectors.Vocab object at 0x7fe95ddf9b38>, 'Spitze': <gensim.models.keyedvectors.Vocab object at 0x7fe95ddf9b70>, 'Gruppe': <gensim.models.keyedvectors.Vocab object at 0x7fe95ddf9ba8>, 'bildet.': <gensim.models.keyedvectors.Vocab object at 0x7fe95ddf9be0>, 'sei.': <gensim.models.keyedvectors.Vocab object at 0x7fe95ddf9c18>, 'Jetzt': <gensim.models.keyedvectors.Vocab object at 0x7fe95ddf9c50>, 'Besteigung': <gensim.models.keyedvectors.Vocab object at 0x7fe95ddf9c88>, 'schwierig': <gensim.models.keyedvectors.Vocab object at 0x7fe95ddf9cc0>, 'weite': <gensim.models.keyedvectors.Vocab object at 0x7fe95ddf9cf8>, 'Weg,': <gensim.models.keyedvectors.Vocab object at 0x7fe95ddf9d30>, 'vor_uns': <gensim.models.keyedvectors.Vocab object at 0x7fe95ddf9d68>, 'hatten,': <gensim.models.keyedvectors.Vocab object at 0x7fe95ddf9da0>, 'liess': <gensim.models.keyedvectors.Vocab object at 0x7fe95ddf9dd8>, 'alsbald': <gensim.models.keyedvectors.Vocab object at 0x7fe95ddf9e10>, 'Dagegen': <gensim.models.keyedvectors.Vocab object at 0x7fe95ddf9e48>, 'hielt': <gensim.models.keyedvectors.Vocab object at 0x7fe95ddf9e80>, 'Begleitung': <gensim.models.keyedvectors.Vocab object at 0x7fe95ddf9eb8>, 'machen': <gensim.models.keyedvectors.Vocab object at 0x7fe95ddf9ef0>, 'genau': <gensim.models.keyedvectors.Vocab object at 0x7fe95ddf9f28>, 'anfangs': <gensim.models.keyedvectors.Vocab object at 0x7fe95ddf9f60>, 'habe,': <gensim.models.keyedvectors.Vocab object at 0x7fe95ddf9f98>, 'nur_wenig': <gensim.models.keyedvectors.Vocab object at 0x7fe95ddf9fd0>, 'werde': <gensim.models.keyedvectors.Vocab object at 0x7fe95ddfc048>, 'einzelne': <gensim.models.keyedvectors.Vocab object at 0x7fe95ddfc080>, 'Beobachtungen': <gensim.models.keyedvectors.Vocab object at 0x7fe95ddfc0b8>, 'aufmerksam': <gensim.models.keyedvectors.Vocab object at 0x7fe95ddfc0f0>, 'zu_machen,': <gensim.models.keyedvectors.Vocab object at 0x7fe95ddfc128>, 'Partie': <gensim.models.keyedvectors.Vocab object at 0x7fe95ddfc160>, 'Generalstabskarte': <gensim.models.keyedvectors.Vocab object at 0x7fe95ddfc198>, 'wurde,': <gensim.models.keyedvectors.Vocab object at 0x7fe95ddfc1d0>, 'Orte': <gensim.models.keyedvectors.Vocab object at 0x7fe95ddfc208>, 'seit': <gensim.models.keyedvectors.Vocab object at 0x7fe95ddfc240>, 'ausser': <gensim.models.keyedvectors.Vocab object at 0x7fe95ddfc278>, 'Freunde': <gensim.models.keyedvectors.Vocab object at 0x7fe95ddfc2b0>, 'Ridnaun': <gensim.models.keyedvectors.Vocab object at 0x7fe95ddfc2e8>, 'Botzer': <gensim.models.keyedvectors.Vocab object at 0x7fe95ddfc320>, 'mussten,': <gensim.models.keyedvectors.Vocab object at 0x7fe95ddfc358>, 'Freund': <gensim.models.keyedvectors.Vocab object at 0x7fe95ddfc390>, 'Plan': <gensim.models.keyedvectors.Vocab object at 0x7fe95ddfc3c8>, 'Juli': <gensim.models.keyedvectors.Vocab object at 0x7fe95ddfc400>, 'demselben': <gensim.models.keyedvectors.Vocab object at 0x7fe95ddfc438>, 'auf,': <gensim.models.keyedvectors.Vocab object at 0x7fe95ddfc470>, 'nahmen': <gensim.models.keyedvectors.Vocab object at 0x7fe95ddfc4a8>, 'Wir': <gensim.models.keyedvectors.Vocab object at 0x7fe95ddfc4e0>, 'gingen': <gensim.models.keyedvectors.Vocab object at 0x7fe95ddfc518>, 'Nachmittags': <gensim.models.keyedvectors.Vocab object at 0x7fe95ddfc550>, 'Nachtquartier': <gensim.models.keyedvectors.Vocab object at 0x7fe95ddfc588>, 'Hohen': <gensim.models.keyedvectors.Vocab object at 0x7fe95ddfc5c0>, 'Ueber': <gensim.models.keyedvectors.Vocab object at 0x7fe95ddfc5f8>, 'Besteigung_des': <gensim.models.keyedvectors.Vocab object at 0x7fe95ddfc630>, 'Feuerstein': <gensim.models.keyedvectors.Vocab object at 0x7fe95ddfc668>, 'Bd.': <gensim.models.keyedvectors.Vocab object at 0x7fe95ddfc6a0>, 'Angaben': <gensim.models.keyedvectors.Vocab object at 0x7fe95ddfc6d8>, 'Thales,': <gensim.models.keyedvectors.Vocab object at 0x7fe95ddfc710>, 'sichtbar.': <gensim.models.keyedvectors.Vocab object at 0x7fe95ddfc748>, 'unmittelbar': <gensim.models.keyedvectors.Vocab object at 0x7fe95ddfc780>, 'steigt': <gensim.models.keyedvectors.Vocab object at 0x7fe95ddfc7b8>, 'hinab,': <gensim.models.keyedvectors.Vocab object at 0x7fe95ddfc7f0>, 'schnell': <gensim.models.keyedvectors.Vocab object at 0x7fe95ddfc828>, 'Punkt,': <gensim.models.keyedvectors.Vocab object at 0x7fe95ddfc860>, 'Fall': <gensim.models.keyedvectors.Vocab object at 0x7fe95ddfc898>, 'lässt': <gensim.models.keyedvectors.Vocab object at 0x7fe95ddfc8d0>, 'Und': <gensim.models.keyedvectors.Vocab object at 0x7fe95ddfc908>, 'durchaus': <gensim.models.keyedvectors.Vocab object at 0x7fe95ddfc940>, 'ist;': <gensim.models.keyedvectors.Vocab object at 0x7fe95ddfc978>, 'bleibt': <gensim.models.keyedvectors.Vocab object at 0x7fe95ddfc9b0>, 'Fällen': <gensim.models.keyedvectors.Vocab object at 0x7fe95ddfc9e8>, 'zurück.': <gensim.models.keyedvectors.Vocab object at 0x7fe95ddfca20>, 'Zu': <gensim.models.keyedvectors.Vocab object at 0x7fe95ddfca58>, 'Hütten': <gensim.models.keyedvectors.Vocab object at 0x7fe95ddfca90>, 'bietet': <gensim.models.keyedvectors.Vocab object at 0x7fe95ddfcac8>, 'Karten': <gensim.models.keyedvectors.Vocab object at 0x7fe95ddfcb00>, 'zieht': <gensim.models.keyedvectors.Vocab object at 0x7fe95ddfcb38>, 'derselbe': <gensim.models.keyedvectors.Vocab object at 0x7fe95ddfcb70>, 'stellenweise': <gensim.models.keyedvectors.Vocab object at 0x7fe95ddfcba8>, 'linke': <gensim.models.keyedvectors.Vocab object at 0x7fe95ddfcbe0>, 'folgt': <gensim.models.keyedvectors.Vocab object at 0x7fe95ddfcc18>, 'muss': <gensim.models.keyedvectors.Vocab object at 0x7fe95ddfcc50>, 'links': <gensim.models.keyedvectors.Vocab object at 0x7fe95ddfcc88>, 'findet': <gensim.models.keyedvectors.Vocab object at 0x7fe95ddfccc0>, 'Orientirung': <gensim.models.keyedvectors.Vocab object at 0x7fe95ddfccf8>, 'desselben': <gensim.models.keyedvectors.Vocab object at 0x7fe95ddfcd30>, 'bilden': <gensim.models.keyedvectors.Vocab object at 0x7fe95ddfcd68>, 'Zwischen': <gensim.models.keyedvectors.Vocab object at 0x7fe95ddfcda0>, 'mitten': <gensim.models.keyedvectors.Vocab object at 0x7fe95ddfcdd8>, 'Hochgrindl': <gensim.models.keyedvectors.Vocab object at 0x7fe95ddfce10>, 'Met.': <gensim.models.keyedvectors.Vocab object at 0x7fe95ddfce48>, 'schien': <gensim.models.keyedvectors.Vocab object at 0x7fe95ddfce80>, 'Gebirge': <gensim.models.keyedvectors.Vocab object at 0x7fe95ddfceb8>, 'ob': <gensim.models.keyedvectors.Vocab object at 0x7fe95ddfcef0>, 'gar_nicht': <gensim.models.keyedvectors.Vocab object at 0x7fe95ddfcf28>, 'gar': <gensim.models.keyedvectors.Vocab object at 0x7fe95ddfcf60>, 'morgen': <gensim.models.keyedvectors.Vocab object at 0x7fe95ddfcf98>, 'Erhebung': <gensim.models.keyedvectors.Vocab object at 0x7fe95ddfcfd0>, 'Grate': <gensim.models.keyedvectors.Vocab object at 0x7fe95de00048>, 'erscheint,': <gensim.models.keyedvectors.Vocab object at 0x7fe95de00080>, 'konnte': <gensim.models.keyedvectors.Vocab object at 0x7fe95de000b8>, 'Grates': <gensim.models.keyedvectors.Vocab object at 0x7fe95de000f0>, 'bedeutenden': <gensim.models.keyedvectors.Vocab object at 0x7fe95de00128>, 'kann.': <gensim.models.keyedvectors.Vocab object at 0x7fe95de00160>, 'Werke': <gensim.models.keyedvectors.Vocab object at 0x7fe95de00198>, 'befindlichen': <gensim.models.keyedvectors.Vocab object at 0x7fe95de001d0>, 'Panorama': <gensim.models.keyedvectors.Vocab object at 0x7fe95de00208>, 'Grat': <gensim.models.keyedvectors.Vocab object at 0x7fe95de00240>, 'darin': <gensim.models.keyedvectors.Vocab object at 0x7fe95de00278>, 'denselben': <gensim.models.keyedvectors.Vocab object at 0x7fe95de002b0>, 'Bestimmung': <gensim.models.keyedvectors.Vocab object at 0x7fe95de002e8>, 'wurde.': <gensim.models.keyedvectors.Vocab object at 0x7fe95de00320>, 'Verhältniss': <gensim.models.keyedvectors.Vocab object at 0x7fe95de00358>, 'Burgstall': <gensim.models.keyedvectors.Vocab object at 0x7fe95de00390>, 'bezeichnet': <gensim.models.keyedvectors.Vocab object at 0x7fe95de003c8>, 'Berg': <gensim.models.keyedvectors.Vocab object at 0x7fe95de00400>, 'weiten': <gensim.models.keyedvectors.Vocab object at 0x7fe95de00438>, 'liegen,': <gensim.models.keyedvectors.Vocab object at 0x7fe95de00470>, 'befindliche': <gensim.models.keyedvectors.Vocab object at 0x7fe95de004a8>, 'sehen': <gensim.models.keyedvectors.Vocab object at 0x7fe95de004e0>, 'Dass': <gensim.models.keyedvectors.Vocab object at 0x7fe95de00518>, 'wirklich': <gensim.models.keyedvectors.Vocab object at 0x7fe95de00550>, 'keinen': <gensim.models.keyedvectors.Vocab object at 0x7fe95de00588>, 'Zweifel': <gensim.models.keyedvectors.Vocab object at 0x7fe95de005c0>, 'kommt': <gensim.models.keyedvectors.Vocab object at 0x7fe95de005f8>, 'Name': <gensim.models.keyedvectors.Vocab object at 0x7fe95de00630>, 'Grund': <gensim.models.keyedvectors.Vocab object at 0x7fe95de00668>, 'Messungen': <gensim.models.keyedvectors.Vocab object at 0x7fe95de006a0>, 'wurden,': <gensim.models.keyedvectors.Vocab object at 0x7fe95de006d8>, 'insbesondere': <gensim.models.keyedvectors.Vocab object at 0x7fe95de00710>, 'Ersteigung': <gensim.models.keyedvectors.Vocab object at 0x7fe95de00748>, 'würde.': <gensim.models.keyedvectors.Vocab object at 0x7fe95de00780>, 'sowohl': <gensim.models.keyedvectors.Vocab object at 0x7fe95de007b8>, 'Doch': <gensim.models.keyedvectors.Vocab object at 0x7fe95de007f0>, 'sagt': <gensim.models.keyedvectors.Vocab object at 0x7fe95de00828>, 'Bauern': <gensim.models.keyedvectors.Vocab object at 0x7fe95de00860>, 'gehört': <gensim.models.keyedvectors.Vocab object at 0x7fe95de00898>, 'habe.': <gensim.models.keyedvectors.Vocab object at 0x7fe95de008d0>, 'kennen': <gensim.models.keyedvectors.Vocab object at 0x7fe95de00908>, 'Ist': <gensim.models.keyedvectors.Vocab object at 0x7fe95de00940>, 'Hohe': <gensim.models.keyedvectors.Vocab object at 0x7fe95de00978>, 'Spitze,': <gensim.models.keyedvectors.Vocab object at 0x7fe95de009b0>, 'Aufnahme': <gensim.models.keyedvectors.Vocab object at 0x7fe95de009e8>, 'bekannt': <gensim.models.keyedvectors.Vocab object at 0x7fe95de00a20>, 'benachbarten': <gensim.models.keyedvectors.Vocab object at 0x7fe95de00a58>, 'Berge': <gensim.models.keyedvectors.Vocab object at 0x7fe95de00a90>, 'dabei': <gensim.models.keyedvectors.Vocab object at 0x7fe95de00ac8>, 'Vom': <gensim.models.keyedvectors.Vocab object at 0x7fe95de00b00>, 'Norden': <gensim.models.keyedvectors.Vocab object at 0x7fe95de00b38>, 'östliche': <gensim.models.keyedvectors.Vocab object at 0x7fe95de00b70>, 'bedeutend': <gensim.models.keyedvectors.Vocab object at 0x7fe95de00ba8>, 'gebildet': <gensim.models.keyedvectors.Vocab object at 0x7fe95de00be0>, 'Mulde': <gensim.models.keyedvectors.Vocab object at 0x7fe95de00c18>, 'abfallenden': <gensim.models.keyedvectors.Vocab object at 0x7fe95de00c50>, 'westlichen': <gensim.models.keyedvectors.Vocab object at 0x7fe95de00c88>, '20.': <gensim.models.keyedvectors.Vocab object at 0x7fe95de00cc0>, 'betraten': <gensim.models.keyedvectors.Vocab object at 0x7fe95de00cf8>, 'seiner_ganzen': <gensim.models.keyedvectors.Vocab object at 0x7fe95de00d30>, 'liegende': <gensim.models.keyedvectors.Vocab object at 0x7fe95de00d68>, 'erreichen': <gensim.models.keyedvectors.Vocab object at 0x7fe95de00da0>, 'beschwerlich': <gensim.models.keyedvectors.Vocab object at 0x7fe95de00dd8>, 'Steigung': <gensim.models.keyedvectors.Vocab object at 0x7fe95de00e10>, 'Felswänden': <gensim.models.keyedvectors.Vocab object at 0x7fe95de00e48>, 'südliche': <gensim.models.keyedvectors.Vocab object at 0x7fe95de00e80>, 'östlicher': <gensim.models.keyedvectors.Vocab object at 0x7fe95de00eb8>, 'Wir_hatten': <gensim.models.keyedvectors.Vocab object at 0x7fe95de00ef0>, 'langsam': <gensim.models.keyedvectors.Vocab object at 0x7fe95de00f28>, 'aufwärts': <gensim.models.keyedvectors.Vocab object at 0x7fe95de00f60>, 'gelangten': <gensim.models.keyedvectors.Vocab object at 0x7fe95de00f98>, 'dürfte': <gensim.models.keyedvectors.Vocab object at 0x7fe95de00fd0>, 'Ueberschreitung': <gensim.models.keyedvectors.Vocab object at 0x7fe95de04048>, 'Schwierigkeit': <gensim.models.keyedvectors.Vocab object at 0x7fe95de04080>, 'Theil_des': <gensim.models.keyedvectors.Vocab object at 0x7fe95de040b8>, 'sonst': <gensim.models.keyedvectors.Vocab object at 0x7fe95de040f0>, 'Schwierigkeiten': <gensim.models.keyedvectors.Vocab object at 0x7fe95de04128>, 'wenigstens': <gensim.models.keyedvectors.Vocab object at 0x7fe95de04160>, 'bedeckt': <gensim.models.keyedvectors.Vocab object at 0x7fe95de04198>, 'genug,': <gensim.models.keyedvectors.Vocab object at 0x7fe95de041d0>, 'halben': <gensim.models.keyedvectors.Vocab object at 0x7fe95de04208>, 'Kuppe': <gensim.models.keyedvectors.Vocab object at 0x7fe95de04240>, 'bedeckten': <gensim.models.keyedvectors.Vocab object at 0x7fe95de04278>, 'Kamm': <gensim.models.keyedvectors.Vocab object at 0x7fe95de042b0>, 'angegebenen': <gensim.models.keyedvectors.Vocab object at 0x7fe95de042e8>, 'Aufenthalt': <gensim.models.keyedvectors.Vocab object at 0x7fe95de04320>, 'ab': <gensim.models.keyedvectors.Vocab object at 0x7fe95de04358>, 'sieben': <gensim.models.keyedvectors.Vocab object at 0x7fe95de04390>, 'Anspruch': <gensim.models.keyedvectors.Vocab object at 0x7fe95de043c8>, 'nehmen.': <gensim.models.keyedvectors.Vocab object at 0x7fe95de04400>, 'höchste': <gensim.models.keyedvectors.Vocab object at 0x7fe95de04438>, 'Westen': <gensim.models.keyedvectors.Vocab object at 0x7fe95de04470>, 'steil,': <gensim.models.keyedvectors.Vocab object at 0x7fe95de044a8>, 'Aussicht': <gensim.models.keyedvectors.Vocab object at 0x7fe95de044e0>, 'gewinnen,': <gensim.models.keyedvectors.Vocab object at 0x7fe95de04518>, 'oberste': <gensim.models.keyedvectors.Vocab object at 0x7fe95de04550>, 'Platz': <gensim.models.keyedvectors.Vocab object at 0x7fe95de04588>, 'Oberfläche': <gensim.models.keyedvectors.Vocab object at 0x7fe95de045c0>, 'Nebel': <gensim.models.keyedvectors.Vocab object at 0x7fe95de045f8>, 'Spitzen': <gensim.models.keyedvectors.Vocab object at 0x7fe95de04630>, 'Linie': <gensim.models.keyedvectors.Vocab object at 0x7fe95de04668>, 'Sonklarspitze': <gensim.models.keyedvectors.Vocab object at 0x7fe95de046a0>, 'allem': <gensim.models.keyedvectors.Vocab object at 0x7fe95de046d8>, 'Einblick': <gensim.models.keyedvectors.Vocab object at 0x7fe95de04710>, 'nimmt': <gensim.models.keyedvectors.Vocab object at 0x7fe95de04748>, 'darunter': <gensim.models.keyedvectors.Vocab object at 0x7fe95de04780>, 'scharf': <gensim.models.keyedvectors.Vocab object at 0x7fe95de047b8>, 'starke': <gensim.models.keyedvectors.Vocab object at 0x7fe95de047f0>, 'her': <gensim.models.keyedvectors.Vocab object at 0x7fe95de04828>, 'hatte_ich': <gensim.models.keyedvectors.Vocab object at 0x7fe95de04860>, 'Sonklar': <gensim.models.keyedvectors.Vocab object at 0x7fe95de04898>, 'tritt': <gensim.models.keyedvectors.Vocab object at 0x7fe95de048d0>, 'Firnfeld': <gensim.models.keyedvectors.Vocab object at 0x7fe95de04908>, 'müssen.': <gensim.models.keyedvectors.Vocab object at 0x7fe95de04940>, 'ähnlich': <gensim.models.keyedvectors.Vocab object at 0x7fe95de04978>, 'führt,': <gensim.models.keyedvectors.Vocab object at 0x7fe95de049b0>, 'bieten': <gensim.models.keyedvectors.Vocab object at 0x7fe95de049e8>, 'Oetzthaler': <gensim.models.keyedvectors.Vocab object at 0x7fe95de04a20>, 'nordwestlich': <gensim.models.keyedvectors.Vocab object at 0x7fe95de04a58>, 'nordöstlich': <gensim.models.keyedvectors.Vocab object at 0x7fe95de04a90>, 'Ausdehnung': <gensim.models.keyedvectors.Vocab object at 0x7fe95de04ac8>, 'betreten': <gensim.models.keyedvectors.Vocab object at 0x7fe95de04b00>, 'allein': <gensim.models.keyedvectors.Vocab object at 0x7fe95de04b38>, 'fanden': <gensim.models.keyedvectors.Vocab object at 0x7fe95de04b70>, 'Klüften': <gensim.models.keyedvectors.Vocab object at 0x7fe95de04ba8>, 'geworden': <gensim.models.keyedvectors.Vocab object at 0x7fe95de04be0>, 'oft': <gensim.models.keyedvectors.Vocab object at 0x7fe95de04c18>, 'ausserordentlich': <gensim.models.keyedvectors.Vocab object at 0x7fe95de04c50>, 'zerklüfteten': <gensim.models.keyedvectors.Vocab object at 0x7fe95de04c88>, 'Ferner,': <gensim.models.keyedvectors.Vocab object at 0x7fe95de04cc0>, 'hier,': <gensim.models.keyedvectors.Vocab object at 0x7fe95de04cf8>, 'bedeutender': <gensim.models.keyedvectors.Vocab object at 0x7fe95de04d30>, 'unbedeutende': <gensim.models.keyedvectors.Vocab object at 0x7fe95de04d68>, 'Zunge': <gensim.models.keyedvectors.Vocab object at 0x7fe95de04da0>, 'erstreckt': <gensim.models.keyedvectors.Vocab object at 0x7fe95de04dd8>, 'unsere': <gensim.models.keyedvectors.Vocab object at 0x7fe95de04e10>, 'interessant': <gensim.models.keyedvectors.Vocab object at 0x7fe95de04e48>, 'hätten': <gensim.models.keyedvectors.Vocab object at 0x7fe95de04e80>, 'stiegen': <gensim.models.keyedvectors.Vocab object at 0x7fe95de04eb8>, 'Westseite': <gensim.models.keyedvectors.Vocab object at 0x7fe95de04ef0>, 'Schneefelder': <gensim.models.keyedvectors.Vocab object at 0x7fe95de04f28>, 'konnten.': <gensim.models.keyedvectors.Vocab object at 0x7fe95de04f60>, 'glaube': <gensim.models.keyedvectors.Vocab object at 0x7fe95de04f98>, 'gekommen': <gensim.models.keyedvectors.Vocab object at 0x7fe95de04fd0>, 'diesmal': <gensim.models.keyedvectors.Vocab object at 0x7fe95de07048>, 'Führer,': <gensim.models.keyedvectors.Vocab object at 0x7fe95de07080>, 'Wirkung': <gensim.models.keyedvectors.Vocab object at 0x7fe95de070b8>, 'blieb': <gensim.models.keyedvectors.Vocab object at 0x7fe95de070f0>, 'Hände': <gensim.models.keyedvectors.Vocab object at 0x7fe95de07128>, 'jedenfalls': <gensim.models.keyedvectors.Vocab object at 0x7fe95de07160>, 'meiner': <gensim.models.keyedvectors.Vocab object at 0x7fe95de07198>, 'Wochen': <gensim.models.keyedvectors.Vocab object at 0x7fe95de071d0>, 'ebenso': <gensim.models.keyedvectors.Vocab object at 0x7fe95de07208>, 'II.': <gensim.models.keyedvectors.Vocab object at 0x7fe95de07240>, 'Mein': <gensim.models.keyedvectors.Vocab object at 0x7fe95de07278>, 'ging': <gensim.models.keyedvectors.Vocab object at 0x7fe95de072b0>, 'Schneeberg': <gensim.models.keyedvectors.Vocab object at 0x7fe95de072e8>, 'obwohl': <gensim.models.keyedvectors.Vocab object at 0x7fe95de07320>, 'Wind': <gensim.models.keyedvectors.Vocab object at 0x7fe95de07358>, 'Tagen': <gensim.models.keyedvectors.Vocab object at 0x7fe95de07390>, 'schwer': <gensim.models.keyedvectors.Vocab object at 0x7fe95de073c8>, 'Heu': <gensim.models.keyedvectors.Vocab object at 0x7fe95de07400>, 'vorhanden': <gensim.models.keyedvectors.Vocab object at 0x7fe95de07438>, 'Instrument': <gensim.models.keyedvectors.Vocab object at 0x7fe95de07470>, 'uns,': <gensim.models.keyedvectors.Vocab object at 0x7fe95de074a8>, 'schwarzen': <gensim.models.keyedvectors.Vocab object at 0x7fe95de074e0>, 'wurden.': <gensim.models.keyedvectors.Vocab object at 0x7fe95de07518>, 'einmal': <gensim.models.keyedvectors.Vocab object at 0x7fe95de07550>, 'günstig': <gensim.models.keyedvectors.Vocab object at 0x7fe95de07588>, 'paar': <gensim.models.keyedvectors.Vocab object at 0x7fe95de075c0>, 'werde.': <gensim.models.keyedvectors.Vocab object at 0x7fe95de075f8>, 'brachen': <gensim.models.keyedvectors.Vocab object at 0x7fe95de07630>, '14.': <gensim.models.keyedvectors.Vocab object at 0x7fe95de07668>, 'auf.': <gensim.models.keyedvectors.Vocab object at 0x7fe95de076a0>, 'lässt_sich': <gensim.models.keyedvectors.Vocab object at 0x7fe95de076d8>, 'Joch': <gensim.models.keyedvectors.Vocab object at 0x7fe95de07710>, 'Hauptkamm': <gensim.models.keyedvectors.Vocab object at 0x7fe95de07748>, 'führt.': <gensim.models.keyedvectors.Vocab object at 0x7fe95de07780>, 'letzte': <gensim.models.keyedvectors.Vocab object at 0x7fe95de077b8>, 'tiefer': <gensim.models.keyedvectors.Vocab object at 0x7fe95de077f0>, 'empor': <gensim.models.keyedvectors.Vocab object at 0x7fe95de07828>, 'gefahrlos': <gensim.models.keyedvectors.Vocab object at 0x7fe95de07860>, 'erreichten_wir': <gensim.models.keyedvectors.Vocab object at 0x7fe95de07898>, 'hatten.': <gensim.models.keyedvectors.Vocab object at 0x7fe95de078d0>, 'Theilen': <gensim.models.keyedvectors.Vocab object at 0x7fe95de07908>, 'Steigeisen': <gensim.models.keyedvectors.Vocab object at 0x7fe95de07940>, 'nachdem': <gensim.models.keyedvectors.Vocab object at 0x7fe95de07978>, 'Ansicht': <gensim.models.keyedvectors.Vocab object at 0x7fe95de079b0>, 'Füssen': <gensim.models.keyedvectors.Vocab object at 0x7fe95de079e8>, 'hielten': <gensim.models.keyedvectors.Vocab object at 0x7fe95de07a20>, 'länger': <gensim.models.keyedvectors.Vocab object at 0x7fe95de07a58>, 'hinauf,': <gensim.models.keyedvectors.Vocab object at 0x7fe95de07a90>, 'standen_wir': <gensim.models.keyedvectors.Vocab object at 0x7fe95de07ac8>, 'Punkte,': <gensim.models.keyedvectors.Vocab object at 0x7fe95de07b00>, 'hatten': <gensim.models.keyedvectors.Vocab object at 0x7fe95de07b38>, 'Hintergrund': <gensim.models.keyedvectors.Vocab object at 0x7fe95de07b70>, 'wesentlich': <gensim.models.keyedvectors.Vocab object at 0x7fe95de07ba8>, 'daran': <gensim.models.keyedvectors.Vocab object at 0x7fe95de07be0>, 'kommen,': <gensim.models.keyedvectors.Vocab object at 0x7fe95de07c18>, 'hinab': <gensim.models.keyedvectors.Vocab object at 0x7fe95de07c50>, 'hinauf': <gensim.models.keyedvectors.Vocab object at 0x7fe95de07c88>, 'steigen': <gensim.models.keyedvectors.Vocab object at 0x7fe95de07cc0>, 'Tages': <gensim.models.keyedvectors.Vocab object at 0x7fe95de07cf8>, 'musste,': <gensim.models.keyedvectors.Vocab object at 0x7fe95de07d30>, 'lassen': <gensim.models.keyedvectors.Vocab object at 0x7fe95de07d68>, 'dürfte.': <gensim.models.keyedvectors.Vocab object at 0x7fe95de07da0>, 'Ostseite': <gensim.models.keyedvectors.Vocab object at 0x7fe95de07dd8>, 'Wände': <gensim.models.keyedvectors.Vocab object at 0x7fe95de07e10>, 'ergab': <gensim.models.keyedvectors.Vocab object at 0x7fe95de07e48>, 'verdeckt': <gensim.models.keyedvectors.Vocab object at 0x7fe95de07e80>, 'jede': <gensim.models.keyedvectors.Vocab object at 0x7fe95de07eb8>, 'gelangen.': <gensim.models.keyedvectors.Vocab object at 0x7fe95de07ef0>, 'würden': <gensim.models.keyedvectors.Vocab object at 0x7fe95de07f28>, 'Ob': <gensim.models.keyedvectors.Vocab object at 0x7fe95de07f60>, 'immerhin': <gensim.models.keyedvectors.Vocab object at 0x7fe95de07f98>, 'Während': <gensim.models.keyedvectors.Vocab object at 0x7fe95de07fd0>, 'nächster': <gensim.models.keyedvectors.Vocab object at 0x7fe95de0a048>, 'heute': <gensim.models.keyedvectors.Vocab object at 0x7fe95de0a080>, 'sehen,': <gensim.models.keyedvectors.Vocab object at 0x7fe95de0a0b8>, 'konnte,': <gensim.models.keyedvectors.Vocab object at 0x7fe95de0a0f0>, 'Arbeit': <gensim.models.keyedvectors.Vocab object at 0x7fe95de0a128>, 'westliche': <gensim.models.keyedvectors.Vocab object at 0x7fe95de0a160>, 'Eismassen': <gensim.models.keyedvectors.Vocab object at 0x7fe95de0a198>, 'Berges': <gensim.models.keyedvectors.Vocab object at 0x7fe95de0a1d0>, 'Halt': <gensim.models.keyedvectors.Vocab object at 0x7fe95de0a208>, 'finden.': <gensim.models.keyedvectors.Vocab object at 0x7fe95de0a240>, 'dahin': <gensim.models.keyedvectors.Vocab object at 0x7fe95de0a278>, 'tief': <gensim.models.keyedvectors.Vocab object at 0x7fe95de0a2b0>, 'senkt': <gensim.models.keyedvectors.Vocab object at 0x7fe95de0a2e8>, 'gewonnen': <gensim.models.keyedvectors.Vocab object at 0x7fe95de0a320>, 'erreichen,': <gensim.models.keyedvectors.Vocab object at 0x7fe95de0a358>, 'mussten': <gensim.models.keyedvectors.Vocab object at 0x7fe95de0a390>, 'Steilheit': <gensim.models.keyedvectors.Vocab object at 0x7fe95de0a3c8>, 'sahen': <gensim.models.keyedvectors.Vocab object at 0x7fe95de0a400>, 'das_Seil': <gensim.models.keyedvectors.Vocab object at 0x7fe95de0a438>, 'Gelegenheit,': <gensim.models.keyedvectors.Vocab object at 0x7fe95de0a470>, 'machten': <gensim.models.keyedvectors.Vocab object at 0x7fe95de0a4a8>, 'wenige': <gensim.models.keyedvectors.Vocab object at 0x7fe95de0a4e0>, 'besten': <gensim.models.keyedvectors.Vocab object at 0x7fe95de0a518>, 'jedem': <gensim.models.keyedvectors.Vocab object at 0x7fe95de0a550>, 'mancher': <gensim.models.keyedvectors.Vocab object at 0x7fe95de0a588>, 'Stein': <gensim.models.keyedvectors.Vocab object at 0x7fe95de0a5c0>, 'wir,': <gensim.models.keyedvectors.Vocab object at 0x7fe95de0a5f8>, 'Aufstieg': <gensim.models.keyedvectors.Vocab object at 0x7fe95de0a630>, 'machen,': <gensim.models.keyedvectors.Vocab object at 0x7fe95de0a668>, 'gleich': <gensim.models.keyedvectors.Vocab object at 0x7fe95de0a6a0>, 'Minuten': <gensim.models.keyedvectors.Vocab object at 0x7fe95de0a6d8>, 'überschritten': <gensim.models.keyedvectors.Vocab object at 0x7fe95de0a710>, 'günstigen': <gensim.models.keyedvectors.Vocab object at 0x7fe95de0a748>, 'Verhältnissen': <gensim.models.keyedvectors.Vocab object at 0x7fe95de0a780>, 'konnten,': <gensim.models.keyedvectors.Vocab object at 0x7fe95de0a7b8>, 'Den': <gensim.models.keyedvectors.Vocab object at 0x7fe95de0a7f0>, 'bildet': <gensim.models.keyedvectors.Vocab object at 0x7fe95de0a828>, 'Ost': <gensim.models.keyedvectors.Vocab object at 0x7fe95de0a860>, 'West': <gensim.models.keyedvectors.Vocab object at 0x7fe95de0a898>, 'gleicher': <gensim.models.keyedvectors.Vocab object at 0x7fe95de0a8d0>, 'mächtig': <gensim.models.keyedvectors.Vocab object at 0x7fe95de0a908>, 'an,': <gensim.models.keyedvectors.Vocab object at 0x7fe95de0a940>, ';': <gensim.models.keyedvectors.Vocab object at 0x7fe95de0a978>, 'musste': <gensim.models.keyedvectors.Vocab object at 0x7fe95de0a9b0>, 'damit': <gensim.models.keyedvectors.Vocab object at 0x7fe95de0a9e8>, 'gab': <gensim.models.keyedvectors.Vocab object at 0x7fe95de0aa20>, 'unserer': <gensim.models.keyedvectors.Vocab object at 0x7fe95de0aa58>, 'jetzt,': <gensim.models.keyedvectors.Vocab object at 0x7fe95de0aa90>, 'Nordseite': <gensim.models.keyedvectors.Vocab object at 0x7fe95de0aac8>, 'leichter': <gensim.models.keyedvectors.Vocab object at 0x7fe95de0ab00>, 'nie': <gensim.models.keyedvectors.Vocab object at 0x7fe95de0ab38>, 'besondere': <gensim.models.keyedvectors.Vocab object at 0x7fe95de0ab70>, 'Aussicht,': <gensim.models.keyedvectors.Vocab object at 0x7fe95de0aba8>, 'Standpunkt': <gensim.models.keyedvectors.Vocab object at 0x7fe95de0abe0>, 'erhebt,': <gensim.models.keyedvectors.Vocab object at 0x7fe95de0ac18>, 'Genuss': <gensim.models.keyedvectors.Vocab object at 0x7fe95de0ac50>, 'prächtige': <gensim.models.keyedvectors.Vocab object at 0x7fe95de0ac88>, 'breit': <gensim.models.keyedvectors.Vocab object at 0x7fe95de0acc0>, 'nördlichen': <gensim.models.keyedvectors.Vocab object at 0x7fe95de0acf8>, 'Kalkalpen': <gensim.models.keyedvectors.Vocab object at 0x7fe95de0ad30>, 'worden,': <gensim.models.keyedvectors.Vocab object at 0x7fe95de0ad68>, 'mich,': <gensim.models.keyedvectors.Vocab object at 0x7fe95de0ada0>, 'schönen': <gensim.models.keyedvectors.Vocab object at 0x7fe95de0add8>, 'Gruppen': <gensim.models.keyedvectors.Vocab object at 0x7fe95de0ae10>, 'Tirol': <gensim.models.keyedvectors.Vocab object at 0x7fe95de0ae48>, 'vollen': <gensim.models.keyedvectors.Vocab object at 0x7fe95de0ae80>, 'Punkten': <gensim.models.keyedvectors.Vocab object at 0x7fe95de0aeb8>, 'gewährt': <gensim.models.keyedvectors.Vocab object at 0x7fe95de0aef0>, 'treten': <gensim.models.keyedvectors.Vocab object at 0x7fe95de0af28>, 'südlichen': <gensim.models.keyedvectors.Vocab object at 0x7fe95de0af60>, 'Gerade': <gensim.models.keyedvectors.Vocab object at 0x7fe95de0af98>, 'Fernsicht': <gensim.models.keyedvectors.Vocab object at 0x7fe95de0afd0>, 'Blick': <gensim.models.keyedvectors.Vocab object at 0x7fe95de0e048>, 'Südosten': <gensim.models.keyedvectors.Vocab object at 0x7fe95de0e080>, 'scharfen': <gensim.models.keyedvectors.Vocab object at 0x7fe95de0e0b8>, 'Monte': <gensim.models.keyedvectors.Vocab object at 0x7fe95de0e0f0>, 'eine_Reihe': <gensim.models.keyedvectors.Vocab object at 0x7fe95de0e128>, 'Zweck': <gensim.models.keyedvectors.Vocab object at 0x7fe95de0e160>, 'Seile': <gensim.models.keyedvectors.Vocab object at 0x7fe95de0e198>, 'Rasch': <gensim.models.keyedvectors.Vocab object at 0x7fe95de0e1d0>, 'Ende_des': <gensim.models.keyedvectors.Vocab object at 0x7fe95de0e208>, 'erfordert': <gensim.models.keyedvectors.Vocab object at 0x7fe95de0e240>, 'wenn_man': <gensim.models.keyedvectors.Vocab object at 0x7fe95de0e278>, 'Erfahrung': <gensim.models.keyedvectors.Vocab object at 0x7fe95de0e2b0>, 'bringen.': <gensim.models.keyedvectors.Vocab object at 0x7fe95de0e2e8>, 'führen': <gensim.models.keyedvectors.Vocab object at 0x7fe95de0e320>, 'früheren': <gensim.models.keyedvectors.Vocab object at 0x7fe95de0e358>, 'Touren': <gensim.models.keyedvectors.Vocab object at 0x7fe95de0e390>, 'Wege,': <gensim.models.keyedvectors.Vocab object at 0x7fe95de0e3c8>, 'fünf': <gensim.models.keyedvectors.Vocab object at 0x7fe95de0e400>, 'wovon': <gensim.models.keyedvectors.Vocab object at 0x7fe95de0e438>, 'Zur': <gensim.models.keyedvectors.Vocab object at 0x7fe95de0e470>, 'Rechten': <gensim.models.keyedvectors.Vocab object at 0x7fe95de0e4a8>, 'Ortler': <gensim.models.keyedvectors.Vocab object at 0x7fe95de0e4e0>, 'erblickt': <gensim.models.keyedvectors.Vocab object at 0x7fe95de0e518>, 'Fusse': <gensim.models.keyedvectors.Vocab object at 0x7fe95de0e550>, 'Dorfe': <gensim.models.keyedvectors.Vocab object at 0x7fe95de0e588>, 'Salzburg': <gensim.models.keyedvectors.Vocab object at 0x7fe95de0e5c0>, 'Bergsteiger': <gensim.models.keyedvectors.Vocab object at 0x7fe95de0e5f8>, 'Professor': <gensim.models.keyedvectors.Vocab object at 0x7fe95de0e630>, 'Herrn_Dr.': <gensim.models.keyedvectors.Vocab object at 0x7fe95de0e668>, 'Führers': <gensim.models.keyedvectors.Vocab object at 0x7fe95de0e6a0>, 'Pinggera': <gensim.models.keyedvectors.Vocab object at 0x7fe95de0e6d8>, 'will': <gensim.models.keyedvectors.Vocab object at 0x7fe95de0e710>, 'Met.)': <gensim.models.keyedvectors.Vocab object at 0x7fe95de0e748>, 'erster': <gensim.models.keyedvectors.Vocab object at 0x7fe95de0e780>, 'schmale': <gensim.models.keyedvectors.Vocab object at 0x7fe95de0e7b8>, 'Ausläufer': <gensim.models.keyedvectors.Vocab object at 0x7fe95de0e7f0>, 'Untere': <gensim.models.keyedvectors.Vocab object at 0x7fe95de0e828>, 'Vorderen': <gensim.models.keyedvectors.Vocab object at 0x7fe95de0e860>, 'herab.': <gensim.models.keyedvectors.Vocab object at 0x7fe95de0e898>, 'Unteren': <gensim.models.keyedvectors.Vocab object at 0x7fe95de0e8d0>, 'Thurwieserspitze': <gensim.models.keyedvectors.Vocab object at 0x7fe95de0e908>, '),': <gensim.models.keyedvectors.Vocab object at 0x7fe95de0e940>, 'Grosse': <gensim.models.keyedvectors.Vocab object at 0x7fe95de0e978>, 'Eiskogl': <gensim.models.keyedvectors.Vocab object at 0x7fe95de0e9b0>, 'Grossen': <gensim.models.keyedvectors.Vocab object at 0x7fe95de0e9e8>, 'kurzer': <gensim.models.keyedvectors.Vocab object at 0x7fe95de0ea20>, 'schmalen': <gensim.models.keyedvectors.Vocab object at 0x7fe95de0ea58>, 'schroffen': <gensim.models.keyedvectors.Vocab object at 0x7fe95de0ea90>, 'steile': <gensim.models.keyedvectors.Vocab object at 0x7fe95de0eac8>, 'Wald': <gensim.models.keyedvectors.Vocab object at 0x7fe95de0eb00>, 'untere': <gensim.models.keyedvectors.Vocab object at 0x7fe95de0eb38>, 'Parthie': <gensim.models.keyedvectors.Vocab object at 0x7fe95de0eb70>, 'genannt': <gensim.models.keyedvectors.Vocab object at 0x7fe95de0eba8>, 'Beschreibung': <gensim.models.keyedvectors.Vocab object at 0x7fe95de0ebe0>, 'Joseph': <gensim.models.keyedvectors.Vocab object at 0x7fe95de0ec18>, 'Schnell': <gensim.models.keyedvectors.Vocab object at 0x7fe95de0ec50>, 'Kals': <gensim.models.keyedvectors.Vocab object at 0x7fe95de0ec88>, 'wäre,': <gensim.models.keyedvectors.Vocab object at 0x7fe95de0ecc0>, 'gehen': <gensim.models.keyedvectors.Vocab object at 0x7fe95de0ecf8>, 'Anstrengung': <gensim.models.keyedvectors.Vocab object at 0x7fe95de0ed30>, 'Gefahr': <gensim.models.keyedvectors.Vocab object at 0x7fe95de0ed68>, 'gelangen,': <gensim.models.keyedvectors.Vocab object at 0x7fe95de0eda0>, 'Herren': <gensim.models.keyedvectors.Vocab object at 0x7fe95de0edd8>, 'Herr': <gensim.models.keyedvectors.Vocab object at 0x7fe95de0ee10>, 'Himmel': <gensim.models.keyedvectors.Vocab object at 0x7fe95de0ee48>, 'rein': <gensim.models.keyedvectors.Vocab object at 0x7fe95de0ee80>, '4_Uhr': <gensim.models.keyedvectors.Vocab object at 0x7fe95de0eeb8>, 'Min.': <gensim.models.keyedvectors.Vocab object at 0x7fe95de0eef0>, '5_Uhr': <gensim.models.keyedvectors.Vocab object at 0x7fe95de0ef28>, 'hinan,': <gensim.models.keyedvectors.Vocab object at 0x7fe95de0ef60>, 'kamen_wir': <gensim.models.keyedvectors.Vocab object at 0x7fe95de0ef98>, '7_Uhr': <gensim.models.keyedvectors.Vocab object at 0x7fe95de0efd0>, 'quer': <gensim.models.keyedvectors.Vocab object at 0x7fe95de12048>, 'Anfangs': <gensim.models.keyedvectors.Vocab object at 0x7fe95de12080>, 'kurzer_Zeit': <gensim.models.keyedvectors.Vocab object at 0x7fe95de120b8>, 'Firn': <gensim.models.keyedvectors.Vocab object at 0x7fe95de120f0>, 'wurden': <gensim.models.keyedvectors.Vocab object at 0x7fe95de12128>, 'tiefen': <gensim.models.keyedvectors.Vocab object at 0x7fe95de12160>, 'Neuschnee': <gensim.models.keyedvectors.Vocab object at 0x7fe95de12198>, 'indem': <gensim.models.keyedvectors.Vocab object at 0x7fe95de121d0>, 'Zwar': <gensim.models.keyedvectors.Vocab object at 0x7fe95de12208>, 'rechts': <gensim.models.keyedvectors.Vocab object at 0x7fe95de12240>, 'gelangt': <gensim.models.keyedvectors.Vocab object at 0x7fe95de12278>, 'überwunden': <gensim.models.keyedvectors.Vocab object at 0x7fe95de122b0>, 'Blicke': <gensim.models.keyedvectors.Vocab object at 0x7fe95de122e8>, 'gefunden': <gensim.models.keyedvectors.Vocab object at 0x7fe95de12320>, 'wild': <gensim.models.keyedvectors.Vocab object at 0x7fe95de12358>, 'fällt': <gensim.models.keyedvectors.Vocab object at 0x7fe95de12390>, 'zahllosen': <gensim.models.keyedvectors.Vocab object at 0x7fe95de123c8>, 'überhängenden': <gensim.models.keyedvectors.Vocab object at 0x7fe95de12400>, 'Wänden': <gensim.models.keyedvectors.Vocab object at 0x7fe95de12438>, 'zur_Linken': <gensim.models.keyedvectors.Vocab object at 0x7fe95de12470>, 'Einsattelung': <gensim.models.keyedvectors.Vocab object at 0x7fe95de124a8>, 'direkt': <gensim.models.keyedvectors.Vocab object at 0x7fe95de124e0>, 'stiegen_wir': <gensim.models.keyedvectors.Vocab object at 0x7fe95de12518>, 'Zwecke': <gensim.models.keyedvectors.Vocab object at 0x7fe95de12550>, 'steht,': <gensim.models.keyedvectors.Vocab object at 0x7fe95de12588>, 'erhebt.': <gensim.models.keyedvectors.Vocab object at 0x7fe95de125c0>, '12': <gensim.models.keyedvectors.Vocab object at 0x7fe95de125f8>, 'Gipfel,': <gensim.models.keyedvectors.Vocab object at 0x7fe95de12630>, 'Gestalt': <gensim.models.keyedvectors.Vocab object at 0x7fe95de12668>, 'diess': <gensim.models.keyedvectors.Vocab object at 0x7fe95de126a0>, 'stehen,': <gensim.models.keyedvectors.Vocab object at 0x7fe95de126d8>, 'Leider': <gensim.models.keyedvectors.Vocab object at 0x7fe95de12710>, 'Untersuchung': <gensim.models.keyedvectors.Vocab object at 0x7fe95de12748>, '20': <gensim.models.keyedvectors.Vocab object at 0x7fe95de12780>, 'gegen_Süden': <gensim.models.keyedvectors.Vocab object at 0x7fe95de127b8>, 'Ortlergruppe': <gensim.models.keyedvectors.Vocab object at 0x7fe95de127f0>, 'Linken': <gensim.models.keyedvectors.Vocab object at 0x7fe95de12828>, 'entfernt': <gensim.models.keyedvectors.Vocab object at 0x7fe95de12860>, '50': <gensim.models.keyedvectors.Vocab object at 0x7fe95de12898>, 'Möglichkeit': <gensim.models.keyedvectors.Vocab object at 0x7fe95de128d0>, 'eine_kleine': <gensim.models.keyedvectors.Vocab object at 0x7fe95de12908>, 'mit_einem': <gensim.models.keyedvectors.Vocab object at 0x7fe95de12940>, 'Wein': <gensim.models.keyedvectors.Vocab object at 0x7fe95de12978>, 'setzten': <gensim.models.keyedvectors.Vocab object at 0x7fe95de129b0>, 'eigenen': <gensim.models.keyedvectors.Vocab object at 0x7fe95de129e8>, 'Sicherheit': <gensim.models.keyedvectors.Vocab object at 0x7fe95de12a20>, 'bedeckte': <gensim.models.keyedvectors.Vocab object at 0x7fe95de12a58>, 'Vorsicht': <gensim.models.keyedvectors.Vocab object at 0x7fe95de12a90>, 'Hälfte': <gensim.models.keyedvectors.Vocab object at 0x7fe95de12ac8>, 'mehrmals': <gensim.models.keyedvectors.Vocab object at 0x7fe95de12b00>, 'Dazu': <gensim.models.keyedvectors.Vocab object at 0x7fe95de12b38>, 'Bergstock': <gensim.models.keyedvectors.Vocab object at 0x7fe95de12b70>, 'unseren': <gensim.models.keyedvectors.Vocab object at 0x7fe95de12ba8>, 'Händen': <gensim.models.keyedvectors.Vocab object at 0x7fe95de12be0>, '1': <gensim.models.keyedvectors.Vocab object at 0x7fe95de12c18>, 'endlich': <gensim.models.keyedvectors.Vocab object at 0x7fe95de12c50>, 'standen': <gensim.models.keyedvectors.Vocab object at 0x7fe95de12c88>, '2': <gensim.models.keyedvectors.Vocab object at 0x7fe95de12cc0>, 'Minuten,': <gensim.models.keyedvectors.Vocab object at 0x7fe95de12cf8>, 'Scharten': <gensim.models.keyedvectors.Vocab object at 0x7fe95de12d30>, 'Dieselbe': <gensim.models.keyedvectors.Vocab object at 0x7fe95de12d68>, 'nächste': <gensim.models.keyedvectors.Vocab object at 0x7fe95de12da0>, 'wollte': <gensim.models.keyedvectors.Vocab object at 0x7fe95de12dd8>, 'unter_dem': <gensim.models.keyedvectors.Vocab object at 0x7fe95de12e10>, 'Kälte': <gensim.models.keyedvectors.Vocab object at 0x7fe95de12e48>, 'traten': <gensim.models.keyedvectors.Vocab object at 0x7fe95de12e80>, 'Schritt': <gensim.models.keyedvectors.Vocab object at 0x7fe95de12eb8>, 'wären': <gensim.models.keyedvectors.Vocab object at 0x7fe95de12ef0>, '3_Uhr': <gensim.models.keyedvectors.Vocab object at 0x7fe95de12f28>, 'glücklich': <gensim.models.keyedvectors.Vocab object at 0x7fe95de12f60>, 'hundert': <gensim.models.keyedvectors.Vocab object at 0x7fe95de12f98>, 'südlicher': <gensim.models.keyedvectors.Vocab object at 0x7fe95de12fd0>, 'Absturz': <gensim.models.keyedvectors.Vocab object at 0x7fe95de15048>, 'konnten': <gensim.models.keyedvectors.Vocab object at 0x7fe95de15080>, 'Zerklüftung': <gensim.models.keyedvectors.Vocab object at 0x7fe95de150b8>, 'Bald': <gensim.models.keyedvectors.Vocab object at 0x7fe95de150f0>, 'verlassen': <gensim.models.keyedvectors.Vocab object at 0x7fe95de15128>, 'Rast': <gensim.models.keyedvectors.Vocab object at 0x7fe95de15160>, 'Val': <gensim.models.keyedvectors.Vocab object at 0x7fe95de15198>, '6_Uhr': <gensim.models.keyedvectors.Vocab object at 0x7fe95de151d0>, 'trotz': <gensim.models.keyedvectors.Vocab object at 0x7fe95de15208>, 'Kenntniss': <gensim.models.keyedvectors.Vocab object at 0x7fe95de15240>, 'freundliche': <gensim.models.keyedvectors.Vocab object at 0x7fe95de15278>, 'verliessen_wir': <gensim.models.keyedvectors.Vocab object at 0x7fe95de152b0>, 'bestiegen': <gensim.models.keyedvectors.Vocab object at 0x7fe95de152e8>, '½_Stunden': <gensim.models.keyedvectors.Vocab object at 0x7fe95de15320>, 'St.': <gensim.models.keyedvectors.Vocab object at 0x7fe95de15358>, 'Sulden': <gensim.models.keyedvectors.Vocab object at 0x7fe95de15390>, 'hinab.': <gensim.models.keyedvectors.Vocab object at 0x7fe95de153c8>, 'Folge': <gensim.models.keyedvectors.Vocab object at 0x7fe95de15400>, 'sagen,': <gensim.models.keyedvectors.Vocab object at 0x7fe95de15438>, 'Beschaffenheit': <gensim.models.keyedvectors.Vocab object at 0x7fe95de15470>, 'letztere': <gensim.models.keyedvectors.Vocab object at 0x7fe95de154a8>, 'verhältnissmässig': <gensim.models.keyedvectors.Vocab object at 0x7fe95de154e0>, 'bildet,': <gensim.models.keyedvectors.Vocab object at 0x7fe95de15518>, 'ersteigen,': <gensim.models.keyedvectors.Vocab object at 0x7fe95de15550>, 'Zum': <gensim.models.keyedvectors.Vocab object at 0x7fe95de15588>, 'Thälern': <gensim.models.keyedvectors.Vocab object at 0x7fe95de155c0>, 'Recht': <gensim.models.keyedvectors.Vocab object at 0x7fe95de155f8>, 'kann_man': <gensim.models.keyedvectors.Vocab object at 0x7fe95de15630>, 'Schönheit': <gensim.models.keyedvectors.Vocab object at 0x7fe95de15668>, 'deutschen': <gensim.models.keyedvectors.Vocab object at 0x7fe95de156a0>, 'Kötschach': <gensim.models.keyedvectors.Vocab object at 0x7fe95de156d8>, 'beste': <gensim.models.keyedvectors.Vocab object at 0x7fe95de15710>, 'entweder': <gensim.models.keyedvectors.Vocab object at 0x7fe95de15748>, 'heisst': <gensim.models.keyedvectors.Vocab object at 0x7fe95de15780>, 'Wanderung': <gensim.models.keyedvectors.Vocab object at 0x7fe95de157b8>, 'Nicht': <gensim.models.keyedvectors.Vocab object at 0x7fe95de157f0>, 'namentlich': <gensim.models.keyedvectors.Vocab object at 0x7fe95de15828>, 'Wanderer': <gensim.models.keyedvectors.Vocab object at 0x7fe95de15860>, 'mitunter': <gensim.models.keyedvectors.Vocab object at 0x7fe95de15898>, 'Ferne': <gensim.models.keyedvectors.Vocab object at 0x7fe95de158d0>, 'Mittleren': <gensim.models.keyedvectors.Vocab object at 0x7fe95de15908>, 'Oberen': <gensim.models.keyedvectors.Vocab object at 0x7fe95de15940>, 'sogenannte': <gensim.models.keyedvectors.Vocab object at 0x7fe95de15978>, 'zurückgelegt': <gensim.models.keyedvectors.Vocab object at 0x7fe95de159b0>, 'Landschaft': <gensim.models.keyedvectors.Vocab object at 0x7fe95de159e8>, 'macht': <gensim.models.keyedvectors.Vocab object at 0x7fe95de15a20>, 'nächsten': <gensim.models.keyedvectors.Vocab object at 0x7fe95de15a58>, 'Umgebung': <gensim.models.keyedvectors.Vocab object at 0x7fe95de15a90>, 'sanften': <gensim.models.keyedvectors.Vocab object at 0x7fe95de15ac8>, 'Abhängen': <gensim.models.keyedvectors.Vocab object at 0x7fe95de15b00>, 'scheinbar': <gensim.models.keyedvectors.Vocab object at 0x7fe95de15b38>, 'Zug': <gensim.models.keyedvectors.Vocab object at 0x7fe95de15b70>, 'Alpen,': <gensim.models.keyedvectors.Vocab object at 0x7fe95de15ba8>, 'Allem': <gensim.models.keyedvectors.Vocab object at 0x7fe95de15be0>, 'gewaltige': <gensim.models.keyedvectors.Vocab object at 0x7fe95de15c18>, 'Kellerwand': <gensim.models.keyedvectors.Vocab object at 0x7fe95de15c50>, 'offenbar': <gensim.models.keyedvectors.Vocab object at 0x7fe95de15c88>, 'ja': <gensim.models.keyedvectors.Vocab object at 0x7fe95de15cc0>, 'wahrscheinlich': <gensim.models.keyedvectors.Vocab object at 0x7fe95de15cf8>, 'Erhebungen': <gensim.models.keyedvectors.Vocab object at 0x7fe95de15d30>, 'alpinen': <gensim.models.keyedvectors.Vocab object at 0x7fe95de15d68>, 'Stande': <gensim.models.keyedvectors.Vocab object at 0x7fe95de15da0>, 'Ausnahme': <gensim.models.keyedvectors.Vocab object at 0x7fe95de15dd8>, 'Zinne': <gensim.models.keyedvectors.Vocab object at 0x7fe95de15e10>, 'äusserst': <gensim.models.keyedvectors.Vocab object at 0x7fe95de15e48>, 'obere': <gensim.models.keyedvectors.Vocab object at 0x7fe95de15e80>, 'Joche': <gensim.models.keyedvectors.Vocab object at 0x7fe95de15eb8>, '(auch': <gensim.models.keyedvectors.Vocab object at 0x7fe95de15ef0>, 'di': <gensim.models.keyedvectors.Vocab object at 0x7fe95de15f28>, 'vorbei': <gensim.models.keyedvectors.Vocab object at 0x7fe95de15f60>, 'beiläufig': <gensim.models.keyedvectors.Vocab object at 0x7fe95de15f98>, 'Zinnen': <gensim.models.keyedvectors.Vocab object at 0x7fe95de15fd0>, 'Zacken': <gensim.models.keyedvectors.Vocab object at 0x7fe95dd99048>, 'steiler': <gensim.models.keyedvectors.Vocab object at 0x7fe95dd99080>, 'kleiner': <gensim.models.keyedvectors.Vocab object at 0x7fe95dd990b8>, 'rasch': <gensim.models.keyedvectors.Vocab object at 0x7fe95dd990f0>, 'erstiegen': <gensim.models.keyedvectors.Vocab object at 0x7fe95dd99128>, 'Fluthen': <gensim.models.keyedvectors.Vocab object at 0x7fe95dd99160>, 'äussersten': <gensim.models.keyedvectors.Vocab object at 0x7fe95dd99198>, 'prächtigen': <gensim.models.keyedvectors.Vocab object at 0x7fe95dd991d0>, 'Platten': <gensim.models.keyedvectors.Vocab object at 0x7fe95dd99208>, 'ersteren': <gensim.models.keyedvectors.Vocab object at 0x7fe95dd99240>, 'vorzüglich': <gensim.models.keyedvectors.Vocab object at 0x7fe95dd99278>, 'Lienz': <gensim.models.keyedvectors.Vocab object at 0x7fe95dd992b0>, 'Bergspitzen': <gensim.models.keyedvectors.Vocab object at 0x7fe95dd992e8>, 'wollen': <gensim.models.keyedvectors.Vocab object at 0x7fe95dd99320>, 'k.': <gensim.models.keyedvectors.Vocab object at 0x7fe95dd99358>, 'Fuss,': <gensim.models.keyedvectors.Vocab object at 0x7fe95dd99390>, 'erhalten': <gensim.models.keyedvectors.Vocab object at 0x7fe95dd993c8>, 'weitaus': <gensim.models.keyedvectors.Vocab object at 0x7fe95dd99400>, 'nicht.': <gensim.models.keyedvectors.Vocab object at 0x7fe95dd99438>, 'bekannt,': <gensim.models.keyedvectors.Vocab object at 0x7fe95dd99470>, 'Beziehung': <gensim.models.keyedvectors.Vocab object at 0x7fe95dd994a8>, 'Franz': <gensim.models.keyedvectors.Vocab object at 0x7fe95dd994e0>, 'Keil,': <gensim.models.keyedvectors.Vocab object at 0x7fe95dd99518>, 'nennt': <gensim.models.keyedvectors.Vocab object at 0x7fe95dd99550>, 'Man': <gensim.models.keyedvectors.Vocab object at 0x7fe95dd99588>, 'letzterer': <gensim.models.keyedvectors.Vocab object at 0x7fe95dd995c0>, 'Wer': <gensim.models.keyedvectors.Vocab object at 0x7fe95dd995f8>, 'wiederholt': <gensim.models.keyedvectors.Vocab object at 0x7fe95dd99630>, 'Keil': <gensim.models.keyedvectors.Vocab object at 0x7fe95dd99668>, 'kann,': <gensim.models.keyedvectors.Vocab object at 0x7fe95dd996a0>, 'Betrachtung': <gensim.models.keyedvectors.Vocab object at 0x7fe95dd996d8>, 'kommen': <gensim.models.keyedvectors.Vocab object at 0x7fe95dd99710>, 'Bezeichnung': <gensim.models.keyedvectors.Vocab object at 0x7fe95dd99748>, 'Wohl': <gensim.models.keyedvectors.Vocab object at 0x7fe95dd99780>, 'Piz': <gensim.models.keyedvectors.Vocab object at 0x7fe95dd997b8>, 'recht': <gensim.models.keyedvectors.Vocab object at 0x7fe95dd997f0>, 'gleichen': <gensim.models.keyedvectors.Vocab object at 0x7fe95dd99828>, 'eigentlich': <gensim.models.keyedvectors.Vocab object at 0x7fe95dd99860>, 'ober': <gensim.models.keyedvectors.Vocab object at 0x7fe95dd99898>, 'Hier': <gensim.models.keyedvectors.Vocab object at 0x7fe95dd998d0>, 'Hause': <gensim.models.keyedvectors.Vocab object at 0x7fe95dd99908>, 'er,': <gensim.models.keyedvectors.Vocab object at 0x7fe95dd99940>, 'nicht,': <gensim.models.keyedvectors.Vocab object at 0x7fe95dd99978>, 'gerne': <gensim.models.keyedvectors.Vocab object at 0x7fe95dd999b0>, 'gehen,': <gensim.models.keyedvectors.Vocab object at 0x7fe95dd999e8>, 'Jäger': <gensim.models.keyedvectors.Vocab object at 0x7fe95dd99a20>, 'Kopf': <gensim.models.keyedvectors.Vocab object at 0x7fe95dd99a58>, 'Umständen': <gensim.models.keyedvectors.Vocab object at 0x7fe95dd99a90>, 'Beginn': <gensim.models.keyedvectors.Vocab object at 0x7fe95dd99ac8>, '40': <gensim.models.keyedvectors.Vocab object at 0x7fe95dd99b00>, 'empor,': <gensim.models.keyedvectors.Vocab object at 0x7fe95dd99b38>, 'Obere': <gensim.models.keyedvectors.Vocab object at 0x7fe95dd99b70>, 'grossartigen': <gensim.models.keyedvectors.Vocab object at 0x7fe95dd99ba8>, 'herrlichen': <gensim.models.keyedvectors.Vocab object at 0x7fe95dd99be0>, 'interessanten': <gensim.models.keyedvectors.Vocab object at 0x7fe95dd99c18>, 'genannt.': <gensim.models.keyedvectors.Vocab object at 0x7fe95dd99c50>, 'zogen': <gensim.models.keyedvectors.Vocab object at 0x7fe95dd99c88>, 'noch_immer': <gensim.models.keyedvectors.Vocab object at 0x7fe95dd99cc0>, 'gelegene': <gensim.models.keyedvectors.Vocab object at 0x7fe95dd99cf8>, 'Wirth': <gensim.models.keyedvectors.Vocab object at 0x7fe95dd99d30>, 'Gasthaus': <gensim.models.keyedvectors.Vocab object at 0x7fe95dd99d68>, 'nehmen': <gensim.models.keyedvectors.Vocab object at 0x7fe95dd99da0>, 'zurück': <gensim.models.keyedvectors.Vocab object at 0x7fe95dd99dd8>, 'guten': <gensim.models.keyedvectors.Vocab object at 0x7fe95dd99e10>, 'beschlossen': <gensim.models.keyedvectors.Vocab object at 0x7fe95dd99e48>, '4': <gensim.models.keyedvectors.Vocab object at 0x7fe95dd99e80>, 'wendet': <gensim.models.keyedvectors.Vocab object at 0x7fe95dd99eb8>, 'bevor': <gensim.models.keyedvectors.Vocab object at 0x7fe95dd99ef0>, 'jedoch,': <gensim.models.keyedvectors.Vocab object at 0x7fe95dd99f28>, 'auch,': <gensim.models.keyedvectors.Vocab object at 0x7fe95dd99f60>, 'besucht': <gensim.models.keyedvectors.Vocab object at 0x7fe95dd99f98>, 'Süden,': <gensim.models.keyedvectors.Vocab object at 0x7fe95dd99fd0>, 'Verbindung': <gensim.models.keyedvectors.Vocab object at 0x7fe95dd9d048>, 'Unterkunft': <gensim.models.keyedvectors.Vocab object at 0x7fe95dd9d080>, 'unseren_Weg': <gensim.models.keyedvectors.Vocab object at 0x7fe95dd9d0b8>, 'jenseitigen': <gensim.models.keyedvectors.Vocab object at 0x7fe95dd9d0f0>, 'Frage': <gensim.models.keyedvectors.Vocab object at 0x7fe95dd9d128>, 'begannen': <gensim.models.keyedvectors.Vocab object at 0x7fe95dd9d160>, 'erreichen.': <gensim.models.keyedvectors.Vocab object at 0x7fe95dd9d198>, 'Vor': <gensim.models.keyedvectors.Vocab object at 0x7fe95dd9d1d0>, 'jeden': <gensim.models.keyedvectors.Vocab object at 0x7fe95dd9d208>, 'musste.': <gensim.models.keyedvectors.Vocab object at 0x7fe95dd9d240>, 'längst': <gensim.models.keyedvectors.Vocab object at 0x7fe95dd9d278>, 'Seine': <gensim.models.keyedvectors.Vocab object at 0x7fe95dd9d2b0>, 'lieber': <gensim.models.keyedvectors.Vocab object at 0x7fe95dd9d2e8>, '3.': <gensim.models.keyedvectors.Vocab object at 0x7fe95dd9d320>, 'Strasse': <gensim.models.keyedvectors.Vocab object at 0x7fe95dd9d358>, 'entlang': <gensim.models.keyedvectors.Vocab object at 0x7fe95dd9d390>, 'Felsen,': <gensim.models.keyedvectors.Vocab object at 0x7fe95dd9d3c8>, 'dafür': <gensim.models.keyedvectors.Vocab object at 0x7fe95dd9d400>, '(von': <gensim.models.keyedvectors.Vocab object at 0x7fe95dd9d438>, 'Fortsetzung': <gensim.models.keyedvectors.Vocab object at 0x7fe95dd9d470>, 'Thal,': <gensim.models.keyedvectors.Vocab object at 0x7fe95dd9d4a8>, 'mit_ihren': <gensim.models.keyedvectors.Vocab object at 0x7fe95dd9d4e0>, 'Felswände': <gensim.models.keyedvectors.Vocab object at 0x7fe95dd9d518>, 'neuen': <gensim.models.keyedvectors.Vocab object at 0x7fe95dd9d550>, 'Zeit,': <gensim.models.keyedvectors.Vocab object at 0x7fe95dd9d588>, 'Grenzen': <gensim.models.keyedvectors.Vocab object at 0x7fe95dd9d5c0>, 'Reichenspitze': <gensim.models.keyedvectors.Vocab object at 0x7fe95dd9d5f8>, 'Gerlos': <gensim.models.keyedvectors.Vocab object at 0x7fe95dd9d630>, 'Erst': <gensim.models.keyedvectors.Vocab object at 0x7fe95dd9d668>, '1867': <gensim.models.keyedvectors.Vocab object at 0x7fe95dd9d6a0>, 'aller': <gensim.models.keyedvectors.Vocab object at 0x7fe95dd9d6d8>, 'jedes': <gensim.models.keyedvectors.Vocab object at 0x7fe95dd9d710>, 'Leute': <gensim.models.keyedvectors.Vocab object at 0x7fe95dd9d748>, 'selbst,': <gensim.models.keyedvectors.Vocab object at 0x7fe95dd9d780>, 'wusste': <gensim.models.keyedvectors.Vocab object at 0x7fe95dd9d7b8>, 'schön': <gensim.models.keyedvectors.Vocab object at 0x7fe95dd9d7f0>, 'fort.': <gensim.models.keyedvectors.Vocab object at 0x7fe95dd9d828>, 'erstenmale': <gensim.models.keyedvectors.Vocab object at 0x7fe95dd9d860>, 'anders': <gensim.models.keyedvectors.Vocab object at 0x7fe95dd9d898>, 'führt': <gensim.models.keyedvectors.Vocab object at 0x7fe95dd9d8d0>, 'Gipfel.': <gensim.models.keyedvectors.Vocab object at 0x7fe95dd9d908>, 'Unser': <gensim.models.keyedvectors.Vocab object at 0x7fe95dd9d940>, 'überschreiten,': <gensim.models.keyedvectors.Vocab object at 0x7fe95dd9d978>, 'verliess': <gensim.models.keyedvectors.Vocab object at 0x7fe95dd9d9b0>, 'Schlüsse': <gensim.models.keyedvectors.Vocab object at 0x7fe95dd9d9e8>, 'Olperer': <gensim.models.keyedvectors.Vocab object at 0x7fe95dd9da20>, 'Gewissheit': <gensim.models.keyedvectors.Vocab object at 0x7fe95dd9da58>, 'Sein': <gensim.models.keyedvectors.Vocab object at 0x7fe95dd9da90>, 'ewigen': <gensim.models.keyedvectors.Vocab object at 0x7fe95dd9dac8>, 'worden.': <gensim.models.keyedvectors.Vocab object at 0x7fe95dd9db00>, 'überschreiten': <gensim.models.keyedvectors.Vocab object at 0x7fe95dd9db38>, 'zwar': <gensim.models.keyedvectors.Vocab object at 0x7fe95dd9db70>, 'gewissen': <gensim.models.keyedvectors.Vocab object at 0x7fe95dd9dba8>, 'Peter': <gensim.models.keyedvectors.Vocab object at 0x7fe95dd9dbe0>, 'Barometer': <gensim.models.keyedvectors.Vocab object at 0x7fe95dd9dc18>, 'Gelingen': <gensim.models.keyedvectors.Vocab object at 0x7fe95dd9dc50>, 'Worte': <gensim.models.keyedvectors.Vocab object at 0x7fe95dd9dc88>, 'wollten': <gensim.models.keyedvectors.Vocab object at 0x7fe95dd9dcc0>, 'früh': <gensim.models.keyedvectors.Vocab object at 0x7fe95dd9dcf8>, 'Gewitter': <gensim.models.keyedvectors.Vocab object at 0x7fe95dd9dd30>, 'u.s.w.': <gensim.models.keyedvectors.Vocab object at 0x7fe95dd9dd68>, 'unserem': <gensim.models.keyedvectors.Vocab object at 0x7fe95dd9dda0>, 'eigentliche': <gensim.models.keyedvectors.Vocab object at 0x7fe95dd9ddd8>, 'erreichten': <gensim.models.keyedvectors.Vocab object at 0x7fe95dd9de10>, 'massig': <gensim.models.keyedvectors.Vocab object at 0x7fe95dd9de48>, 'grosses': <gensim.models.keyedvectors.Vocab object at 0x7fe95dd9de80>, 'M.': <gensim.models.keyedvectors.Vocab object at 0x7fe95dd9deb8>, 'völlig': <gensim.models.keyedvectors.Vocab object at 0x7fe95dd9def0>, 'würden.': <gensim.models.keyedvectors.Vocab object at 0x7fe95dd9df28>, 'Geröll': <gensim.models.keyedvectors.Vocab object at 0x7fe95dd9df60>, 'Spalten': <gensim.models.keyedvectors.Vocab object at 0x7fe95dd9df98>, 'Wir_haben': <gensim.models.keyedvectors.Vocab object at 0x7fe95dd9dfd0>, 'Zeiten': <gensim.models.keyedvectors.Vocab object at 0x7fe95dda0048>, 'Hinderniss': <gensim.models.keyedvectors.Vocab object at 0x7fe95dda0080>, 'Felswand': <gensim.models.keyedvectors.Vocab object at 0x7fe95dda00b8>, 'folgte': <gensim.models.keyedvectors.Vocab object at 0x7fe95dda00f0>, 'gieng': <gensim.models.keyedvectors.Vocab object at 0x7fe95dda0128>, 'sogenannten': <gensim.models.keyedvectors.Vocab object at 0x7fe95dda0160>, 'zeigt': <gensim.models.keyedvectors.Vocab object at 0x7fe95dda0198>, 'Bahn': <gensim.models.keyedvectors.Vocab object at 0x7fe95dda01d0>, 'Schritten': <gensim.models.keyedvectors.Vocab object at 0x7fe95dda0208>, 'Raum': <gensim.models.keyedvectors.Vocab object at 0x7fe95dda0240>, 'Unsere': <gensim.models.keyedvectors.Vocab object at 0x7fe95dda0278>, 'Freude': <gensim.models.keyedvectors.Vocab object at 0x7fe95dda02b0>, 'Herzen': <gensim.models.keyedvectors.Vocab object at 0x7fe95dda02e8>, 'viele': <gensim.models.keyedvectors.Vocab object at 0x7fe95dda0320>, 'alte': <gensim.models.keyedvectors.Vocab object at 0x7fe95dda0358>, 'müssen': <gensim.models.keyedvectors.Vocab object at 0x7fe95dda0390>, 'kamen': <gensim.models.keyedvectors.Vocab object at 0x7fe95dda03c8>, 'Wolken': <gensim.models.keyedvectors.Vocab object at 0x7fe95dda0400>, 'Spuren': <gensim.models.keyedvectors.Vocab object at 0x7fe95dda0438>, 'Fahrt': <gensim.models.keyedvectors.Vocab object at 0x7fe95dda0470>, 'Stüdl': <gensim.models.keyedvectors.Vocab object at 0x7fe95dda04a8>, 'Gebiete': <gensim.models.keyedvectors.Vocab object at 0x7fe95dda04e0>, 'Grossglockner': <gensim.models.keyedvectors.Vocab object at 0x7fe95dda0518>, 'Gruppe,': <gensim.models.keyedvectors.Vocab object at 0x7fe95dda0550>, 'Gebirgsstock': <gensim.models.keyedvectors.Vocab object at 0x7fe95dda0588>, 'Glockner': <gensim.models.keyedvectors.Vocab object at 0x7fe95dda05c0>, 'Erbauung': <gensim.models.keyedvectors.Vocab object at 0x7fe95dda05f8>, 'Stüdlhütte': <gensim.models.keyedvectors.Vocab object at 0x7fe95dda0630>, 'Reihe': <gensim.models.keyedvectors.Vocab object at 0x7fe95dda0668>, 'der_Glocknergruppe': <gensim.models.keyedvectors.Vocab object at 0x7fe95dda06a0>, 'Dr._A.': <gensim.models.keyedvectors.Vocab object at 0x7fe95dda06d8>, 'österreichischen': <gensim.models.keyedvectors.Vocab object at 0x7fe95dda0710>, 'Wiesbachhorn': <gensim.models.keyedvectors.Vocab object at 0x7fe95dda0748>, 'Johannisberg,': <gensim.models.keyedvectors.Vocab object at 0x7fe95dda0780>, 'bloss': <gensim.models.keyedvectors.Vocab object at 0x7fe95dda07b8>, 'v._Ruthner': <gensim.models.keyedvectors.Vocab object at 0x7fe95dda07f0>, 'Dr.': <gensim.models.keyedvectors.Vocab object at 0x7fe95dda0828>, 'bekannte': <gensim.models.keyedvectors.Vocab object at 0x7fe95dda0860>, 'Oedenwinkelscharte': <gensim.models.keyedvectors.Vocab object at 0x7fe95dda0898>, 'Riffelthor': <gensim.models.keyedvectors.Vocab object at 0x7fe95dda08d0>, 'statt': <gensim.models.keyedvectors.Vocab object at 0x7fe95dda0908>, 'Nord': <gensim.models.keyedvectors.Vocab object at 0x7fe95dda0940>, 'Pasterze': <gensim.models.keyedvectors.Vocab object at 0x7fe95dda0978>, 'Heiligenblut': <gensim.models.keyedvectors.Vocab object at 0x7fe95dda09b0>, 'Kaprun': <gensim.models.keyedvectors.Vocab object at 0x7fe95dda09e8>, 'gehen.': <gensim.models.keyedvectors.Vocab object at 0x7fe95dda0a20>, 'Kurzem': <gensim.models.keyedvectors.Vocab object at 0x7fe95dda0a58>, 'bedeutendsten': <gensim.models.keyedvectors.Vocab object at 0x7fe95dda0a90>, 'vielmehr': <gensim.models.keyedvectors.Vocab object at 0x7fe95dda0ac8>, 'Glocknerkamm': <gensim.models.keyedvectors.Vocab object at 0x7fe95dda0b00>, 'Stubach-Kalser': <gensim.models.keyedvectors.Vocab object at 0x7fe95dda0b38>, 'Tauern': <gensim.models.keyedvectors.Vocab object at 0x7fe95dda0b70>, 'Westen,': <gensim.models.keyedvectors.Vocab object at 0x7fe95dda0ba8>, 'Heiligenbluter': <gensim.models.keyedvectors.Vocab object at 0x7fe95dda0be0>, 'Velber': <gensim.models.keyedvectors.Vocab object at 0x7fe95dda0c18>, 'Tauern,': <gensim.models.keyedvectors.Vocab object at 0x7fe95dda0c50>, 'volle': <gensim.models.keyedvectors.Vocab object at 0x7fe95dda0c88>, 'Bogen': <gensim.models.keyedvectors.Vocab object at 0x7fe95dda0cc0>, 'beständig': <gensim.models.keyedvectors.Vocab object at 0x7fe95dda0cf8>, 'Umrandung': <gensim.models.keyedvectors.Vocab object at 0x7fe95dda0d30>, 'Eiskögele': <gensim.models.keyedvectors.Vocab object at 0x7fe95dda0d68>, 'Knotenpunkt': <gensim.models.keyedvectors.Vocab object at 0x7fe95dda0da0>, 'Winkel': <gensim.models.keyedvectors.Vocab object at 0x7fe95dda0dd8>, 'Einsenkung': <gensim.models.keyedvectors.Vocab object at 0x7fe95dda0e10>, 'Johannisberg': <gensim.models.keyedvectors.Vocab object at 0x7fe95dda0e48>, 'gegen_Osten': <gensim.models.keyedvectors.Vocab object at 0x7fe95dda0e80>, 'Pasterzengletscher': <gensim.models.keyedvectors.Vocab object at 0x7fe95dda0eb8>, 'Oedenwinkelgletscher': <gensim.models.keyedvectors.Vocab object at 0x7fe95dda0ef0>, 'Bärenkopf': <gensim.models.keyedvectors.Vocab object at 0x7fe95dda0f28>, 'fort,': <gensim.models.keyedvectors.Vocab object at 0x7fe95dda0f60>, 'letzteres': <gensim.models.keyedvectors.Vocab object at 0x7fe95dda0f98>, 'Schneewinkelkopf': <gensim.models.keyedvectors.Vocab object at 0x7fe95dda0fd0>, 'davon': <gensim.models.keyedvectors.Vocab object at 0x7fe95dda3048>, 'genannten': <gensim.models.keyedvectors.Vocab object at 0x7fe95dda3080>, 'Scharte,': <gensim.models.keyedvectors.Vocab object at 0x7fe95dda30b8>, 'Besuche': <gensim.models.keyedvectors.Vocab object at 0x7fe95dda30f0>, 'höchstens': <gensim.models.keyedvectors.Vocab object at 0x7fe95dda3128>, 'Uebergänge': <gensim.models.keyedvectors.Vocab object at 0x7fe95dda3160>, 'der_Hohen': <gensim.models.keyedvectors.Vocab object at 0x7fe95dda3198>, 'Tauern.': <gensim.models.keyedvectors.Vocab object at 0x7fe95dda31d0>, 'Glocknergruppe,': <gensim.models.keyedvectors.Vocab object at 0x7fe95dda3208>, 'Kalser': <gensim.models.keyedvectors.Vocab object at 0x7fe95dda3240>, 'jetzigen': <gensim.models.keyedvectors.Vocab object at 0x7fe95dda3278>, 'Benennung': <gensim.models.keyedvectors.Vocab object at 0x7fe95dda32b0>, '9_Uhr': <gensim.models.keyedvectors.Vocab object at 0x7fe95dda32e8>, 'riesigen': <gensim.models.keyedvectors.Vocab object at 0x7fe95dda3320>, 'Angriff': <gensim.models.keyedvectors.Vocab object at 0x7fe95dda3358>, 'Gefahren': <gensim.models.keyedvectors.Vocab object at 0x7fe95dda3390>, 'Thomas': <gensim.models.keyedvectors.Vocab object at 0x7fe95dda33c8>, 'Groder': <gensim.models.keyedvectors.Vocab object at 0x7fe95dda3400>, 'kühn': <gensim.models.keyedvectors.Vocab object at 0x7fe95dda3438>, 'Riffel': <gensim.models.keyedvectors.Vocab object at 0x7fe95dda3470>, 'Pyramide': <gensim.models.keyedvectors.Vocab object at 0x7fe95dda34a8>, 'Augen': <gensim.models.keyedvectors.Vocab object at 0x7fe95dda34e0>, 'wiederholten': <gensim.models.keyedvectors.Vocab object at 0x7fe95dda3518>, 'Malen': <gensim.models.keyedvectors.Vocab object at 0x7fe95dda3550>, 'genommen': <gensim.models.keyedvectors.Vocab object at 0x7fe95dda3588>, 'stets': <gensim.models.keyedvectors.Vocab object at 0x7fe95dda35c0>, 'geworden,': <gensim.models.keyedvectors.Vocab object at 0x7fe95dda35f8>, 'Betreten': <gensim.models.keyedvectors.Vocab object at 0x7fe95dda3630>, 'Johannishütte': <gensim.models.keyedvectors.Vocab object at 0x7fe95dda3668>, 'Obersten': <gensim.models.keyedvectors.Vocab object at 0x7fe95dda36a0>, 'Pasterzenboden': <gensim.models.keyedvectors.Vocab object at 0x7fe95dda36d8>, 'Kaprunerthal': <gensim.models.keyedvectors.Vocab object at 0x7fe95dda3710>, 'Erreichung': <gensim.models.keyedvectors.Vocab object at 0x7fe95dda3748>, 'Gipfels': <gensim.models.keyedvectors.Vocab object at 0x7fe95dda3780>, 'Gegensatz': <gensim.models.keyedvectors.Vocab object at 0x7fe95dda37b8>, 'rings': <gensim.models.keyedvectors.Vocab object at 0x7fe95dda37f0>, 'Punkte': <gensim.models.keyedvectors.Vocab object at 0x7fe95dda3828>, 'solchen': <gensim.models.keyedvectors.Vocab object at 0x7fe95dda3860>, 'erstere': <gensim.models.keyedvectors.Vocab object at 0x7fe95dda3898>, 'Kaprunerthale': <gensim.models.keyedvectors.Vocab object at 0x7fe95dda38d0>, 'Abstieg': <gensim.models.keyedvectors.Vocab object at 0x7fe95dda3908>, '¼': <gensim.models.keyedvectors.Vocab object at 0x7fe95dda3940>, 'interessante': <gensim.models.keyedvectors.Vocab object at 0x7fe95dda3978>, 'Karlingergletscher': <gensim.models.keyedvectors.Vocab object at 0x7fe95dda39b0>, 'Kapruner': <gensim.models.keyedvectors.Vocab object at 0x7fe95dda39e8>, 'empor.': <gensim.models.keyedvectors.Vocab object at 0x7fe95dda3a20>, 'Johann': <gensim.models.keyedvectors.Vocab object at 0x7fe95dda3a58>, 'Expedition': <gensim.models.keyedvectors.Vocab object at 0x7fe95dda3a90>, 'Touristen,': <gensim.models.keyedvectors.Vocab object at 0x7fe95dda3ac8>, 'gänzlich': <gensim.models.keyedvectors.Vocab object at 0x7fe95dda3b00>, 'benützt': <gensim.models.keyedvectors.Vocab object at 0x7fe95dda3b38>, 'Herz': <gensim.models.keyedvectors.Vocab object at 0x7fe95dda3b70>, 'ca.': <gensim.models.keyedvectors.Vocab object at 0x7fe95dda3ba8>, '1_½': <gensim.models.keyedvectors.Vocab object at 0x7fe95dda3be0>, 'zurück,': <gensim.models.keyedvectors.Vocab object at 0x7fe95dda3c18>, 'Mooserboden': <gensim.models.keyedvectors.Vocab object at 0x7fe95dda3c50>, 'Hinabweg': <gensim.models.keyedvectors.Vocab object at 0x7fe95dda3c88>, 'Wasserfallalpe': <gensim.models.keyedvectors.Vocab object at 0x7fe95dda3cc0>, '9': <gensim.models.keyedvectors.Vocab object at 0x7fe95dda3cf8>, 'Pass': <gensim.models.keyedvectors.Vocab object at 0x7fe95dda3d30>, 'gewählt': <gensim.models.keyedvectors.Vocab object at 0x7fe95dda3d68>, 'Met.,': <gensim.models.keyedvectors.Vocab object at 0x7fe95dda3da0>, 'Prof.': <gensim.models.keyedvectors.Vocab object at 0x7fe95dda3dd8>, 'Beide': <gensim.models.keyedvectors.Vocab object at 0x7fe95dda3e10>, 'Fuscherthale': <gensim.models.keyedvectors.Vocab object at 0x7fe95dda3e48>, 'Pfandlscharte': <gensim.models.keyedvectors.Vocab object at 0x7fe95dda3e80>, 'Gang': <gensim.models.keyedvectors.Vocab object at 0x7fe95dda3eb8>, '18.': <gensim.models.keyedvectors.Vocab object at 0x7fe95dda3ef0>, 'Begleiter': <gensim.models.keyedvectors.Vocab object at 0x7fe95dda3f28>, 'erwähnt,': <gensim.models.keyedvectors.Vocab object at 0x7fe95dda3f60>, 'Adlersruhe': <gensim.models.keyedvectors.Vocab object at 0x7fe95dda3f98>, 'erstiegen,': <gensim.models.keyedvectors.Vocab object at 0x7fe95dda3fd0>, 'Glocknerwand': <gensim.models.keyedvectors.Vocab object at 0x7fe95dda7048>, 'befindet.': <gensim.models.keyedvectors.Vocab object at 0x7fe95dda7080>, '5.': <gensim.models.keyedvectors.Vocab object at 0x7fe95dda70b8>, 'erwähnt': <gensim.models.keyedvectors.Vocab object at 0x7fe95dda70f0>, 'mehreren': <gensim.models.keyedvectors.Vocab object at 0x7fe95dda7128>, 'günstiger': <gensim.models.keyedvectors.Vocab object at 0x7fe95dda7160>, 'Fusch': <gensim.models.keyedvectors.Vocab object at 0x7fe95dda7198>, 'Grossen_Wiesbachhorn': <gensim.models.keyedvectors.Vocab object at 0x7fe95dda71d0>, 'nördliche': <gensim.models.keyedvectors.Vocab object at 0x7fe95dda7208>, 'Salzach': <gensim.models.keyedvectors.Vocab object at 0x7fe95dda7240>, 'Wiesbachhorn,': <gensim.models.keyedvectors.Vocab object at 0x7fe95dda7278>, 'M.,': <gensim.models.keyedvectors.Vocab object at 0x7fe95dda72b0>, 'Glockerin': <gensim.models.keyedvectors.Vocab object at 0x7fe95dda72e8>, 'überragt': <gensim.models.keyedvectors.Vocab object at 0x7fe95dda7320>, 'Kals,': <gensim.models.keyedvectors.Vocab object at 0x7fe95dda7358>, 'neuerdings': <gensim.models.keyedvectors.Vocab object at 0x7fe95dda7390>, 'gelegen,': <gensim.models.keyedvectors.Vocab object at 0x7fe95dda73c8>, 'Ferleiten': <gensim.models.keyedvectors.Vocab object at 0x7fe95dda7400>, 'Bergen': <gensim.models.keyedvectors.Vocab object at 0x7fe95dda7438>, 'Fuscherthal': <gensim.models.keyedvectors.Vocab object at 0x7fe95dda7470>, 'hiebei': <gensim.models.keyedvectors.Vocab object at 0x7fe95dda74a8>, 'hierüber': <gensim.models.keyedvectors.Vocab object at 0x7fe95dda74e0>, 'furchtbar': <gensim.models.keyedvectors.Vocab object at 0x7fe95dda7518>, 'Gegensätze': <gensim.models.keyedvectors.Vocab object at 0x7fe95dda7550>, 'letztgenannten': <gensim.models.keyedvectors.Vocab object at 0x7fe95dda7588>, 'meist': <gensim.models.keyedvectors.Vocab object at 0x7fe95dda75c0>, 'befindet,': <gensim.models.keyedvectors.Vocab object at 0x7fe95dda75f8>, 'Sattel': <gensim.models.keyedvectors.Vocab object at 0x7fe95dda7630>, 'halber': <gensim.models.keyedvectors.Vocab object at 0x7fe95dda7668>, 'Alle': <gensim.models.keyedvectors.Vocab object at 0x7fe95dda76a0>, 'Aus': <gensim.models.keyedvectors.Vocab object at 0x7fe95dda76d8>, 'Haupt': <gensim.models.keyedvectors.Vocab object at 0x7fe95dda7710>, 'Stunden,': <gensim.models.keyedvectors.Vocab object at 0x7fe95dda7748>, 'Mal': <gensim.models.keyedvectors.Vocab object at 0x7fe95dda7780>, 'treffen': <gensim.models.keyedvectors.Vocab object at 0x7fe95dda77b8>, 'Sturm': <gensim.models.keyedvectors.Vocab object at 0x7fe95dda77f0>, 'ans': <gensim.models.keyedvectors.Vocab object at 0x7fe95dda7828>, 'Harpprecht': <gensim.models.keyedvectors.Vocab object at 0x7fe95dda7860>, 'A.': <gensim.models.keyedvectors.Vocab object at 0x7fe95dda7898>, 'Glück': <gensim.models.keyedvectors.Vocab object at 0x7fe95dda78d0>, 'Ebenso': <gensim.models.keyedvectors.Vocab object at 0x7fe95dda7908>, 'befindet': <gensim.models.keyedvectors.Vocab object at 0x7fe95dda7940>, 'Fuscher': <gensim.models.keyedvectors.Vocab object at 0x7fe95dda7978>, 'Rundschau': <gensim.models.keyedvectors.Vocab object at 0x7fe95dda79b0>, 'Ueberblick': <gensim.models.keyedvectors.Vocab object at 0x7fe95dda79e8>, 'Zeller': <gensim.models.keyedvectors.Vocab object at 0x7fe95dda7a20>, 'Land': <gensim.models.keyedvectors.Vocab object at 0x7fe95dda7a58>, 'Reisenden': <gensim.models.keyedvectors.Vocab object at 0x7fe95dda7a90>, 'können': <gensim.models.keyedvectors.Vocab object at 0x7fe95dda7ac8>, 'alten': <gensim.models.keyedvectors.Vocab object at 0x7fe95dda7b00>, 'machen.': <gensim.models.keyedvectors.Vocab object at 0x7fe95dda7b38>, 'Bildung': <gensim.models.keyedvectors.Vocab object at 0x7fe95dda7b70>, 'Hoffnung': <gensim.models.keyedvectors.Vocab object at 0x7fe95dda7ba8>, 'Ausführung': <gensim.models.keyedvectors.Vocab object at 0x7fe95dda7be0>, 'Grohmann': <gensim.models.keyedvectors.Vocab object at 0x7fe95dda7c18>, 'Sonklar,': <gensim.models.keyedvectors.Vocab object at 0x7fe95dda7c50>, 'Ganz': <gensim.models.keyedvectors.Vocab object at 0x7fe95dda7c88>, '2.': <gensim.models.keyedvectors.Vocab object at 0x7fe95dda7cc0>, 'Berg,': <gensim.models.keyedvectors.Vocab object at 0x7fe95dda7cf8>, 'verschiedene': <gensim.models.keyedvectors.Vocab object at 0x7fe95dda7d30>, 'könnte': <gensim.models.keyedvectors.Vocab object at 0x7fe95dda7d68>, 'richtige': <gensim.models.keyedvectors.Vocab object at 0x7fe95dda7da0>, 'baierischen': <gensim.models.keyedvectors.Vocab object at 0x7fe95dda7dd8>, 'einst': <gensim.models.keyedvectors.Vocab object at 0x7fe95dda7e10>, 'Gebirgsgruppe': <gensim.models.keyedvectors.Vocab object at 0x7fe95dda7e48>, 'will,': <gensim.models.keyedvectors.Vocab object at 0x7fe95dda7e80>, 'Blick_auf': <gensim.models.keyedvectors.Vocab object at 0x7fe95dda7eb8>, 'Möllthal': <gensim.models.keyedvectors.Vocab object at 0x7fe95dda7ef0>, 'solches': <gensim.models.keyedvectors.Vocab object at 0x7fe95dda7f28>, 'begann': <gensim.models.keyedvectors.Vocab object at 0x7fe95dda7f60>, 'Laufe': <gensim.models.keyedvectors.Vocab object at 0x7fe95dda7f98>, 'verbunden': <gensim.models.keyedvectors.Vocab object at 0x7fe95dda7fd0>, 'grossartig': <gensim.models.keyedvectors.Vocab object at 0x7fe95ddab048>, 'desto': <gensim.models.keyedvectors.Vocab object at 0x7fe95ddab080>, 'Partien': <gensim.models.keyedvectors.Vocab object at 0x7fe95ddab0b8>, 'Leser': <gensim.models.keyedvectors.Vocab object at 0x7fe95ddab0f0>, '¾': <gensim.models.keyedvectors.Vocab object at 0x7fe95ddab128>, '1.': <gensim.models.keyedvectors.Vocab object at 0x7fe95ddab160>, 'See,': <gensim.models.keyedvectors.Vocab object at 0x7fe95ddab198>, 'Tiroler': <gensim.models.keyedvectors.Vocab object at 0x7fe95ddab1d0>, 'sammt': <gensim.models.keyedvectors.Vocab object at 0x7fe95ddab208>, 'Endlich': <gensim.models.keyedvectors.Vocab object at 0x7fe95ddab240>, 'neue': <gensim.models.keyedvectors.Vocab object at 0x7fe95ddab278>, 'brach': <gensim.models.keyedvectors.Vocab object at 0x7fe95ddab2b0>, 'vorüber,': <gensim.models.keyedvectors.Vocab object at 0x7fe95ddab2e8>, 'genannt,': <gensim.models.keyedvectors.Vocab object at 0x7fe95ddab320>, 'mässig': <gensim.models.keyedvectors.Vocab object at 0x7fe95ddab358>, 'Rückblick': <gensim.models.keyedvectors.Vocab object at 0x7fe95ddab390>, 'Bewohner': <gensim.models.keyedvectors.Vocab object at 0x7fe95ddab3c8>, 'aufsteigenden': <gensim.models.keyedvectors.Vocab object at 0x7fe95ddab400>, 'Vegetation': <gensim.models.keyedvectors.Vocab object at 0x7fe95ddab438>, 'weissen': <gensim.models.keyedvectors.Vocab object at 0x7fe95ddab470>, 'Norden,': <gensim.models.keyedvectors.Vocab object at 0x7fe95ddab4a8>, 'sahen_wir': <gensim.models.keyedvectors.Vocab object at 0x7fe95ddab4e0>, 'senkrecht': <gensim.models.keyedvectors.Vocab object at 0x7fe95ddab518>, 'gerader': <gensim.models.keyedvectors.Vocab object at 0x7fe95ddab550>, 'bilden,': <gensim.models.keyedvectors.Vocab object at 0x7fe95ddab588>, 'hieher': <gensim.models.keyedvectors.Vocab object at 0x7fe95ddab5c0>, 'Charakter': <gensim.models.keyedvectors.Vocab object at 0x7fe95ddab5f8>, 'Damit': <gensim.models.keyedvectors.Vocab object at 0x7fe95ddab630>, 'Hofmann': <gensim.models.keyedvectors.Vocab object at 0x7fe95ddab668>, 'Wanderungen': <gensim.models.keyedvectors.Vocab object at 0x7fe95ddab6a0>, 'Uttendorf': <gensim.models.keyedvectors.Vocab object at 0x7fe95ddab6d8>, '21.': <gensim.models.keyedvectors.Vocab object at 0x7fe95ddab710>, 'Zell': <gensim.models.keyedvectors.Vocab object at 0x7fe95ddab748>, 'des_Steinernen': <gensim.models.keyedvectors.Vocab object at 0x7fe95ddab780>, 'Meeres': <gensim.models.keyedvectors.Vocab object at 0x7fe95ddab7b8>, 'Erinnerung': <gensim.models.keyedvectors.Vocab object at 0x7fe95ddab7f0>, 'herab,': <gensim.models.keyedvectors.Vocab object at 0x7fe95ddab828>, 'See': <gensim.models.keyedvectors.Vocab object at 0x7fe95ddab860>, 'zahlreiche': <gensim.models.keyedvectors.Vocab object at 0x7fe95ddab898>, 'sofort': <gensim.models.keyedvectors.Vocab object at 0x7fe95ddab8d0>, 'sieht': <gensim.models.keyedvectors.Vocab object at 0x7fe95ddab908>, 'Pinzgau': <gensim.models.keyedvectors.Vocab object at 0x7fe95ddab940>, 'Einen': <gensim.models.keyedvectors.Vocab object at 0x7fe95ddab978>, 'darf': <gensim.models.keyedvectors.Vocab object at 0x7fe95ddab9b0>, 'Nachmittag': <gensim.models.keyedvectors.Vocab object at 0x7fe95ddab9e8>, 'Proviant': <gensim.models.keyedvectors.Vocab object at 0x7fe95ddaba20>, 'Thomele': <gensim.models.keyedvectors.Vocab object at 0x7fe95ddaba58>, 'erkennen': <gensim.models.keyedvectors.Vocab object at 0x7fe95ddaba90>, 'Regionen': <gensim.models.keyedvectors.Vocab object at 0x7fe95ddabac8>, 'besitzt': <gensim.models.keyedvectors.Vocab object at 0x7fe95ddabb00>, 'Steiger': <gensim.models.keyedvectors.Vocab object at 0x7fe95ddabb38>, 'Stubachthal': <gensim.models.keyedvectors.Vocab object at 0x7fe95ddabb70>, 'Venediger': <gensim.models.keyedvectors.Vocab object at 0x7fe95ddabba8>, 'guter': <gensim.models.keyedvectors.Vocab object at 0x7fe95ddabbe0>, 'grüne': <gensim.models.keyedvectors.Vocab object at 0x7fe95ddabc18>, 'entgegen.': <gensim.models.keyedvectors.Vocab object at 0x7fe95ddabc50>, 'Kammhöhe': <gensim.models.keyedvectors.Vocab object at 0x7fe95ddabc88>, 'Kitzsteinhorn': <gensim.models.keyedvectors.Vocab object at 0x7fe95ddabcc0>, 'kommenden': <gensim.models.keyedvectors.Vocab object at 0x7fe95ddabcf8>, 'Melker': <gensim.models.keyedvectors.Vocab object at 0x7fe95ddabd30>, 'Augenblicke': <gensim.models.keyedvectors.Vocab object at 0x7fe95ddabd68>, 'Personen': <gensim.models.keyedvectors.Vocab object at 0x7fe95ddabda0>, 'Augenblick': <gensim.models.keyedvectors.Vocab object at 0x7fe95ddabdd8>, 'Thüre': <gensim.models.keyedvectors.Vocab object at 0x7fe95ddabe10>, 'zweiter': <gensim.models.keyedvectors.Vocab object at 0x7fe95ddabe48>, 'geneigten': <gensim.models.keyedvectors.Vocab object at 0x7fe95ddabe80>, 'Terrasse': <gensim.models.keyedvectors.Vocab object at 0x7fe95ddabeb8>, 'Schatten': <gensim.models.keyedvectors.Vocab object at 0x7fe95ddabef0>, 'dienen': <gensim.models.keyedvectors.Vocab object at 0x7fe95ddabf28>, 'Steine': <gensim.models.keyedvectors.Vocab object at 0x7fe95ddabf60>, 'festen': <gensim.models.keyedvectors.Vocab object at 0x7fe95ddabf98>, 'uns.': <gensim.models.keyedvectors.Vocab object at 0x7fe95ddabfd0>, 'manchmal': <gensim.models.keyedvectors.Vocab object at 0x7fe95ddae048>, 'Sonne': <gensim.models.keyedvectors.Vocab object at 0x7fe95ddae080>, 'Strahlen': <gensim.models.keyedvectors.Vocab object at 0x7fe95ddae0b8>, 'frei': <gensim.models.keyedvectors.Vocab object at 0x7fe95ddae0f0>, 'Pasterzengletschers': <gensim.models.keyedvectors.Vocab object at 0x7fe95ddae128>, 'langer': <gensim.models.keyedvectors.Vocab object at 0x7fe95ddae160>, 'sodann': <gensim.models.keyedvectors.Vocab object at 0x7fe95ddae198>, 'zur_Rechten': <gensim.models.keyedvectors.Vocab object at 0x7fe95ddae1d0>, 'erheben': <gensim.models.keyedvectors.Vocab object at 0x7fe95ddae208>, 'weisse': <gensim.models.keyedvectors.Vocab object at 0x7fe95ddae240>, 'Rauriser': <gensim.models.keyedvectors.Vocab object at 0x7fe95ddae278>, 'Mill.': <gensim.models.keyedvectors.Vocab object at 0x7fe95ddae2b0>, 'befanden': <gensim.models.keyedvectors.Vocab object at 0x7fe95ddae2e8>, 'sichtbaren': <gensim.models.keyedvectors.Vocab object at 0x7fe95ddae320>, 'Passage': <gensim.models.keyedvectors.Vocab object at 0x7fe95ddae358>, 'heutigen': <gensim.models.keyedvectors.Vocab object at 0x7fe95ddae390>, 'Abhänge': <gensim.models.keyedvectors.Vocab object at 0x7fe95ddae3c8>, 'Berchtesgadener': <gensim.models.keyedvectors.Vocab object at 0x7fe95ddae400>, 'senkrechten': <gensim.models.keyedvectors.Vocab object at 0x7fe95ddae438>, 'Bodens': <gensim.models.keyedvectors.Vocab object at 0x7fe95ddae470>, 'Uhr,': <gensim.models.keyedvectors.Vocab object at 0x7fe95ddae4a8>, 'freundlich': <gensim.models.keyedvectors.Vocab object at 0x7fe95ddae4e0>, 'Dorf': <gensim.models.keyedvectors.Vocab object at 0x7fe95ddae518>, 'Pfad': <gensim.models.keyedvectors.Vocab object at 0x7fe95ddae550>, 'Schwarzen': <gensim.models.keyedvectors.Vocab object at 0x7fe95ddae588>, 'fl.': <gensim.models.keyedvectors.Vocab object at 0x7fe95ddae5c0>, 'führte': <gensim.models.keyedvectors.Vocab object at 0x7fe95ddae5f8>, 'Gulden': <gensim.models.keyedvectors.Vocab object at 0x7fe95ddae630>, 'Regen': <gensim.models.keyedvectors.Vocab object at 0x7fe95ddae668>, 'zahlreichen': <gensim.models.keyedvectors.Vocab object at 0x7fe95ddae6a0>, 'kleines': <gensim.models.keyedvectors.Vocab object at 0x7fe95ddae6d8>, 'hinüber': <gensim.models.keyedvectors.Vocab object at 0x7fe95ddae710>, 'Ebene': <gensim.models.keyedvectors.Vocab object at 0x7fe95ddae748>, 'traf': <gensim.models.keyedvectors.Vocab object at 0x7fe95ddae780>, 'daselbst': <gensim.models.keyedvectors.Vocab object at 0x7fe95ddae7b8>, 'Herr_Dr.': <gensim.models.keyedvectors.Vocab object at 0x7fe95ddae7f0>, 'direct': <gensim.models.keyedvectors.Vocab object at 0x7fe95ddae828>, 'gelangen': <gensim.models.keyedvectors.Vocab object at 0x7fe95ddae860>, 'grösstentheils': <gensim.models.keyedvectors.Vocab object at 0x7fe95ddae898>, 'hervor,': <gensim.models.keyedvectors.Vocab object at 0x7fe95ddae8d0>, 'zeigen': <gensim.models.keyedvectors.Vocab object at 0x7fe95ddae908>, 'Klafter': <gensim.models.keyedvectors.Vocab object at 0x7fe95ddae940>, 'fortwährend': <gensim.models.keyedvectors.Vocab object at 0x7fe95ddae978>, 'Kette': <gensim.models.keyedvectors.Vocab object at 0x7fe95ddae9b0>, 'Algäu': <gensim.models.keyedvectors.Vocab object at 0x7fe95ddae9e8>, 'Daumen': <gensim.models.keyedvectors.Vocab object at 0x7fe95ddaea20>, 'günstige': <gensim.models.keyedvectors.Vocab object at 0x7fe95ddaea58>, 'nahezu': <gensim.models.keyedvectors.Vocab object at 0x7fe95ddaea90>, 'Bau': <gensim.models.keyedvectors.Vocab object at 0x7fe95ddaeac8>, '2_Stunden': <gensim.models.keyedvectors.Vocab object at 0x7fe95ddaeb00>, 'findet_man': <gensim.models.keyedvectors.Vocab object at 0x7fe95ddaeb38>, 'Bedeutung': <gensim.models.keyedvectors.Vocab object at 0x7fe95ddaeb70>, 'wollen.': <gensim.models.keyedvectors.Vocab object at 0x7fe95ddaeba8>, 'Grat,': <gensim.models.keyedvectors.Vocab object at 0x7fe95ddaebe0>, 'Temperatur': <gensim.models.keyedvectors.Vocab object at 0x7fe95ddaec18>, 'Dort': <gensim.models.keyedvectors.Vocab object at 0x7fe95ddaec50>, 'Schweiz': <gensim.models.keyedvectors.Vocab object at 0x7fe95ddaec88>, 'Masse': <gensim.models.keyedvectors.Vocab object at 0x7fe95ddaecc0>, 'sollten': <gensim.models.keyedvectors.Vocab object at 0x7fe95ddaecf8>, 'kurzem': <gensim.models.keyedvectors.Vocab object at 0x7fe95ddaed30>, 'Alpenpflanzen': <gensim.models.keyedvectors.Vocab object at 0x7fe95ddaed68>, 'folgten': <gensim.models.keyedvectors.Vocab object at 0x7fe95ddaeda0>, 'Senn': <gensim.models.keyedvectors.Vocab object at 0x7fe95ddaedd8>, 'Bruck': <gensim.models.keyedvectors.Vocab object at 0x7fe95ddaee10>, 'ihres': <gensim.models.keyedvectors.Vocab object at 0x7fe95ddaee48>, 'gewöhnlichen': <gensim.models.keyedvectors.Vocab object at 0x7fe95ddaee80>, 'erreichte': <gensim.models.keyedvectors.Vocab object at 0x7fe95ddaeeb8>, 'geringen': <gensim.models.keyedvectors.Vocab object at 0x7fe95ddaeef0>, 'fort': <gensim.models.keyedvectors.Vocab object at 0x7fe95ddaef28>, 'folgen': <gensim.models.keyedvectors.Vocab object at 0x7fe95ddaef60>, 'Stunden.': <gensim.models.keyedvectors.Vocab object at 0x7fe95ddaef98>, 'etc.': <gensim.models.keyedvectors.Vocab object at 0x7fe95ddaefd0>, 'Gesteine': <gensim.models.keyedvectors.Vocab object at 0x7fe95ddb2048>, 'Curat': <gensim.models.keyedvectors.Vocab object at 0x7fe95ddb2080>, 'Hr.': <gensim.models.keyedvectors.Vocab object at 0x7fe95ddb20b8>, 'Sache': <gensim.models.keyedvectors.Vocab object at 0x7fe95ddb20f0>, 'Vent': <gensim.models.keyedvectors.Vocab object at 0x7fe95ddb2128>, '45': <gensim.models.keyedvectors.Vocab object at 0x7fe95ddb2160>, 'setzte': <gensim.models.keyedvectors.Vocab object at 0x7fe95ddb2198>, 'Kar': <gensim.models.keyedvectors.Vocab object at 0x7fe95ddb21d0>, 'Abschied': <gensim.models.keyedvectors.Vocab object at 0x7fe95ddb2208>, 'Fluchtkogl': <gensim.models.keyedvectors.Vocab object at 0x7fe95ddb2240>, 'galt': <gensim.models.keyedvectors.Vocab object at 0x7fe95ddb2278>, '4.': <gensim.models.keyedvectors.Vocab object at 0x7fe95ddb22b0>, 'Hochjoch': <gensim.models.keyedvectors.Vocab object at 0x7fe95ddb22e8>, 'Hinteren': <gensim.models.keyedvectors.Vocab object at 0x7fe95ddb2320>, 'Moräne': <gensim.models.keyedvectors.Vocab object at 0x7fe95ddb2358>, 'Wildspitze': <gensim.models.keyedvectors.Vocab object at 0x7fe95ddb2390>, 'Weisskugel': <gensim.models.keyedvectors.Vocab object at 0x7fe95ddb23c8>, 'vollkommen': <gensim.models.keyedvectors.Vocab object at 0x7fe95ddb2400>, '7.': <gensim.models.keyedvectors.Vocab object at 0x7fe95ddb2438>, 'Hintere': <gensim.models.keyedvectors.Vocab object at 0x7fe95ddb2470>, 'Benützung': <gensim.models.keyedvectors.Vocab object at 0x7fe95ddb24a8>, 'resp.': <gensim.models.keyedvectors.Vocab object at 0x7fe95ddb24e0>, 'Alm': <gensim.models.keyedvectors.Vocab object at 0x7fe95ddb2518>, 'giengen': <gensim.models.keyedvectors.Vocab object at 0x7fe95ddb2550>, 'Hilfe': <gensim.models.keyedvectors.Vocab object at 0x7fe95ddb2588>, 'Meere': <gensim.models.keyedvectors.Vocab object at 0x7fe95ddb25c0>, 'Meer': <gensim.models.keyedvectors.Vocab object at 0x7fe95ddb25f8>, 'Plateau': <gensim.models.keyedvectors.Vocab object at 0x7fe95ddb2630>, 'Tauernkette': <gensim.models.keyedvectors.Vocab object at 0x7fe95ddb2668>, 'Thörl': <gensim.models.keyedvectors.Vocab object at 0x7fe95ddb26a0>, 'R.': <gensim.models.keyedvectors.Vocab object at 0x7fe95ddb26d8>, 'Beobachtung': <gensim.models.keyedvectors.Vocab object at 0x7fe95ddb2710>, 'man,': <gensim.models.keyedvectors.Vocab object at 0x7fe95ddb2748>, '8.': <gensim.models.keyedvectors.Vocab object at 0x7fe95ddb2780>, 'Krimmler': <gensim.models.keyedvectors.Vocab object at 0x7fe95ddb27b8>, 'Gerolle': <gensim.models.keyedvectors.Vocab object at 0x7fe95ddb27f0>, 'Ersteiger': <gensim.models.keyedvectors.Vocab object at 0x7fe95ddb2828>, 'zehn': <gensim.models.keyedvectors.Vocab object at 0x7fe95ddb2860>, 'Kessel': <gensim.models.keyedvectors.Vocab object at 0x7fe95ddb2898>, 'erhalten,': <gensim.models.keyedvectors.Vocab object at 0x7fe95ddb28d0>, 'Rundsicht': <gensim.models.keyedvectors.Vocab object at 0x7fe95ddb2908>, 'Grunde': <gensim.models.keyedvectors.Vocab object at 0x7fe95ddb2940>, 'Stadt': <gensim.models.keyedvectors.Vocab object at 0x7fe95ddb2978>, 'Stufe': <gensim.models.keyedvectors.Vocab object at 0x7fe95ddb29b0>, 'Pflanzen': <gensim.models.keyedvectors.Vocab object at 0x7fe95ddb29e8>, 'Menschen': <gensim.models.keyedvectors.Vocab object at 0x7fe95ddb2a20>, 'a': <gensim.models.keyedvectors.Vocab object at 0x7fe95ddb2a58>, 'betrachtet': <gensim.models.keyedvectors.Vocab object at 0x7fe95ddb2a90>, 'Kaiser': <gensim.models.keyedvectors.Vocab object at 0x7fe95ddb2ac8>, 'Süd': <gensim.models.keyedvectors.Vocab object at 0x7fe95ddb2b00>, '9.': <gensim.models.keyedvectors.Vocab object at 0x7fe95ddb2b38>, 'Spitze.': <gensim.models.keyedvectors.Vocab object at 0x7fe95ddb2b70>, 'Vernagtspitze': <gensim.models.keyedvectors.Vocab object at 0x7fe95ddb2ba8>, 'schöner': <gensim.models.keyedvectors.Vocab object at 0x7fe95ddb2be0>, 'Fast': <gensim.models.keyedvectors.Vocab object at 0x7fe95ddb2c18>, 'manches': <gensim.models.keyedvectors.Vocab object at 0x7fe95ddb2c50>, 'erfolgte': <gensim.models.keyedvectors.Vocab object at 0x7fe95ddb2c88>, 'Ursprung': <gensim.models.keyedvectors.Vocab object at 0x7fe95ddb2cc0>, 'Moränen': <gensim.models.keyedvectors.Vocab object at 0x7fe95ddb2cf8>, 'Schaubach': <gensim.models.keyedvectors.Vocab object at 0x7fe95ddb2d30>, 'Salzburger': <gensim.models.keyedvectors.Vocab object at 0x7fe95ddb2d68>, 'Sept.': <gensim.models.keyedvectors.Vocab object at 0x7fe95ddb2da0>, 'Kosten': <gensim.models.keyedvectors.Vocab object at 0x7fe95ddb2dd8>, '1870': <gensim.models.keyedvectors.Vocab object at 0x7fe95ddb2e10>, 'K.': <gensim.models.keyedvectors.Vocab object at 0x7fe95ddb2e48>, 'zudem': <gensim.models.keyedvectors.Vocab object at 0x7fe95ddb2e80>, 'E.': <gensim.models.keyedvectors.Vocab object at 0x7fe95ddb2eb8>, 'Bad': <gensim.models.keyedvectors.Vocab object at 0x7fe95ddb2ef0>, 'nach_Kals': <gensim.models.keyedvectors.Vocab object at 0x7fe95ddb2f28>, 'Langkofl': <gensim.models.keyedvectors.Vocab object at 0x7fe95ddb2f60>, 'alpine': <gensim.models.keyedvectors.Vocab object at 0x7fe95ddb2f98>, 'Loferer': <gensim.models.keyedvectors.Vocab object at 0x7fe95ddb2fd0>, 'm': <gensim.models.keyedvectors.Vocab object at 0x7fe95ddb6048>, 'hindurch': <gensim.models.keyedvectors.Vocab object at 0x7fe95ddb6080>, 'März': <gensim.models.keyedvectors.Vocab object at 0x7fe95ddb60b8>, 'Radstädter': <gensim.models.keyedvectors.Vocab object at 0x7fe95ddb60f0>, 'gebracht': <gensim.models.keyedvectors.Vocab object at 0x7fe95ddb6128>, 'rechte': <gensim.models.keyedvectors.Vocab object at 0x7fe95ddb6160>, 'Mitglied': <gensim.models.keyedvectors.Vocab object at 0x7fe95ddb6198>, 'L.,': <gensim.models.keyedvectors.Vocab object at 0x7fe95ddb61d0>, 'Früchte': <gensim.models.keyedvectors.Vocab object at 0x7fe95ddb6208>, 'Ache': <gensim.models.keyedvectors.Vocab object at 0x7fe95ddb6240>, 'Treffauer': <gensim.models.keyedvectors.Vocab object at 0x7fe95ddb6278>, 'Haltspitze': <gensim.models.keyedvectors.Vocab object at 0x7fe95ddb62b0>, 'Samen': <gensim.models.keyedvectors.Vocab object at 0x7fe95ddb62e8>, '1871': <gensim.models.keyedvectors.Vocab object at 0x7fe95ddb6320>, '§.': <gensim.models.keyedvectors.Vocab object at 0x7fe95ddb6358>, 'Antrag': <gensim.models.keyedvectors.Vocab object at 0x7fe95ddb6390>, 'Generalversammlung': <gensim.models.keyedvectors.Vocab object at 0x7fe95ddb63c8>, 'Centralausschusses': <gensim.models.keyedvectors.Vocab object at 0x7fe95ddb6400>, '§': <gensim.models.keyedvectors.Vocab object at 0x7fe95ddb6438>, 'Der_Ausschuss': <gensim.models.keyedvectors.Vocab object at 0x7fe95ddb6470>, 'den_Herren:': <gensim.models.keyedvectors.Vocab object at 0x7fe95ddb64a8>, 'Schriftführer.': <gensim.models.keyedvectors.Vocab object at 0x7fe95ddb64e0>, 'v.,': <gensim.models.keyedvectors.Vocab object at 0x7fe95ddb6518>, 'Dr.,': <gensim.models.keyedvectors.Vocab object at 0x7fe95ddb6550>, '»Ueber': <gensim.models.keyedvectors.Vocab object at 0x7fe95ddb6588>, 'Mitglieder-Verzeichniss:': <gensim.models.keyedvectors.Vocab object at 0x7fe95ddb65c0>, 'Vorstand.': <gensim.models.keyedvectors.Vocab object at 0x7fe95ddb65f8>, 'Vorträge': <gensim.models.keyedvectors.Vocab object at 0x7fe95ddb6630>, 'auswärts.': <gensim.models.keyedvectors.Vocab object at 0x7fe95ddb6668>, 'Cassier.': <gensim.models.keyedvectors.Vocab object at 0x7fe95ddb66a0>, 'Hochfeiler': <gensim.models.keyedvectors.Vocab object at 0x7fe95ddb66d8>, 'Exkursionen': <gensim.models.keyedvectors.Vocab object at 0x7fe95ddb6710>, 'Glöckners': <gensim.models.keyedvectors.Vocab object at 0x7fe95ddb6748>, 'Grossglockners': <gensim.models.keyedvectors.Vocab object at 0x7fe95ddb6780>, 'Mitglieder:': <gensim.models.keyedvectors.Vocab object at 0x7fe95ddb67b8>}\n"
     ]
    }
   ],
   "source": [
    "len(w2v_model.wv.vocab)\n",
    "print(w2v_model.wv.vocab)"
   ]
  },
  {
   "cell_type": "code",
   "execution_count": 33,
   "metadata": {
    "_uuid": "339207a733a1ac42fe60e32a29f9e5d5ca0a9275"
   },
   "outputs": [
    {
     "data": {
      "text/plain": [
       "[('Alpenvereins', 0.9488771557807922),\n",
       " ('Vereins', 0.8816549181938171),\n",
       " ('Sectionen', 0.8727765083312988),\n",
       " ('deutschen', 0.8522363901138306),\n",
       " ('Centralausschuss', 0.8506952524185181),\n",
       " ('Mitgliedern', 0.8389559984207153),\n",
       " ('Centralausschusses', 0.8316552639007568),\n",
       " ('Deutschen', 0.8224343061447144),\n",
       " ('Oesterreichischen', 0.8204638957977295),\n",
       " ('soll', 0.8202454447746277)]"
      ]
     },
     "execution_count": 33,
     "metadata": {},
     "output_type": "execute_result"
    }
   ],
   "source": [
    "w2v_model.wv.most_similar(positive=[\"Alpenverein\"])"
   ]
  },
  {
   "cell_type": "markdown",
   "metadata": {
    "_uuid": "773c0acc8750ba8e728ff261f2e9ec39694c245c"
   },
   "source": [
    "### t-SNE visualizations:\n",
    "t-SNE is a non-linear dimensionality reduction algorithm that attempts to represent high-dimensional data and the underlying relationships between vectors in a lower-dimensional space.<br>\n",
    "Here is a good tutorial on it: https://medium.com/@luckylwk/visualising-high-dimensional-datasets-using-pca-and-t-sne-in-python-8ef87e7915b"
   ]
  },
  {
   "cell_type": "code",
   "execution_count": 30,
   "metadata": {
    "_uuid": "27ec46110042fc28da900b1b344ae4e0692d5dc2"
   },
   "outputs": [],
   "source": [
    "import numpy as np\n",
    "import matplotlib.pyplot as plt\n",
    "%matplotlib inline\n",
    "\n",
    "\n",
    "from sklearn.decomposition import PCA\n",
    "from sklearn.manifold import TSNE"
   ]
  },
  {
   "cell_type": "markdown",
   "metadata": {
    "_uuid": "22693eaa25253b38cee3c5cd5db6b6fdddb575a4"
   },
   "source": [
    "Our goal in this section is to plot our 300 dimensions vectors into 2 dimensional graphs, and see if we can spot interesting patterns.<br>\n",
    "For that we are going to use t-SNE implementation from scikit-learn.\n",
    "\n",
    "To make the visualizations more relevant, we will look at the relationships between a query word (in <font color='red'>**red**</font>), its most similar words in the model (in <font color=\"blue\">**blue**</font>), and other words from the vocabulary (in <font color='green'>**green**</font>)."
   ]
  },
  {
   "cell_type": "code",
   "execution_count": 31,
   "metadata": {
    "_uuid": "489a7d160dcd92da0ce42a3b5b461368c9ffe5f1"
   },
   "outputs": [],
   "source": [
    "def tsnescatterplot(model, word, list_names):\n",
    "    \"\"\" Plot in seaborn the results from the t-SNE dimensionality reduction algorithm of the vectors of a query word,\n",
    "    its list of most similar words, and a list of words.\n",
    "    \"\"\"\n",
    "    arrays = np.empty((0, 300), dtype='f')\n",
    "    word_labels = [word]\n",
    "    color_list  = ['red']\n",
    "\n",
    "    # adds the vector of the query word\n",
    "    arrays = np.append(arrays, model.wv.__getitem__([word]), axis=0)\n",
    "    \n",
    "    # gets list of most similar words\n",
    "    close_words = model.wv.most_similar([word])\n",
    "    \n",
    "    # adds the vector for each of the closest words to the array\n",
    "    for wrd_score in close_words:\n",
    "        wrd_vector = model.wv.__getitem__([wrd_score[0]])\n",
    "        word_labels.append(wrd_score[0])\n",
    "        color_list.append('blue')\n",
    "        arrays = np.append(arrays, wrd_vector, axis=0)\n",
    "    \n",
    "    # adds the vector for each of the words from list_names to the array\n",
    "    for wrd in list_names:\n",
    "        wrd_vector = model.wv.__getitem__([wrd])\n",
    "        word_labels.append(wrd)\n",
    "        color_list.append('green')\n",
    "        arrays = np.append(arrays, wrd_vector, axis=0)\n",
    "        \n",
    "    # Reduces the dimensionality from 300 to 50 dimensions with PCA\n",
    "    reduc = PCA(n_components=30).fit_transform(arrays)\n",
    "    \n",
    "    # Finds t-SNE coordinates for 2 dimensions\n",
    "    np.set_printoptions(suppress=True)\n",
    "    \n",
    "    Y = TSNE(n_components=2, random_state=0, perplexity=15).fit_transform(reduc)\n",
    "    \n",
    "    # Sets everything up to plot\n",
    "    df = pd.DataFrame({'x': [x for x in Y[:, 0]],\n",
    "                       'y': [y for y in Y[:, 1]],\n",
    "                       'words': word_labels,\n",
    "                       'color': color_list})\n",
    "    \n",
    "    fig, _ = plt.subplots()\n",
    "    fig.set_size_inches(9, 9)\n",
    "    \n",
    "    # Basic plot\n",
    "    p1 = sns.regplot(data=df,\n",
    "                     x=\"x\",\n",
    "                     y=\"y\",\n",
    "                     fit_reg=False,\n",
    "                     marker=\"o\",\n",
    "                     scatter_kws={'s': 40,\n",
    "                                  'facecolors': df['color']\n",
    "                                 }\n",
    "                    )\n",
    "    \n",
    "    # Adds annotations one by one with a loop\n",
    "    for line in range(0, df.shape[0]):\n",
    "         p1.text(df[\"x\"][line],\n",
    "                 df['y'][line],\n",
    "                 '  ' + df[\"words\"][line].title(),\n",
    "                 horizontalalignment='left',\n",
    "                 verticalalignment='bottom', size='medium',\n",
    "                 color=df['color'][line],\n",
    "                 weight='normal'\n",
    "                ).set_size(15)\n",
    "\n",
    "    \n",
    "    plt.xlim(Y[:, 0].min()-50, Y[:, 0].max()+50)\n",
    "    plt.ylim(Y[:, 1].min()-50, Y[:, 1].max()+50)\n",
    "            \n",
    "    plt.title('t-SNE visualization for {}'.format(word.title()))\n",
    "    "
   ]
  },
  {
   "cell_type": "code",
   "execution_count": 34,
   "metadata": {
    "_uuid": "10c77b072f7c281f2be919341be116565c20d8a8"
   },
   "outputs": [
    {
     "ename": "ValueError",
     "evalue": "n_components=50 must be between 0 and min(n_samples, n_features)=21 with svd_solver='full'",
     "output_type": "error",
     "traceback": [
      "\u001b[0;31m---------------------------------------------------------------------------\u001b[0m",
      "\u001b[0;31mValueError\u001b[0m                                Traceback (most recent call last)",
      "\u001b[0;32m<ipython-input-34-2d51c6639747>\u001b[0m in \u001b[0;36m<module>\u001b[0;34m\u001b[0m\n\u001b[0;32m----> 1\u001b[0;31m \u001b[0mtsnescatterplot\u001b[0m\u001b[0;34m(\u001b[0m\u001b[0mw2v_model\u001b[0m\u001b[0;34m,\u001b[0m \u001b[0;34m'Alpenverein'\u001b[0m\u001b[0;34m,\u001b[0m \u001b[0;34m[\u001b[0m\u001b[0mi\u001b[0m\u001b[0;34m[\u001b[0m\u001b[0;36m0\u001b[0m\u001b[0;34m]\u001b[0m \u001b[0;32mfor\u001b[0m \u001b[0mi\u001b[0m \u001b[0;32min\u001b[0m \u001b[0mw2v_model\u001b[0m\u001b[0;34m.\u001b[0m\u001b[0mwv\u001b[0m\u001b[0;34m.\u001b[0m\u001b[0mmost_similar\u001b[0m\u001b[0;34m(\u001b[0m\u001b[0mnegative\u001b[0m\u001b[0;34m=\u001b[0m\u001b[0;34m[\u001b[0m\u001b[0;34m\"Alpenverein\"\u001b[0m\u001b[0;34m]\u001b[0m\u001b[0;34m)\u001b[0m\u001b[0;34m]\u001b[0m\u001b[0;34m)\u001b[0m\u001b[0;34m\u001b[0m\u001b[0;34m\u001b[0m\u001b[0m\n\u001b[0m",
      "\u001b[0;32m<ipython-input-31-a657630d5d0d>\u001b[0m in \u001b[0;36mtsnescatterplot\u001b[0;34m(model, word, list_names)\u001b[0m\n\u001b[1;32m     28\u001b[0m \u001b[0;34m\u001b[0m\u001b[0m\n\u001b[1;32m     29\u001b[0m     \u001b[0;31m# Reduces the dimensionality from 300 to 50 dimensions with PCA\u001b[0m\u001b[0;34m\u001b[0m\u001b[0;34m\u001b[0m\u001b[0;34m\u001b[0m\u001b[0m\n\u001b[0;32m---> 30\u001b[0;31m     \u001b[0mreduc\u001b[0m \u001b[0;34m=\u001b[0m \u001b[0mPCA\u001b[0m\u001b[0;34m(\u001b[0m\u001b[0mn_components\u001b[0m\u001b[0;34m=\u001b[0m\u001b[0;36m50\u001b[0m\u001b[0;34m)\u001b[0m\u001b[0;34m.\u001b[0m\u001b[0mfit_transform\u001b[0m\u001b[0;34m(\u001b[0m\u001b[0marrays\u001b[0m\u001b[0;34m)\u001b[0m\u001b[0;34m\u001b[0m\u001b[0;34m\u001b[0m\u001b[0m\n\u001b[0m\u001b[1;32m     31\u001b[0m \u001b[0;34m\u001b[0m\u001b[0m\n\u001b[1;32m     32\u001b[0m     \u001b[0;31m# Finds t-SNE coordinates for 2 dimensions\u001b[0m\u001b[0;34m\u001b[0m\u001b[0;34m\u001b[0m\u001b[0;34m\u001b[0m\u001b[0m\n",
      "\u001b[0;32m~/Documents/Studium/Master_Thesis/Jupyter/venv/lib/python3.6/site-packages/sklearn/decomposition/pca.py\u001b[0m in \u001b[0;36mfit_transform\u001b[0;34m(self, X, y)\u001b[0m\n\u001b[1;32m    358\u001b[0m \u001b[0;34m\u001b[0m\u001b[0m\n\u001b[1;32m    359\u001b[0m         \"\"\"\n\u001b[0;32m--> 360\u001b[0;31m         \u001b[0mU\u001b[0m\u001b[0;34m,\u001b[0m \u001b[0mS\u001b[0m\u001b[0;34m,\u001b[0m \u001b[0mV\u001b[0m \u001b[0;34m=\u001b[0m \u001b[0mself\u001b[0m\u001b[0;34m.\u001b[0m\u001b[0m_fit\u001b[0m\u001b[0;34m(\u001b[0m\u001b[0mX\u001b[0m\u001b[0;34m)\u001b[0m\u001b[0;34m\u001b[0m\u001b[0;34m\u001b[0m\u001b[0m\n\u001b[0m\u001b[1;32m    361\u001b[0m         \u001b[0mU\u001b[0m \u001b[0;34m=\u001b[0m \u001b[0mU\u001b[0m\u001b[0;34m[\u001b[0m\u001b[0;34m:\u001b[0m\u001b[0;34m,\u001b[0m \u001b[0;34m:\u001b[0m\u001b[0mself\u001b[0m\u001b[0;34m.\u001b[0m\u001b[0mn_components_\u001b[0m\u001b[0;34m]\u001b[0m\u001b[0;34m\u001b[0m\u001b[0;34m\u001b[0m\u001b[0m\n\u001b[1;32m    362\u001b[0m \u001b[0;34m\u001b[0m\u001b[0m\n",
      "\u001b[0;32m~/Documents/Studium/Master_Thesis/Jupyter/venv/lib/python3.6/site-packages/sklearn/decomposition/pca.py\u001b[0m in \u001b[0;36m_fit\u001b[0;34m(self, X)\u001b[0m\n\u001b[1;32m    405\u001b[0m         \u001b[0;31m# Call different fits for either full or truncated SVD\u001b[0m\u001b[0;34m\u001b[0m\u001b[0;34m\u001b[0m\u001b[0;34m\u001b[0m\u001b[0m\n\u001b[1;32m    406\u001b[0m         \u001b[0;32mif\u001b[0m \u001b[0mself\u001b[0m\u001b[0;34m.\u001b[0m\u001b[0m_fit_svd_solver\u001b[0m \u001b[0;34m==\u001b[0m \u001b[0;34m'full'\u001b[0m\u001b[0;34m:\u001b[0m\u001b[0;34m\u001b[0m\u001b[0;34m\u001b[0m\u001b[0m\n\u001b[0;32m--> 407\u001b[0;31m             \u001b[0;32mreturn\u001b[0m \u001b[0mself\u001b[0m\u001b[0;34m.\u001b[0m\u001b[0m_fit_full\u001b[0m\u001b[0;34m(\u001b[0m\u001b[0mX\u001b[0m\u001b[0;34m,\u001b[0m \u001b[0mn_components\u001b[0m\u001b[0;34m)\u001b[0m\u001b[0;34m\u001b[0m\u001b[0;34m\u001b[0m\u001b[0m\n\u001b[0m\u001b[1;32m    408\u001b[0m         \u001b[0;32melif\u001b[0m \u001b[0mself\u001b[0m\u001b[0;34m.\u001b[0m\u001b[0m_fit_svd_solver\u001b[0m \u001b[0;32min\u001b[0m \u001b[0;34m[\u001b[0m\u001b[0;34m'arpack'\u001b[0m\u001b[0;34m,\u001b[0m \u001b[0;34m'randomized'\u001b[0m\u001b[0;34m]\u001b[0m\u001b[0;34m:\u001b[0m\u001b[0;34m\u001b[0m\u001b[0;34m\u001b[0m\u001b[0m\n\u001b[1;32m    409\u001b[0m             \u001b[0;32mreturn\u001b[0m \u001b[0mself\u001b[0m\u001b[0;34m.\u001b[0m\u001b[0m_fit_truncated\u001b[0m\u001b[0;34m(\u001b[0m\u001b[0mX\u001b[0m\u001b[0;34m,\u001b[0m \u001b[0mn_components\u001b[0m\u001b[0;34m,\u001b[0m \u001b[0mself\u001b[0m\u001b[0;34m.\u001b[0m\u001b[0m_fit_svd_solver\u001b[0m\u001b[0;34m)\u001b[0m\u001b[0;34m\u001b[0m\u001b[0;34m\u001b[0m\u001b[0m\n",
      "\u001b[0;32m~/Documents/Studium/Master_Thesis/Jupyter/venv/lib/python3.6/site-packages/sklearn/decomposition/pca.py\u001b[0m in \u001b[0;36m_fit_full\u001b[0;34m(self, X, n_components)\u001b[0m\n\u001b[1;32m    424\u001b[0m                              \u001b[0;34m\"min(n_samples, n_features)=%r with \"\u001b[0m\u001b[0;34m\u001b[0m\u001b[0;34m\u001b[0m\u001b[0m\n\u001b[1;32m    425\u001b[0m                              \u001b[0;34m\"svd_solver='full'\"\u001b[0m\u001b[0;34m\u001b[0m\u001b[0;34m\u001b[0m\u001b[0m\n\u001b[0;32m--> 426\u001b[0;31m                              % (n_components, min(n_samples, n_features)))\n\u001b[0m\u001b[1;32m    427\u001b[0m         \u001b[0;32melif\u001b[0m \u001b[0mn_components\u001b[0m \u001b[0;34m>=\u001b[0m \u001b[0;36m1\u001b[0m\u001b[0;34m:\u001b[0m\u001b[0;34m\u001b[0m\u001b[0;34m\u001b[0m\u001b[0m\n\u001b[1;32m    428\u001b[0m             \u001b[0;32mif\u001b[0m \u001b[0;32mnot\u001b[0m \u001b[0misinstance\u001b[0m\u001b[0;34m(\u001b[0m\u001b[0mn_components\u001b[0m\u001b[0;34m,\u001b[0m \u001b[0;34m(\u001b[0m\u001b[0mnumbers\u001b[0m\u001b[0;34m.\u001b[0m\u001b[0mIntegral\u001b[0m\u001b[0;34m,\u001b[0m \u001b[0mnp\u001b[0m\u001b[0;34m.\u001b[0m\u001b[0minteger\u001b[0m\u001b[0;34m)\u001b[0m\u001b[0;34m)\u001b[0m\u001b[0;34m:\u001b[0m\u001b[0;34m\u001b[0m\u001b[0;34m\u001b[0m\u001b[0m\n",
      "\u001b[0;31mValueError\u001b[0m: n_components=50 must be between 0 and min(n_samples, n_features)=21 with svd_solver='full'"
     ]
    }
   ],
   "source": [
    "tsnescatterplot(w2v_model, 'Alpenverein', [i[0] for i in w2v_model.wv.most_similar(negative=[\"Alpenverein\"])])"
   ]
  },
  {
   "cell_type": "code",
   "execution_count": 35,
   "metadata": {},
   "outputs": [
    {
     "ename": "ValueError",
     "evalue": "n_components=50 must be between 0 and min(n_samples, n_features)=21 with svd_solver='full'",
     "output_type": "error",
     "traceback": [
      "\u001b[0;31m---------------------------------------------------------------------------\u001b[0m",
      "\u001b[0;31mValueError\u001b[0m                                Traceback (most recent call last)",
      "\u001b[0;32m<ipython-input-35-2d51c6639747>\u001b[0m in \u001b[0;36m<module>\u001b[0;34m\u001b[0m\n\u001b[0;32m----> 1\u001b[0;31m \u001b[0mtsnescatterplot\u001b[0m\u001b[0;34m(\u001b[0m\u001b[0mw2v_model\u001b[0m\u001b[0;34m,\u001b[0m \u001b[0;34m'Alpenverein'\u001b[0m\u001b[0;34m,\u001b[0m \u001b[0;34m[\u001b[0m\u001b[0mi\u001b[0m\u001b[0;34m[\u001b[0m\u001b[0;36m0\u001b[0m\u001b[0;34m]\u001b[0m \u001b[0;32mfor\u001b[0m \u001b[0mi\u001b[0m \u001b[0;32min\u001b[0m \u001b[0mw2v_model\u001b[0m\u001b[0;34m.\u001b[0m\u001b[0mwv\u001b[0m\u001b[0;34m.\u001b[0m\u001b[0mmost_similar\u001b[0m\u001b[0;34m(\u001b[0m\u001b[0mnegative\u001b[0m\u001b[0;34m=\u001b[0m\u001b[0;34m[\u001b[0m\u001b[0;34m\"Alpenverein\"\u001b[0m\u001b[0;34m]\u001b[0m\u001b[0;34m)\u001b[0m\u001b[0;34m]\u001b[0m\u001b[0;34m)\u001b[0m\u001b[0;34m\u001b[0m\u001b[0;34m\u001b[0m\u001b[0m\n\u001b[0m",
      "\u001b[0;32m<ipython-input-31-a657630d5d0d>\u001b[0m in \u001b[0;36mtsnescatterplot\u001b[0;34m(model, word, list_names)\u001b[0m\n\u001b[1;32m     28\u001b[0m \u001b[0;34m\u001b[0m\u001b[0m\n\u001b[1;32m     29\u001b[0m     \u001b[0;31m# Reduces the dimensionality from 300 to 50 dimensions with PCA\u001b[0m\u001b[0;34m\u001b[0m\u001b[0;34m\u001b[0m\u001b[0;34m\u001b[0m\u001b[0m\n\u001b[0;32m---> 30\u001b[0;31m     \u001b[0mreduc\u001b[0m \u001b[0;34m=\u001b[0m \u001b[0mPCA\u001b[0m\u001b[0;34m(\u001b[0m\u001b[0mn_components\u001b[0m\u001b[0;34m=\u001b[0m\u001b[0;36m50\u001b[0m\u001b[0;34m)\u001b[0m\u001b[0;34m.\u001b[0m\u001b[0mfit_transform\u001b[0m\u001b[0;34m(\u001b[0m\u001b[0marrays\u001b[0m\u001b[0;34m)\u001b[0m\u001b[0;34m\u001b[0m\u001b[0;34m\u001b[0m\u001b[0m\n\u001b[0m\u001b[1;32m     31\u001b[0m \u001b[0;34m\u001b[0m\u001b[0m\n\u001b[1;32m     32\u001b[0m     \u001b[0;31m# Finds t-SNE coordinates for 2 dimensions\u001b[0m\u001b[0;34m\u001b[0m\u001b[0;34m\u001b[0m\u001b[0;34m\u001b[0m\u001b[0m\n",
      "\u001b[0;32m~/Documents/Studium/Master_Thesis/Jupyter/venv/lib/python3.6/site-packages/sklearn/decomposition/pca.py\u001b[0m in \u001b[0;36mfit_transform\u001b[0;34m(self, X, y)\u001b[0m\n\u001b[1;32m    358\u001b[0m \u001b[0;34m\u001b[0m\u001b[0m\n\u001b[1;32m    359\u001b[0m         \"\"\"\n\u001b[0;32m--> 360\u001b[0;31m         \u001b[0mU\u001b[0m\u001b[0;34m,\u001b[0m \u001b[0mS\u001b[0m\u001b[0;34m,\u001b[0m \u001b[0mV\u001b[0m \u001b[0;34m=\u001b[0m \u001b[0mself\u001b[0m\u001b[0;34m.\u001b[0m\u001b[0m_fit\u001b[0m\u001b[0;34m(\u001b[0m\u001b[0mX\u001b[0m\u001b[0;34m)\u001b[0m\u001b[0;34m\u001b[0m\u001b[0;34m\u001b[0m\u001b[0m\n\u001b[0m\u001b[1;32m    361\u001b[0m         \u001b[0mU\u001b[0m \u001b[0;34m=\u001b[0m \u001b[0mU\u001b[0m\u001b[0;34m[\u001b[0m\u001b[0;34m:\u001b[0m\u001b[0;34m,\u001b[0m \u001b[0;34m:\u001b[0m\u001b[0mself\u001b[0m\u001b[0;34m.\u001b[0m\u001b[0mn_components_\u001b[0m\u001b[0;34m]\u001b[0m\u001b[0;34m\u001b[0m\u001b[0;34m\u001b[0m\u001b[0m\n\u001b[1;32m    362\u001b[0m \u001b[0;34m\u001b[0m\u001b[0m\n",
      "\u001b[0;32m~/Documents/Studium/Master_Thesis/Jupyter/venv/lib/python3.6/site-packages/sklearn/decomposition/pca.py\u001b[0m in \u001b[0;36m_fit\u001b[0;34m(self, X)\u001b[0m\n\u001b[1;32m    405\u001b[0m         \u001b[0;31m# Call different fits for either full or truncated SVD\u001b[0m\u001b[0;34m\u001b[0m\u001b[0;34m\u001b[0m\u001b[0;34m\u001b[0m\u001b[0m\n\u001b[1;32m    406\u001b[0m         \u001b[0;32mif\u001b[0m \u001b[0mself\u001b[0m\u001b[0;34m.\u001b[0m\u001b[0m_fit_svd_solver\u001b[0m \u001b[0;34m==\u001b[0m \u001b[0;34m'full'\u001b[0m\u001b[0;34m:\u001b[0m\u001b[0;34m\u001b[0m\u001b[0;34m\u001b[0m\u001b[0m\n\u001b[0;32m--> 407\u001b[0;31m             \u001b[0;32mreturn\u001b[0m \u001b[0mself\u001b[0m\u001b[0;34m.\u001b[0m\u001b[0m_fit_full\u001b[0m\u001b[0;34m(\u001b[0m\u001b[0mX\u001b[0m\u001b[0;34m,\u001b[0m \u001b[0mn_components\u001b[0m\u001b[0;34m)\u001b[0m\u001b[0;34m\u001b[0m\u001b[0;34m\u001b[0m\u001b[0m\n\u001b[0m\u001b[1;32m    408\u001b[0m         \u001b[0;32melif\u001b[0m \u001b[0mself\u001b[0m\u001b[0;34m.\u001b[0m\u001b[0m_fit_svd_solver\u001b[0m \u001b[0;32min\u001b[0m \u001b[0;34m[\u001b[0m\u001b[0;34m'arpack'\u001b[0m\u001b[0;34m,\u001b[0m \u001b[0;34m'randomized'\u001b[0m\u001b[0;34m]\u001b[0m\u001b[0;34m:\u001b[0m\u001b[0;34m\u001b[0m\u001b[0;34m\u001b[0m\u001b[0m\n\u001b[1;32m    409\u001b[0m             \u001b[0;32mreturn\u001b[0m \u001b[0mself\u001b[0m\u001b[0;34m.\u001b[0m\u001b[0m_fit_truncated\u001b[0m\u001b[0;34m(\u001b[0m\u001b[0mX\u001b[0m\u001b[0;34m,\u001b[0m \u001b[0mn_components\u001b[0m\u001b[0;34m,\u001b[0m \u001b[0mself\u001b[0m\u001b[0;34m.\u001b[0m\u001b[0m_fit_svd_solver\u001b[0m\u001b[0;34m)\u001b[0m\u001b[0;34m\u001b[0m\u001b[0;34m\u001b[0m\u001b[0m\n",
      "\u001b[0;32m~/Documents/Studium/Master_Thesis/Jupyter/venv/lib/python3.6/site-packages/sklearn/decomposition/pca.py\u001b[0m in \u001b[0;36m_fit_full\u001b[0;34m(self, X, n_components)\u001b[0m\n\u001b[1;32m    424\u001b[0m                              \u001b[0;34m\"min(n_samples, n_features)=%r with \"\u001b[0m\u001b[0;34m\u001b[0m\u001b[0;34m\u001b[0m\u001b[0m\n\u001b[1;32m    425\u001b[0m                              \u001b[0;34m\"svd_solver='full'\"\u001b[0m\u001b[0;34m\u001b[0m\u001b[0;34m\u001b[0m\u001b[0m\n\u001b[0;32m--> 426\u001b[0;31m                              % (n_components, min(n_samples, n_features)))\n\u001b[0m\u001b[1;32m    427\u001b[0m         \u001b[0;32melif\u001b[0m \u001b[0mn_components\u001b[0m \u001b[0;34m>=\u001b[0m \u001b[0;36m1\u001b[0m\u001b[0;34m:\u001b[0m\u001b[0;34m\u001b[0m\u001b[0;34m\u001b[0m\u001b[0m\n\u001b[1;32m    428\u001b[0m             \u001b[0;32mif\u001b[0m \u001b[0;32mnot\u001b[0m \u001b[0misinstance\u001b[0m\u001b[0;34m(\u001b[0m\u001b[0mn_components\u001b[0m\u001b[0;34m,\u001b[0m \u001b[0;34m(\u001b[0m\u001b[0mnumbers\u001b[0m\u001b[0;34m.\u001b[0m\u001b[0mIntegral\u001b[0m\u001b[0;34m,\u001b[0m \u001b[0mnp\u001b[0m\u001b[0;34m.\u001b[0m\u001b[0minteger\u001b[0m\u001b[0;34m)\u001b[0m\u001b[0;34m)\u001b[0m\u001b[0;34m:\u001b[0m\u001b[0;34m\u001b[0m\u001b[0;34m\u001b[0m\u001b[0m\n",
      "\u001b[0;31mValueError\u001b[0m: n_components=50 must be between 0 and min(n_samples, n_features)=21 with svd_solver='full'"
     ]
    }
   ],
   "source": [
    "tsnescatterplot(w2v_model, 'Alpenverein', [i[0] for i in w2v_model.wv.most_similar(negative=[\"Alpenverein\"])])"
   ]
  }
 ],
 "metadata": {
  "kernelspec": {
   "display_name": "Python 3",
   "language": "python",
   "name": "python3"
  },
  "language_info": {
   "codemirror_mode": {
    "name": "ipython",
    "version": 3
   },
   "file_extension": ".py",
   "mimetype": "text/x-python",
   "name": "python",
   "nbconvert_exporter": "python",
   "pygments_lexer": "ipython3",
   "version": "3.6.9"
  }
 },
 "nbformat": 4,
 "nbformat_minor": 1
}
